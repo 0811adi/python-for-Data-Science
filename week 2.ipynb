{
 "cells": [
  {
   "cell_type": "code",
   "execution_count": 1,
   "id": "566936bf",
   "metadata": {},
   "outputs": [
    {
     "name": "stdout",
     "output_type": "stream",
     "text": [
      "learning\n"
     ]
    }
   ],
   "source": [
    "strsample = 'learning'\n",
    "print(strsample)"
   ]
  },
  {
   "cell_type": "code",
   "execution_count": 2,
   "id": "409bfe07",
   "metadata": {},
   "outputs": [
    {
     "name": "stdout",
     "output_type": "stream",
     "text": [
      "[1, 2, 3, 3, 3, 4, 5]\n"
     ]
    }
   ],
   "source": [
    "lstnumber = [1,2,3,3,3,4,5]\n",
    "print(lstnumber)"
   ]
  },
  {
   "cell_type": "code",
   "execution_count": 3,
   "id": "52ecdcc2",
   "metadata": {},
   "outputs": [
    {
     "name": "stdout",
     "output_type": "stream",
     "text": [
      "[1, 2, 3, 'a', 'sam', 2]\n"
     ]
    }
   ],
   "source": [
    "lstsample = [1,2,3,'a','sam',2]\n",
    "print(lstsample)"
   ]
  },
  {
   "cell_type": "code",
   "execution_count": 4,
   "id": "7e4c0cb7",
   "metadata": {},
   "outputs": [
    {
     "name": "stdout",
     "output_type": "stream",
     "text": [
      "1\n",
      "2\n",
      "3\n",
      "4\n"
     ]
    }
   ],
   "source": [
    "from array import *   # importing array module\n",
    "\n",
    "arrsample = array('i',[1,2,3,4])   # array\n",
    "# print array sample\n",
    "for x in arrsample: print(x)"
   ]
  },
  {
   "cell_type": "code",
   "execution_count": 5,
   "id": "50142a5f",
   "metadata": {},
   "outputs": [],
   "source": [
    "tupsample = (1,2,3,4,3,'py')    # tuple"
   ]
  },
  {
   "cell_type": "code",
   "execution_count": 6,
   "id": "91c2b332",
   "metadata": {},
   "outputs": [
    {
     "name": "stdout",
     "output_type": "stream",
     "text": [
      "(1, 2, 'sample')\n"
     ]
    }
   ],
   "source": [
    "tuplesample = 1,2,'sample'     # tuple packing\n",
    "print(tuplesample)"
   ]
  },
  {
   "cell_type": "code",
   "execution_count": 7,
   "id": "8ae179b5",
   "metadata": {},
   "outputs": [
    {
     "name": "stdout",
     "output_type": "stream",
     "text": [
      "{1: 'first', 'second': 2, 3: 3, 'four': '4'}\n"
     ]
    }
   ],
   "source": [
    "dicsample = {1:'first' , 'second':2,3:3,'four':'4'}   # dictionary\n",
    "print(dicsample)"
   ]
  },
  {
   "cell_type": "code",
   "execution_count": 8,
   "id": "5bbc4074",
   "metadata": {},
   "outputs": [
    {
     "data": {
      "text/plain": [
       "{'first': 1, 'second': 2, 'four': 4}"
      ]
     },
     "execution_count": 8,
     "metadata": {},
     "output_type": "execute_result"
    }
   ],
   "source": [
    "# Creating dictionary using 'dict' keyword\n",
    "dict_list = dict([('first',1),('second',2),('four',4)])\n",
    "dict_list"
   ]
  },
  {
   "cell_type": "code",
   "execution_count": 9,
   "id": "6cfb46b1",
   "metadata": {},
   "outputs": [
    {
     "data": {
      "text/plain": [
       "{24, 87.5, 'data', 'example'}"
      ]
     },
     "execution_count": 9,
     "metadata": {},
     "output_type": "execute_result"
    }
   ],
   "source": [
    "setsample = {'example',24,87.5,'data',24,'data'}\n",
    "setsample"
   ]
  },
  {
   "cell_type": "code",
   "execution_count": 10,
   "id": "d2af7bf9",
   "metadata": {},
   "outputs": [
    {
     "data": {
      "text/plain": [
       "{'a', 'e', 'l', 'm', 'p', 'x'}"
      ]
     },
     "execution_count": 10,
     "metadata": {},
     "output_type": "execute_result"
    }
   ],
   "source": [
    "# we can also create set using 'set' keyword\n",
    "set('example')"
   ]
  },
  {
   "cell_type": "code",
   "execution_count": 11,
   "id": "a74a5c03",
   "metadata": {},
   "outputs": [
    {
     "name": "stdout",
     "output_type": "stream",
     "text": [
      "range(1, 12, 4)\n",
      "1\n",
      "5\n",
      "9\n"
     ]
    }
   ],
   "source": [
    "rangesample = range(1,12,4)   # built-in sequence type used for lopping\n",
    "\n",
    "print(rangesample)\n",
    "\n",
    "for x in rangesample:print(x)"
   ]
  },
  {
   "cell_type": "markdown",
   "id": "e8b2e3e2",
   "metadata": {},
   "source": [
    "# String: Indexing"
   ]
  },
  {
   "cell_type": "code",
   "execution_count": 12,
   "id": "3db559a0",
   "metadata": {},
   "outputs": [],
   "source": [
    "strsample = 'learning'"
   ]
  },
  {
   "cell_type": "code",
   "execution_count": 13,
   "id": "4deeca7a",
   "metadata": {},
   "outputs": [
    {
     "data": {
      "text/plain": [
       "0"
      ]
     },
     "execution_count": 13,
     "metadata": {},
     "output_type": "execute_result"
    }
   ],
   "source": [
    "strsample.index('l')"
   ]
  },
  {
   "cell_type": "code",
   "execution_count": 15,
   "id": "ab3f6bb5",
   "metadata": {},
   "outputs": [
    {
     "data": {
      "text/plain": [
       "4"
      ]
     },
     "execution_count": 15,
     "metadata": {},
     "output_type": "execute_result"
    }
   ],
   "source": [
    "strsample.index('ning')"
   ]
  },
  {
   "cell_type": "code",
   "execution_count": 16,
   "id": "b073d1be",
   "metadata": {},
   "outputs": [
    {
     "data": {
      "text/plain": [
       "'g'"
      ]
     },
     "execution_count": 16,
     "metadata": {},
     "output_type": "execute_result"
    }
   ],
   "source": [
    "strsample[7]"
   ]
  },
  {
   "cell_type": "code",
   "execution_count": 18,
   "id": "165ba635",
   "metadata": {},
   "outputs": [
    {
     "data": {
      "text/plain": [
       "'n'"
      ]
     },
     "execution_count": 18,
     "metadata": {},
     "output_type": "execute_result"
    }
   ],
   "source": [
    "strsample[-2]"
   ]
  },
  {
   "cell_type": "code",
   "execution_count": 19,
   "id": "979d1ec6",
   "metadata": {},
   "outputs": [
    {
     "data": {
      "text/plain": [
       "'r'"
      ]
     },
     "execution_count": 19,
     "metadata": {},
     "output_type": "execute_result"
    }
   ],
   "source": [
    "strsample[-5]"
   ]
  },
  {
   "cell_type": "markdown",
   "id": "392af4fc",
   "metadata": {},
   "source": [
    "# List: Indexing"
   ]
  },
  {
   "cell_type": "markdown",
   "id": "224ac0cf",
   "metadata": {},
   "source": [
    "## Syntax: list_name(element,start,end)"
   ]
  },
  {
   "cell_type": "code",
   "execution_count": 20,
   "id": "a71ff691",
   "metadata": {},
   "outputs": [],
   "source": [
    "lstsample = [1,2,'a','sam',2]  # list"
   ]
  },
  {
   "cell_type": "code",
   "execution_count": 24,
   "id": "fcecc3ba",
   "metadata": {},
   "outputs": [
    {
     "data": {
      "text/plain": [
       "3"
      ]
     },
     "execution_count": 24,
     "metadata": {},
     "output_type": "execute_result"
    }
   ],
   "source": [
    "lstsample.index('sam')"
   ]
  },
  {
   "cell_type": "code",
   "execution_count": 22,
   "id": "f3ac8cf2",
   "metadata": {},
   "outputs": [
    {
     "data": {
      "text/plain": [
       "'a'"
      ]
     },
     "execution_count": 22,
     "metadata": {},
     "output_type": "execute_result"
    }
   ],
   "source": [
    "lstsample[2]"
   ]
  },
  {
   "cell_type": "code",
   "execution_count": 23,
   "id": "173454b1",
   "metadata": {},
   "outputs": [
    {
     "data": {
      "text/plain": [
       "2"
      ]
     },
     "execution_count": 23,
     "metadata": {},
     "output_type": "execute_result"
    }
   ],
   "source": [
    "lstsample[-1]"
   ]
  },
  {
   "cell_type": "markdown",
   "id": "c1013742",
   "metadata": {},
   "source": [
    "# Array: Indexing"
   ]
  },
  {
   "cell_type": "code",
   "execution_count": 26,
   "id": "755efec4",
   "metadata": {},
   "outputs": [],
   "source": [
    "from array import *"
   ]
  },
  {
   "cell_type": "code",
   "execution_count": 27,
   "id": "48fcb847",
   "metadata": {},
   "outputs": [],
   "source": [
    "arrsample = array('i',[1,2,3,4])   # array with integer type"
   ]
  },
  {
   "cell_type": "code",
   "execution_count": 28,
   "id": "47f0c838",
   "metadata": {},
   "outputs": [
    {
     "name": "stdout",
     "output_type": "stream",
     "text": [
      "1\n",
      "2\n",
      "3\n",
      "4\n"
     ]
    }
   ],
   "source": [
    "for x in arrsample: print(x)"
   ]
  },
  {
   "cell_type": "code",
   "execution_count": 29,
   "id": "38af9f93",
   "metadata": {},
   "outputs": [
    {
     "data": {
      "text/plain": [
       "2"
      ]
     },
     "execution_count": 29,
     "metadata": {},
     "output_type": "execute_result"
    }
   ],
   "source": [
    "arrsample[-3]"
   ]
  },
  {
   "cell_type": "markdown",
   "id": "23dd6f9d",
   "metadata": {},
   "source": [
    "# Tuple: Indexing"
   ]
  },
  {
   "cell_type": "code",
   "execution_count": 32,
   "id": "69248277",
   "metadata": {},
   "outputs": [],
   "source": [
    "tupsample = (1,2,3,4,3,'py') "
   ]
  },
  {
   "cell_type": "code",
   "execution_count": 33,
   "id": "c78cae27",
   "metadata": {},
   "outputs": [
    {
     "data": {
      "text/plain": [
       "5"
      ]
     },
     "execution_count": 33,
     "metadata": {},
     "output_type": "execute_result"
    }
   ],
   "source": [
    "tupsample.index('py')"
   ]
  },
  {
   "cell_type": "code",
   "execution_count": 34,
   "id": "9c96ae14",
   "metadata": {},
   "outputs": [
    {
     "data": {
      "text/plain": [
       "3"
      ]
     },
     "execution_count": 34,
     "metadata": {},
     "output_type": "execute_result"
    }
   ],
   "source": [
    "tupsample[2]"
   ]
  },
  {
   "cell_type": "markdown",
   "id": "2e9f236e",
   "metadata": {},
   "source": [
    "# Set: Indexing"
   ]
  },
  {
   "cell_type": "code",
   "execution_count": 35,
   "id": "c10ac860",
   "metadata": {},
   "outputs": [],
   "source": [
    "setsample = {'example',24,87.5,'data',24,'data'}"
   ]
  },
  {
   "cell_type": "code",
   "execution_count": 36,
   "id": "b12a3136",
   "metadata": {},
   "outputs": [
    {
     "ename": "TypeError",
     "evalue": "'set' object is not subscriptable",
     "output_type": "error",
     "traceback": [
      "\u001b[1;31m---------------------------------------------------------------------------\u001b[0m",
      "\u001b[1;31mTypeError\u001b[0m                                 Traceback (most recent call last)",
      "\u001b[1;32m~\\AppData\\Local\\Temp\\ipykernel_9116\\3448740363.py\u001b[0m in \u001b[0;36m<module>\u001b[1;34m\u001b[0m\n\u001b[1;32m----> 1\u001b[1;33m \u001b[0msetsample\u001b[0m\u001b[1;33m[\u001b[0m\u001b[1;36m4\u001b[0m\u001b[1;33m]\u001b[0m\u001b[1;33m\u001b[0m\u001b[1;33m\u001b[0m\u001b[0m\n\u001b[0m",
      "\u001b[1;31mTypeError\u001b[0m: 'set' object is not subscriptable"
     ]
    }
   ],
   "source": [
    "setsample[4]  # it show error because we know that set doesnot follow sequential data"
   ]
  },
  {
   "cell_type": "markdown",
   "id": "5cac5701",
   "metadata": {},
   "source": [
    "# Dictionary: Indexing"
   ]
  },
  {
   "cell_type": "code",
   "execution_count": 37,
   "id": "51a84bbf",
   "metadata": {},
   "outputs": [],
   "source": [
    "dicsample = {1:'first' , 'second':2,3:3,'four':'4'}   # dictionary"
   ]
  },
  {
   "cell_type": "code",
   "execution_count": 38,
   "id": "cfea8433",
   "metadata": {},
   "outputs": [
    {
     "ename": "KeyError",
     "evalue": "2",
     "output_type": "error",
     "traceback": [
      "\u001b[1;31m---------------------------------------------------------------------------\u001b[0m",
      "\u001b[1;31mKeyError\u001b[0m                                  Traceback (most recent call last)",
      "\u001b[1;32m~\\AppData\\Local\\Temp\\ipykernel_9116\\1972067596.py\u001b[0m in \u001b[0;36m<module>\u001b[1;34m\u001b[0m\n\u001b[1;32m----> 1\u001b[1;33m \u001b[0mdicsample\u001b[0m\u001b[1;33m[\u001b[0m\u001b[1;36m2\u001b[0m\u001b[1;33m]\u001b[0m\u001b[1;33m\u001b[0m\u001b[1;33m\u001b[0m\u001b[0m\n\u001b[0m",
      "\u001b[1;31mKeyError\u001b[0m: 2"
     ]
    }
   ],
   "source": [
    "dicsample[2] ## KeyError:2 - indexing by values is not aplicable in dictionary"
   ]
  },
  {
   "cell_type": "code",
   "execution_count": 40,
   "id": "49129839",
   "metadata": {},
   "outputs": [
    {
     "data": {
      "text/plain": [
       "'first'"
      ]
     },
     "execution_count": 40,
     "metadata": {},
     "output_type": "execute_result"
    }
   ],
   "source": [
    "dicsample[1]   # to find the value corresponding to key 1"
   ]
  },
  {
   "cell_type": "code",
   "execution_count": 41,
   "id": "15eaca9f",
   "metadata": {},
   "outputs": [
    {
     "data": {
      "text/plain": [
       "2"
      ]
     },
     "execution_count": 41,
     "metadata": {},
     "output_type": "execute_result"
    }
   ],
   "source": [
    "dicsample ['second']    # to find the value corresponding to key second"
   ]
  },
  {
   "cell_type": "markdown",
   "id": "450d46ef",
   "metadata": {},
   "source": [
    "# Range: Indexing"
   ]
  },
  {
   "cell_type": "code",
   "execution_count": 42,
   "id": "9fac0f84",
   "metadata": {},
   "outputs": [
    {
     "name": "stdout",
     "output_type": "stream",
     "text": [
      "1\n",
      "5\n",
      "9\n"
     ]
    }
   ],
   "source": [
    "rangesample = range(1,12,4)   # built-in sequence type used for lopping\n",
    "\n",
    "\n",
    "\n",
    "for x in rangesample:print(x)  # print the values of 'rangesample'"
   ]
  },
  {
   "cell_type": "code",
   "execution_count": 43,
   "id": "96e8a260",
   "metadata": {},
   "outputs": [
    {
     "ename": "ValueError",
     "evalue": "0 is not in range",
     "output_type": "error",
     "traceback": [
      "\u001b[1;31m---------------------------------------------------------------------------\u001b[0m",
      "\u001b[1;31mValueError\u001b[0m                                Traceback (most recent call last)",
      "\u001b[1;32m~\\AppData\\Local\\Temp\\ipykernel_9116\\3155537277.py\u001b[0m in \u001b[0;36m<module>\u001b[1;34m\u001b[0m\n\u001b[1;32m----> 1\u001b[1;33m \u001b[0mrangesample\u001b[0m\u001b[1;33m.\u001b[0m\u001b[0mindex\u001b[0m\u001b[1;33m(\u001b[0m\u001b[1;36m0\u001b[0m\u001b[1;33m)\u001b[0m         \u001b[1;31m#\u001b[0m\u001b[1;33m\u001b[0m\u001b[1;33m\u001b[0m\u001b[0m\n\u001b[0m",
      "\u001b[1;31mValueError\u001b[0m: 0 is not in range"
     ]
    }
   ],
   "source": [
    "rangesample.index(0)         # ValueError: 0 is not in range"
   ]
  },
  {
   "cell_type": "code",
   "execution_count": 44,
   "id": "9a607cb2",
   "metadata": {},
   "outputs": [
    {
     "data": {
      "text/plain": [
       "2"
      ]
     },
     "execution_count": 44,
     "metadata": {},
     "output_type": "execute_result"
    }
   ],
   "source": [
    "rangesample.index(9)"
   ]
  },
  {
   "cell_type": "code",
   "execution_count": 45,
   "id": "49fe527a",
   "metadata": {},
   "outputs": [
    {
     "data": {
      "text/plain": [
       "5"
      ]
     },
     "execution_count": 45,
     "metadata": {},
     "output_type": "execute_result"
    }
   ],
   "source": [
    "rangesample[1]"
   ]
  },
  {
   "cell_type": "code",
   "execution_count": 46,
   "id": "853dc1f5",
   "metadata": {},
   "outputs": [
    {
     "ename": "IndexError",
     "evalue": "range object index out of range",
     "output_type": "error",
     "traceback": [
      "\u001b[1;31m---------------------------------------------------------------------------\u001b[0m",
      "\u001b[1;31mIndexError\u001b[0m                                Traceback (most recent call last)",
      "\u001b[1;32m~\\AppData\\Local\\Temp\\ipykernel_9116\\2425506950.py\u001b[0m in \u001b[0;36m<module>\u001b[1;34m\u001b[0m\n\u001b[1;32m----> 1\u001b[1;33m \u001b[0mrangesample\u001b[0m\u001b[1;33m[\u001b[0m\u001b[1;36m9\u001b[0m\u001b[1;33m]\u001b[0m\u001b[1;33m\u001b[0m\u001b[1;33m\u001b[0m\u001b[0m\n\u001b[0m",
      "\u001b[1;31mIndexError\u001b[0m: range object index out of range"
     ]
    }
   ],
   "source": [
    "rangesample[9]    # IndexError: range object index out of range"
   ]
  },
  {
   "cell_type": "markdown",
   "id": "b469406b",
   "metadata": {},
   "source": [
    "# Sequence data operations: Slicing"
   ]
  },
  {
   "cell_type": "markdown",
   "id": "3ffa9d98",
   "metadata": {},
   "source": [
    "The slice object is used to slice a given sequence (string,bites,tuple,list,range)\n",
    "or any object which supports sequence protocol\n",
    "\n",
    "The syntax of slice: slice(stop)\n",
    "\n",
    "slice(start,stop,step)"
   ]
  },
  {
   "cell_type": "code",
   "execution_count": 2,
   "id": "cbff02b9",
   "metadata": {},
   "outputs": [],
   "source": [
    "strsample = 'learning'"
   ]
  },
  {
   "cell_type": "code",
   "execution_count": 7,
   "id": "1f549434",
   "metadata": {},
   "outputs": [
    {
     "name": "stdout",
     "output_type": "stream",
     "text": [
      "learning\n"
     ]
    },
    {
     "data": {
      "text/plain": [
       "'er'"
      ]
     },
     "execution_count": 7,
     "metadata": {},
     "output_type": "execute_result"
    }
   ],
   "source": [
    "print(strsample)\n",
    "strsample[slice(1,4,2)]"
   ]
  },
  {
   "cell_type": "code",
   "execution_count": 8,
   "id": "9382eb63",
   "metadata": {},
   "outputs": [
    {
     "data": {
      "text/plain": [
       "'learning'"
      ]
     },
     "execution_count": 8,
     "metadata": {},
     "output_type": "execute_result"
    }
   ],
   "source": [
    "strsample[:]"
   ]
  },
  {
   "cell_type": "code",
   "execution_count": 25,
   "id": "82ceeaca",
   "metadata": {},
   "outputs": [],
   "source": [
    "lstsample = [1,2,'a','sam',2]"
   ]
  },
  {
   "cell_type": "code",
   "execution_count": 26,
   "id": "6d3a5285",
   "metadata": {},
   "outputs": [
    {
     "name": "stdout",
     "output_type": "stream",
     "text": [
      "[1, 2, 'a', 'sam', 2]\n",
      "[1, 2, 'a']\n",
      "['a', 'sam', 2]\n"
     ]
    }
   ],
   "source": [
    "print(lstsample)\n",
    "print(lstsample[:3])   # slicing starts at the beginning index at the list\n",
    "print(lstsample[2:])"
   ]
  },
  {
   "cell_type": "code",
   "execution_count": 27,
   "id": "7797453f",
   "metadata": {},
   "outputs": [
    {
     "data": {
      "text/plain": [
       "['a', 'sam']"
      ]
     },
     "execution_count": 27,
     "metadata": {},
     "output_type": "execute_result"
    }
   ],
   "source": [
    "lstsample[2:4]"
   ]
  },
  {
   "cell_type": "code",
   "execution_count": 28,
   "id": "3c61a4aa",
   "metadata": {},
   "outputs": [],
   "source": [
    "dicsample = {1:'first' , 'second':2,3:3,'four':'4'}   # dictionary"
   ]
  },
  {
   "cell_type": "code",
   "execution_count": 29,
   "id": "56ab41a8",
   "metadata": {},
   "outputs": [
    {
     "ename": "TypeError",
     "evalue": "unhashable type: 'slice'",
     "output_type": "error",
     "traceback": [
      "\u001b[1;31m---------------------------------------------------------------------------\u001b[0m",
      "\u001b[1;31mTypeError\u001b[0m                                 Traceback (most recent call last)",
      "\u001b[1;32m~\\AppData\\Local\\Temp\\ipykernel_12024\\3688446392.py\u001b[0m in \u001b[0;36m<module>\u001b[1;34m\u001b[0m\n\u001b[1;32m----> 1\u001b[1;33m \u001b[0mdicsample\u001b[0m\u001b[1;33m[\u001b[0m\u001b[1;36m1\u001b[0m\u001b[1;33m:\u001b[0m\u001b[1;34m'second'\u001b[0m\u001b[1;33m]\u001b[0m     \u001b[1;31m# TypeError: unhashable type: 'slice'\u001b[0m\u001b[1;33m\u001b[0m\u001b[1;33m\u001b[0m\u001b[0m\n\u001b[0m",
      "\u001b[1;31mTypeError\u001b[0m: unhashable type: 'slice'"
     ]
    }
   ],
   "source": [
    "dicsample[1:'second']     # TypeError: unhashable type: 'slice'"
   ]
  },
  {
   "cell_type": "code",
   "execution_count": 16,
   "id": "0835cd97",
   "metadata": {},
   "outputs": [],
   "source": [
    "setsample = {'example',24,87.5,'data',24,'data'}"
   ]
  },
  {
   "cell_type": "code",
   "execution_count": 18,
   "id": "a8ac9fc4",
   "metadata": {},
   "outputs": [
    {
     "ename": "TypeError",
     "evalue": "'set' object is not subscriptable",
     "output_type": "error",
     "traceback": [
      "\u001b[1;31m---------------------------------------------------------------------------\u001b[0m",
      "\u001b[1;31mTypeError\u001b[0m                                 Traceback (most recent call last)",
      "\u001b[1;32m~\\AppData\\Local\\Temp\\ipykernel_12024\\232861567.py\u001b[0m in \u001b[0;36m<module>\u001b[1;34m\u001b[0m\n\u001b[1;32m----> 1\u001b[1;33m \u001b[0msetsample\u001b[0m\u001b[1;33m[\u001b[0m\u001b[1;36m1\u001b[0m\u001b[1;33m:\u001b[0m\u001b[1;36m2\u001b[0m\u001b[1;33m]\u001b[0m\u001b[1;33m\u001b[0m\u001b[1;33m\u001b[0m\u001b[0m\n\u001b[0m",
      "\u001b[1;31mTypeError\u001b[0m: 'set' object is not subscriptable"
     ]
    }
   ],
   "source": [
    "setsample[1:2]       # TypeError: 'set' object is not subscriptable"
   ]
  },
  {
   "cell_type": "code",
   "execution_count": 20,
   "id": "df74d3b9",
   "metadata": {},
   "outputs": [],
   "source": [
    "from array import *"
   ]
  },
  {
   "cell_type": "code",
   "execution_count": 22,
   "id": "0eac7b98",
   "metadata": {
    "scrolled": true
   },
   "outputs": [],
   "source": [
    "arrsample = array('i',[1,2,3,4])   # array with integer type"
   ]
  },
  {
   "cell_type": "code",
   "execution_count": 30,
   "id": "a8632acc",
   "metadata": {},
   "outputs": [
    {
     "name": "stdout",
     "output_type": "stream",
     "text": [
      "1\n",
      "2\n",
      "3\n",
      "4\n"
     ]
    },
    {
     "data": {
      "text/plain": [
       "array('i', [2, 3, 4])"
      ]
     },
     "execution_count": 30,
     "metadata": {},
     "output_type": "execute_result"
    }
   ],
   "source": [
    "for x in arrsample: print(x)\n",
    "arrsample[1:]"
   ]
  },
  {
   "cell_type": "code",
   "execution_count": 31,
   "id": "0f5ac87e",
   "metadata": {},
   "outputs": [
    {
     "data": {
      "text/plain": [
       "array('i', [2, 3])"
      ]
     },
     "execution_count": 31,
     "metadata": {},
     "output_type": "execute_result"
    }
   ],
   "source": [
    "arrsample[1:-1]"
   ]
  },
  {
   "cell_type": "code",
   "execution_count": 33,
   "id": "4e450bdd",
   "metadata": {},
   "outputs": [
    {
     "name": "stdout",
     "output_type": "stream",
     "text": [
      "1\n",
      "5\n",
      "9\n"
     ]
    }
   ],
   "source": [
    "rangesample = range(1,12,4)   # built-in sequence type used for lopping\n",
    "\n",
    "\n",
    "\n",
    "for x in rangesample:print(x)  # print the values of 'rangesample'"
   ]
  },
  {
   "cell_type": "code",
   "execution_count": 35,
   "id": "c6301dfd",
   "metadata": {},
   "outputs": [
    {
     "name": "stdout",
     "output_type": "stream",
     "text": [
      "1\n",
      "5\n",
      "9\n",
      "range(1, 9, 4)\n"
     ]
    }
   ],
   "source": [
    "for x in rangesample: print(x)\n",
    "print(rangesample[:-1])"
   ]
  },
  {
   "cell_type": "markdown",
   "id": "d4575480",
   "metadata": {},
   "source": [
    "# Sequence data operations: Concatenation"
   ]
  },
  {
   "cell_type": "markdown",
   "id": "e3da1300",
   "metadata": {},
   "source": [
    "## Syntax: ',' , '+' , '+='"
   ]
  },
  {
   "cell_type": "code",
   "execution_count": 36,
   "id": "5a39db1b",
   "metadata": {},
   "outputs": [
    {
     "name": "stdout",
     "output_type": "stream",
     "text": [
      "learning  python\n",
      "learning\n",
      "('learning ', 'python')\n"
     ]
    }
   ],
   "source": [
    "print(strsample + ' ','python')\n",
    "print(strsample)\n",
    "newstring = strsample+' ','python'\n",
    "print(newstring)"
   ]
  },
  {
   "cell_type": "code",
   "execution_count": 37,
   "id": "c0a437e8",
   "metadata": {},
   "outputs": [
    {
     "name": "stdout",
     "output_type": "stream",
     "text": [
      "[1, 2, 'a', 'sam', 2]\n"
     ]
    },
    {
     "data": {
      "text/plain": [
       "[1, 2, 'a', 'sam', 2, 'py']"
      ]
     },
     "execution_count": 37,
     "metadata": {},
     "output_type": "execute_result"
    }
   ],
   "source": [
    "print(lstsample)\n",
    "lstsample+['py']"
   ]
  },
  {
   "cell_type": "code",
   "execution_count": 38,
   "id": "977ec48d",
   "metadata": {},
   "outputs": [
    {
     "name": "stdout",
     "output_type": "stream",
     "text": [
      "array('i', [1, 2, 3, 4])\n"
     ]
    },
    {
     "ename": "TypeError",
     "evalue": "can only append array (not \"list\") to array",
     "output_type": "error",
     "traceback": [
      "\u001b[1;31m---------------------------------------------------------------------------\u001b[0m",
      "\u001b[1;31mTypeError\u001b[0m                                 Traceback (most recent call last)",
      "\u001b[1;32m~\\AppData\\Local\\Temp\\ipykernel_12024\\1842245990.py\u001b[0m in \u001b[0;36m<module>\u001b[1;34m\u001b[0m\n\u001b[0;32m      1\u001b[0m \u001b[0mprint\u001b[0m\u001b[1;33m(\u001b[0m\u001b[0marrsample\u001b[0m\u001b[1;33m)\u001b[0m\u001b[1;33m\u001b[0m\u001b[1;33m\u001b[0m\u001b[0m\n\u001b[1;32m----> 2\u001b[1;33m \u001b[0marrsample\u001b[0m\u001b[1;33m+\u001b[0m\u001b[1;33m[\u001b[0m\u001b[1;36m50\u001b[0m\u001b[1;33m,\u001b[0m\u001b[1;36m60\u001b[0m\u001b[1;33m]\u001b[0m\u001b[1;33m\u001b[0m\u001b[1;33m\u001b[0m\u001b[0m\n\u001b[0m",
      "\u001b[1;31mTypeError\u001b[0m: can only append array (not \"list\") to array"
     ]
    }
   ],
   "source": [
    "print(arrsample)\n",
    "arrsample+[50,60]  # TypeError: can only append array (not \"list\") to array\n"
   ]
  },
  {
   "cell_type": "code",
   "execution_count": 39,
   "id": "accdb4b6",
   "metadata": {},
   "outputs": [
    {
     "data": {
      "text/plain": [
       "array('i', [1, 2, 3, 4, 50, 60])"
      ]
     },
     "execution_count": 39,
     "metadata": {},
     "output_type": "execute_result"
    }
   ],
   "source": [
    "arrsample + array('i',[50,60])"
   ]
  },
  {
   "cell_type": "code",
   "execution_count": 45,
   "id": "41df09f9",
   "metadata": {},
   "outputs": [],
   "source": [
    "tupsample = (1,2,3,4,3,'py') "
   ]
  },
  {
   "cell_type": "code",
   "execution_count": 46,
   "id": "df2aee76",
   "metadata": {},
   "outputs": [
    {
     "name": "stdout",
     "output_type": "stream",
     "text": [
      "(1, 2, 3, 4, 3, 'py', 'th', 'on')\n"
     ]
    }
   ],
   "source": [
    "tupsample+=('th','on')\n",
    "print(tupsample)"
   ]
  },
  {
   "cell_type": "code",
   "execution_count": 47,
   "id": "aa0bc998",
   "metadata": {},
   "outputs": [
    {
     "name": "stdout",
     "output_type": "stream",
     "text": [
      "{24, 'example', 'data', 87.5}\n",
      "({24, 'example', 'data', 87.5}, 24)\n"
     ]
    }
   ],
   "source": [
    "print(setsample)\n",
    "setsample=setsample,24\n",
    "print(setsample)"
   ]
  },
  {
   "cell_type": "markdown",
   "id": "6761ad4c",
   "metadata": {},
   "source": [
    "# Sequence data operations: Multiplication\n",
    "## syntax: object*integer"
   ]
  },
  {
   "cell_type": "code",
   "execution_count": 4,
   "id": "2500f475",
   "metadata": {},
   "outputs": [],
   "source": [
    "strsample = 'learning'"
   ]
  },
  {
   "cell_type": "code",
   "execution_count": 5,
   "id": "1d8f68cb",
   "metadata": {},
   "outputs": [
    {
     "name": "stdout",
     "output_type": "stream",
     "text": [
      "learninglearninglearning\n"
     ]
    }
   ],
   "source": [
    "strsample *=3\n",
    "print(strsample )"
   ]
  },
  {
   "cell_type": "code",
   "execution_count": 16,
   "id": "6b7e7675",
   "metadata": {},
   "outputs": [],
   "source": [
    "lstsample = [1,2,'a','sam',2]"
   ]
  },
  {
   "cell_type": "code",
   "execution_count": 17,
   "id": "97e3aa69",
   "metadata": {},
   "outputs": [
    {
     "data": {
      "text/plain": [
       "[1, 2, 'a', 'sam', 2, 1, 2, 'a', 'sam', 2]"
      ]
     },
     "execution_count": 17,
     "metadata": {},
     "output_type": "execute_result"
    }
   ],
   "source": [
    "lstsample*2"
   ]
  },
  {
   "cell_type": "code",
   "execution_count": 18,
   "id": "2f10505c",
   "metadata": {},
   "outputs": [
    {
     "name": "stdout",
     "output_type": "stream",
     "text": [
      "[1, 4, 'a', 'sam', 2]\n"
     ]
    }
   ],
   "source": [
    "lstsample[1]*=2    \n",
    "print(lstsample)"
   ]
  },
  {
   "cell_type": "code",
   "execution_count": 19,
   "id": "565158f9",
   "metadata": {},
   "outputs": [
    {
     "data": {
      "text/plain": [
       "'samsam'"
      ]
     },
     "execution_count": 19,
     "metadata": {},
     "output_type": "execute_result"
    }
   ],
   "source": [
    "lstsample[3]*2 "
   ]
  },
  {
   "cell_type": "code",
   "execution_count": 20,
   "id": "b74e660a",
   "metadata": {},
   "outputs": [
    {
     "name": "stdout",
     "output_type": "stream",
     "text": [
      "[1, 4, 'aa', 'sam', 2]\n"
     ]
    }
   ],
   "source": [
    "lstsample[2]*=2    \n",
    "print(lstsample)"
   ]
  },
  {
   "cell_type": "code",
   "execution_count": 21,
   "id": "b666ac56",
   "metadata": {},
   "outputs": [
    {
     "data": {
      "text/plain": [
       "'aaaa'"
      ]
     },
     "execution_count": 21,
     "metadata": {},
     "output_type": "execute_result"
    }
   ],
   "source": [
    "lstsample[2]*2"
   ]
  },
  {
   "cell_type": "code",
   "execution_count": 22,
   "id": "96be9e6a",
   "metadata": {},
   "outputs": [],
   "source": [
    "tupsample = (1,2,3,4,3,'py') "
   ]
  },
  {
   "cell_type": "code",
   "execution_count": 23,
   "id": "4684596f",
   "metadata": {},
   "outputs": [
    {
     "data": {
      "text/plain": [
       "(3, 4, 3, 4)"
      ]
     },
     "execution_count": 23,
     "metadata": {},
     "output_type": "execute_result"
    }
   ],
   "source": [
    "tupsample[2:4]*2"
   ]
  },
  {
   "cell_type": "code",
   "execution_count": 24,
   "id": "02ef485c",
   "metadata": {},
   "outputs": [
    {
     "name": "stdout",
     "output_type": "stream",
     "text": [
      "1\n",
      "2\n",
      "3\n",
      "4\n"
     ]
    }
   ],
   "source": [
    "from array import *\n",
    "\n",
    "arrsample = array('i',[1,2,3,4])   # array with integer type\n",
    "\n",
    "for x in arrsample: print(x)"
   ]
  },
  {
   "cell_type": "code",
   "execution_count": 25,
   "id": "665f71d2",
   "metadata": {},
   "outputs": [
    {
     "data": {
      "text/plain": [
       "array('i', [1, 2, 3, 4, 1, 2, 3, 4])"
      ]
     },
     "execution_count": 25,
     "metadata": {},
     "output_type": "execute_result"
    }
   ],
   "source": [
    "arrsample*2"
   ]
  },
  {
   "cell_type": "code",
   "execution_count": 30,
   "id": "22c8107a",
   "metadata": {},
   "outputs": [
    {
     "name": "stdout",
     "output_type": "stream",
     "text": [
      "1\n",
      "5\n",
      "9\n"
     ]
    }
   ],
   "source": [
    "rangesample = range(1,12,4)   # built-in sequence type used for lopping\n",
    "\n",
    "\n",
    "\n",
    "for x in rangesample:print(x)  # print the values of 'rangesample'"
   ]
  },
  {
   "cell_type": "code",
   "execution_count": 31,
   "id": "d2f15c75",
   "metadata": {},
   "outputs": [
    {
     "ename": "TypeError",
     "evalue": "unsupported operand type(s) for *: 'range' and 'int'",
     "output_type": "error",
     "traceback": [
      "\u001b[1;31m---------------------------------------------------------------------------\u001b[0m",
      "\u001b[1;31mTypeError\u001b[0m                                 Traceback (most recent call last)",
      "\u001b[1;32m~\\AppData\\Local\\Temp\\ipykernel_8072\\123323062.py\u001b[0m in \u001b[0;36m<module>\u001b[1;34m\u001b[0m\n\u001b[1;32m----> 1\u001b[1;33m \u001b[0mrangesample\u001b[0m\u001b[1;33m*\u001b[0m\u001b[1;36m2\u001b[0m\u001b[1;33m\u001b[0m\u001b[1;33m\u001b[0m\u001b[0m\n\u001b[0m",
      "\u001b[1;31mTypeError\u001b[0m: unsupported operand type(s) for *: 'range' and 'int'"
     ]
    }
   ],
   "source": [
    "rangesample*2     # TypeError: unsupported operand type(s) for *: 'range' and 'int'"
   ]
  },
  {
   "cell_type": "markdown",
   "id": "bb04cb9a",
   "metadata": {},
   "source": [
    "# General sequence data methods"
   ]
  },
  {
   "cell_type": "markdown",
   "id": "c86aa665",
   "metadata": {},
   "source": [
    "## String Methods"
   ]
  },
  {
   "cell_type": "code",
   "execution_count": 8,
   "id": "e2d455b9",
   "metadata": {},
   "outputs": [
    {
     "name": "stdout",
     "output_type": "stream",
     "text": [
      "learning is fun !\n"
     ]
    }
   ],
   "source": [
    "strsample = 'learning is fun !'\n",
    "print(strsample)"
   ]
  },
  {
   "cell_type": "code",
   "execution_count": 9,
   "id": "a0101b49",
   "metadata": {},
   "outputs": [
    {
     "data": {
      "text/plain": [
       "'Learning is fun !'"
      ]
     },
     "execution_count": 9,
     "metadata": {},
     "output_type": "execute_result"
    }
   ],
   "source": [
    "strsample.capitalize()"
   ]
  },
  {
   "cell_type": "code",
   "execution_count": 10,
   "id": "ac011681",
   "metadata": {},
   "outputs": [
    {
     "data": {
      "text/plain": [
       "'learning is fun !'"
      ]
     },
     "execution_count": 10,
     "metadata": {},
     "output_type": "execute_result"
    }
   ],
   "source": [
    "strsample.casefold()"
   ]
  },
  {
   "cell_type": "code",
   "execution_count": 11,
   "id": "ba3310d7",
   "metadata": {},
   "outputs": [
    {
     "data": {
      "text/plain": [
       "'Learning is fun !'"
      ]
     },
     "execution_count": 11,
     "metadata": {},
     "output_type": "execute_result"
    }
   ],
   "source": [
    "strsample.capitalize()"
   ]
  },
  {
   "cell_type": "code",
   "execution_count": 12,
   "id": "911d4501",
   "metadata": {},
   "outputs": [
    {
     "data": {
      "text/plain": [
       "'Learning Is Fun !'"
      ]
     },
     "execution_count": 12,
     "metadata": {},
     "output_type": "execute_result"
    }
   ],
   "source": [
    "strsample.title()"
   ]
  },
  {
   "cell_type": "code",
   "execution_count": 13,
   "id": "1c5c7023",
   "metadata": {},
   "outputs": [
    {
     "data": {
      "text/plain": [
       "'LEARNING IS FUN !'"
      ]
     },
     "execution_count": 13,
     "metadata": {},
     "output_type": "execute_result"
    }
   ],
   "source": [
    "strsample.swapcase()"
   ]
  },
  {
   "cell_type": "code",
   "execution_count": 14,
   "id": "e471f709",
   "metadata": {},
   "outputs": [
    {
     "data": {
      "text/plain": [
       "4"
      ]
     },
     "execution_count": 14,
     "metadata": {},
     "output_type": "execute_result"
    }
   ],
   "source": [
    "strsample.find('n')"
   ]
  },
  {
   "cell_type": "code",
   "execution_count": 15,
   "id": "91c64b28",
   "metadata": {},
   "outputs": [
    {
     "data": {
      "text/plain": [
       "1"
      ]
     },
     "execution_count": 15,
     "metadata": {},
     "output_type": "execute_result"
    }
   ],
   "source": [
    "strsample.count('a')"
   ]
  },
  {
   "cell_type": "code",
   "execution_count": 16,
   "id": "54147877",
   "metadata": {},
   "outputs": [
    {
     "data": {
      "text/plain": [
       "'learning is joyful !'"
      ]
     },
     "execution_count": 16,
     "metadata": {},
     "output_type": "execute_result"
    }
   ],
   "source": [
    "strsample.replace('fun','joyful')"
   ]
  },
  {
   "cell_type": "code",
   "execution_count": 17,
   "id": "7e3bd966",
   "metadata": {},
   "outputs": [
    {
     "ename": "AttributeError",
     "evalue": "'str' object has no attribute 'isalnun'",
     "output_type": "error",
     "traceback": [
      "\u001b[1;31m---------------------------------------------------------------------------\u001b[0m",
      "\u001b[1;31mAttributeError\u001b[0m                            Traceback (most recent call last)",
      "\u001b[1;32m~\\AppData\\Local\\Temp\\ipykernel_9936\\3368735146.py\u001b[0m in \u001b[0;36m<module>\u001b[1;34m\u001b[0m\n\u001b[1;32m----> 1\u001b[1;33m \u001b[0mstrsample\u001b[0m\u001b[1;33m.\u001b[0m\u001b[0misalnun\u001b[0m\u001b[1;33m(\u001b[0m\u001b[1;33m)\u001b[0m   \u001b[1;31m## some mistake i am not understanding\u001b[0m\u001b[1;33m\u001b[0m\u001b[1;33m\u001b[0m\u001b[0m\n\u001b[0m",
      "\u001b[1;31mAttributeError\u001b[0m: 'str' object has no attribute 'isalnun'"
     ]
    }
   ],
   "source": [
    "strsample.isalnun()   ## some mistake i am not understanding"
   ]
  },
  {
   "cell_type": "code",
   "execution_count": 18,
   "id": "89d6a4ea",
   "metadata": {},
   "outputs": [],
   "source": [
    "name1 = 'GITTA'\n",
    "name2 = 'Pvt'\n",
    "name3 = 'Ltd'"
   ]
  },
  {
   "cell_type": "code",
   "execution_count": 19,
   "id": "194db931",
   "metadata": {},
   "outputs": [
    {
     "name": "stdout",
     "output_type": "stream",
     "text": [
      "GITTA Pvt. Ltd.\n"
     ]
    }
   ],
   "source": [
    "name = '{} {}. {}.'.format(name1,name2,name3)\n",
    "print(name)"
   ]
  },
  {
   "cell_type": "markdown",
   "id": "f901d79c",
   "metadata": {},
   "source": [
    "# The below code will show all the function that we can use for the particular varible:"
   ]
  },
  {
   "cell_type": "code",
   "execution_count": 20,
   "id": "a81cba00",
   "metadata": {},
   "outputs": [
    {
     "name": "stdout",
     "output_type": "stream",
     "text": [
      "['__add__', '__class__', '__contains__', '__delattr__', '__dir__', '__doc__', '__eq__', '__format__', '__ge__', '__getattribute__', '__getitem__', '__getnewargs__', '__gt__', '__hash__', '__init__', '__init_subclass__', '__iter__', '__le__', '__len__', '__lt__', '__mod__', '__mul__', '__ne__', '__new__', '__reduce__', '__reduce_ex__', '__repr__', '__rmod__', '__rmul__', '__setattr__', '__sizeof__', '__str__', '__subclasshook__', 'capitalize', 'casefold', 'center', 'count', 'encode', 'endswith', 'expandtabs', 'find', 'format', 'format_map', 'index', 'isalnum', 'isalpha', 'isascii', 'isdecimal', 'isdigit', 'isidentifier', 'islower', 'isnumeric', 'isprintable', 'isspace', 'istitle', 'isupper', 'join', 'ljust', 'lower', 'lstrip', 'maketrans', 'partition', 'removeprefix', 'removesuffix', 'replace', 'rfind', 'rindex', 'rjust', 'rpartition', 'rsplit', 'rstrip', 'split', 'splitlines', 'startswith', 'strip', 'swapcase', 'title', 'translate', 'upper', 'zfill']\n"
     ]
    }
   ],
   "source": [
    "print(dir(name))"
   ]
  },
  {
   "cell_type": "code",
   "execution_count": 21,
   "id": "c96d223a",
   "metadata": {},
   "outputs": [
    {
     "name": "stdout",
     "output_type": "stream",
     "text": [
      "Help on class str in module builtins:\n",
      "\n",
      "class str(object)\n",
      " |  str(object='') -> str\n",
      " |  str(bytes_or_buffer[, encoding[, errors]]) -> str\n",
      " |  \n",
      " |  Create a new string object from the given object. If encoding or\n",
      " |  errors is specified, then the object must expose a data buffer\n",
      " |  that will be decoded using the given encoding and error handler.\n",
      " |  Otherwise, returns the result of object.__str__() (if defined)\n",
      " |  or repr(object).\n",
      " |  encoding defaults to sys.getdefaultencoding().\n",
      " |  errors defaults to 'strict'.\n",
      " |  \n",
      " |  Methods defined here:\n",
      " |  \n",
      " |  __add__(self, value, /)\n",
      " |      Return self+value.\n",
      " |  \n",
      " |  __contains__(self, key, /)\n",
      " |      Return key in self.\n",
      " |  \n",
      " |  __eq__(self, value, /)\n",
      " |      Return self==value.\n",
      " |  \n",
      " |  __format__(self, format_spec, /)\n",
      " |      Return a formatted version of the string as described by format_spec.\n",
      " |  \n",
      " |  __ge__(self, value, /)\n",
      " |      Return self>=value.\n",
      " |  \n",
      " |  __getattribute__(self, name, /)\n",
      " |      Return getattr(self, name).\n",
      " |  \n",
      " |  __getitem__(self, key, /)\n",
      " |      Return self[key].\n",
      " |  \n",
      " |  __getnewargs__(...)\n",
      " |  \n",
      " |  __gt__(self, value, /)\n",
      " |      Return self>value.\n",
      " |  \n",
      " |  __hash__(self, /)\n",
      " |      Return hash(self).\n",
      " |  \n",
      " |  __iter__(self, /)\n",
      " |      Implement iter(self).\n",
      " |  \n",
      " |  __le__(self, value, /)\n",
      " |      Return self<=value.\n",
      " |  \n",
      " |  __len__(self, /)\n",
      " |      Return len(self).\n",
      " |  \n",
      " |  __lt__(self, value, /)\n",
      " |      Return self<value.\n",
      " |  \n",
      " |  __mod__(self, value, /)\n",
      " |      Return self%value.\n",
      " |  \n",
      " |  __mul__(self, value, /)\n",
      " |      Return self*value.\n",
      " |  \n",
      " |  __ne__(self, value, /)\n",
      " |      Return self!=value.\n",
      " |  \n",
      " |  __repr__(self, /)\n",
      " |      Return repr(self).\n",
      " |  \n",
      " |  __rmod__(self, value, /)\n",
      " |      Return value%self.\n",
      " |  \n",
      " |  __rmul__(self, value, /)\n",
      " |      Return value*self.\n",
      " |  \n",
      " |  __sizeof__(self, /)\n",
      " |      Return the size of the string in memory, in bytes.\n",
      " |  \n",
      " |  __str__(self, /)\n",
      " |      Return str(self).\n",
      " |  \n",
      " |  capitalize(self, /)\n",
      " |      Return a capitalized version of the string.\n",
      " |      \n",
      " |      More specifically, make the first character have upper case and the rest lower\n",
      " |      case.\n",
      " |  \n",
      " |  casefold(self, /)\n",
      " |      Return a version of the string suitable for caseless comparisons.\n",
      " |  \n",
      " |  center(self, width, fillchar=' ', /)\n",
      " |      Return a centered string of length width.\n",
      " |      \n",
      " |      Padding is done using the specified fill character (default is a space).\n",
      " |  \n",
      " |  count(...)\n",
      " |      S.count(sub[, start[, end]]) -> int\n",
      " |      \n",
      " |      Return the number of non-overlapping occurrences of substring sub in\n",
      " |      string S[start:end].  Optional arguments start and end are\n",
      " |      interpreted as in slice notation.\n",
      " |  \n",
      " |  encode(self, /, encoding='utf-8', errors='strict')\n",
      " |      Encode the string using the codec registered for encoding.\n",
      " |      \n",
      " |      encoding\n",
      " |        The encoding in which to encode the string.\n",
      " |      errors\n",
      " |        The error handling scheme to use for encoding errors.\n",
      " |        The default is 'strict' meaning that encoding errors raise a\n",
      " |        UnicodeEncodeError.  Other possible values are 'ignore', 'replace' and\n",
      " |        'xmlcharrefreplace' as well as any other name registered with\n",
      " |        codecs.register_error that can handle UnicodeEncodeErrors.\n",
      " |  \n",
      " |  endswith(...)\n",
      " |      S.endswith(suffix[, start[, end]]) -> bool\n",
      " |      \n",
      " |      Return True if S ends with the specified suffix, False otherwise.\n",
      " |      With optional start, test S beginning at that position.\n",
      " |      With optional end, stop comparing S at that position.\n",
      " |      suffix can also be a tuple of strings to try.\n",
      " |  \n",
      " |  expandtabs(self, /, tabsize=8)\n",
      " |      Return a copy where all tab characters are expanded using spaces.\n",
      " |      \n",
      " |      If tabsize is not given, a tab size of 8 characters is assumed.\n",
      " |  \n",
      " |  find(...)\n",
      " |      S.find(sub[, start[, end]]) -> int\n",
      " |      \n",
      " |      Return the lowest index in S where substring sub is found,\n",
      " |      such that sub is contained within S[start:end].  Optional\n",
      " |      arguments start and end are interpreted as in slice notation.\n",
      " |      \n",
      " |      Return -1 on failure.\n",
      " |  \n",
      " |  format(...)\n",
      " |      S.format(*args, **kwargs) -> str\n",
      " |      \n",
      " |      Return a formatted version of S, using substitutions from args and kwargs.\n",
      " |      The substitutions are identified by braces ('{' and '}').\n",
      " |  \n",
      " |  format_map(...)\n",
      " |      S.format_map(mapping) -> str\n",
      " |      \n",
      " |      Return a formatted version of S, using substitutions from mapping.\n",
      " |      The substitutions are identified by braces ('{' and '}').\n",
      " |  \n",
      " |  index(...)\n",
      " |      S.index(sub[, start[, end]]) -> int\n",
      " |      \n",
      " |      Return the lowest index in S where substring sub is found,\n",
      " |      such that sub is contained within S[start:end].  Optional\n",
      " |      arguments start and end are interpreted as in slice notation.\n",
      " |      \n",
      " |      Raises ValueError when the substring is not found.\n",
      " |  \n",
      " |  isalnum(self, /)\n",
      " |      Return True if the string is an alpha-numeric string, False otherwise.\n",
      " |      \n",
      " |      A string is alpha-numeric if all characters in the string are alpha-numeric and\n",
      " |      there is at least one character in the string.\n",
      " |  \n",
      " |  isalpha(self, /)\n",
      " |      Return True if the string is an alphabetic string, False otherwise.\n",
      " |      \n",
      " |      A string is alphabetic if all characters in the string are alphabetic and there\n",
      " |      is at least one character in the string.\n",
      " |  \n",
      " |  isascii(self, /)\n",
      " |      Return True if all characters in the string are ASCII, False otherwise.\n",
      " |      \n",
      " |      ASCII characters have code points in the range U+0000-U+007F.\n",
      " |      Empty string is ASCII too.\n",
      " |  \n",
      " |  isdecimal(self, /)\n",
      " |      Return True if the string is a decimal string, False otherwise.\n",
      " |      \n",
      " |      A string is a decimal string if all characters in the string are decimal and\n",
      " |      there is at least one character in the string.\n",
      " |  \n",
      " |  isdigit(self, /)\n",
      " |      Return True if the string is a digit string, False otherwise.\n",
      " |      \n",
      " |      A string is a digit string if all characters in the string are digits and there\n",
      " |      is at least one character in the string.\n",
      " |  \n",
      " |  isidentifier(self, /)\n",
      " |      Return True if the string is a valid Python identifier, False otherwise.\n",
      " |      \n",
      " |      Call keyword.iskeyword(s) to test whether string s is a reserved identifier,\n",
      " |      such as \"def\" or \"class\".\n",
      " |  \n",
      " |  islower(self, /)\n",
      " |      Return True if the string is a lowercase string, False otherwise.\n",
      " |      \n",
      " |      A string is lowercase if all cased characters in the string are lowercase and\n",
      " |      there is at least one cased character in the string.\n",
      " |  \n",
      " |  isnumeric(self, /)\n",
      " |      Return True if the string is a numeric string, False otherwise.\n",
      " |      \n",
      " |      A string is numeric if all characters in the string are numeric and there is at\n",
      " |      least one character in the string.\n",
      " |  \n",
      " |  isprintable(self, /)\n",
      " |      Return True if the string is printable, False otherwise.\n",
      " |      \n",
      " |      A string is printable if all of its characters are considered printable in\n",
      " |      repr() or if it is empty.\n",
      " |  \n",
      " |  isspace(self, /)\n",
      " |      Return True if the string is a whitespace string, False otherwise.\n",
      " |      \n",
      " |      A string is whitespace if all characters in the string are whitespace and there\n",
      " |      is at least one character in the string.\n",
      " |  \n",
      " |  istitle(self, /)\n",
      " |      Return True if the string is a title-cased string, False otherwise.\n",
      " |      \n",
      " |      In a title-cased string, upper- and title-case characters may only\n",
      " |      follow uncased characters and lowercase characters only cased ones.\n",
      " |  \n",
      " |  isupper(self, /)\n",
      " |      Return True if the string is an uppercase string, False otherwise.\n",
      " |      \n",
      " |      A string is uppercase if all cased characters in the string are uppercase and\n",
      " |      there is at least one cased character in the string.\n",
      " |  \n",
      " |  join(self, iterable, /)\n",
      " |      Concatenate any number of strings.\n",
      " |      \n",
      " |      The string whose method is called is inserted in between each given string.\n",
      " |      The result is returned as a new string.\n",
      " |      \n",
      " |      Example: '.'.join(['ab', 'pq', 'rs']) -> 'ab.pq.rs'\n",
      " |  \n",
      " |  ljust(self, width, fillchar=' ', /)\n",
      " |      Return a left-justified string of length width.\n",
      " |      \n",
      " |      Padding is done using the specified fill character (default is a space).\n",
      " |  \n",
      " |  lower(self, /)\n",
      " |      Return a copy of the string converted to lowercase.\n",
      " |  \n",
      " |  lstrip(self, chars=None, /)\n",
      " |      Return a copy of the string with leading whitespace removed.\n",
      " |      \n",
      " |      If chars is given and not None, remove characters in chars instead.\n",
      " |  \n",
      " |  partition(self, sep, /)\n",
      " |      Partition the string into three parts using the given separator.\n",
      " |      \n",
      " |      This will search for the separator in the string.  If the separator is found,\n",
      " |      returns a 3-tuple containing the part before the separator, the separator\n",
      " |      itself, and the part after it.\n",
      " |      \n",
      " |      If the separator is not found, returns a 3-tuple containing the original string\n",
      " |      and two empty strings.\n",
      " |  \n",
      " |  removeprefix(self, prefix, /)\n",
      " |      Return a str with the given prefix string removed if present.\n",
      " |      \n",
      " |      If the string starts with the prefix string, return string[len(prefix):].\n",
      " |      Otherwise, return a copy of the original string.\n",
      " |  \n",
      " |  removesuffix(self, suffix, /)\n",
      " |      Return a str with the given suffix string removed if present.\n",
      " |      \n",
      " |      If the string ends with the suffix string and that suffix is not empty,\n",
      " |      return string[:-len(suffix)]. Otherwise, return a copy of the original\n",
      " |      string.\n",
      " |  \n",
      " |  replace(self, old, new, count=-1, /)\n",
      " |      Return a copy with all occurrences of substring old replaced by new.\n",
      " |      \n",
      " |        count\n",
      " |          Maximum number of occurrences to replace.\n",
      " |          -1 (the default value) means replace all occurrences.\n",
      " |      \n",
      " |      If the optional argument count is given, only the first count occurrences are\n",
      " |      replaced.\n",
      " |  \n",
      " |  rfind(...)\n",
      " |      S.rfind(sub[, start[, end]]) -> int\n",
      " |      \n",
      " |      Return the highest index in S where substring sub is found,\n",
      " |      such that sub is contained within S[start:end].  Optional\n",
      " |      arguments start and end are interpreted as in slice notation.\n",
      " |      \n",
      " |      Return -1 on failure.\n",
      " |  \n",
      " |  rindex(...)\n",
      " |      S.rindex(sub[, start[, end]]) -> int\n",
      " |      \n",
      " |      Return the highest index in S where substring sub is found,\n",
      " |      such that sub is contained within S[start:end].  Optional\n",
      " |      arguments start and end are interpreted as in slice notation.\n",
      " |      \n",
      " |      Raises ValueError when the substring is not found.\n",
      " |  \n",
      " |  rjust(self, width, fillchar=' ', /)\n",
      " |      Return a right-justified string of length width.\n",
      " |      \n",
      " |      Padding is done using the specified fill character (default is a space).\n",
      " |  \n",
      " |  rpartition(self, sep, /)\n",
      " |      Partition the string into three parts using the given separator.\n",
      " |      \n",
      " |      This will search for the separator in the string, starting at the end. If\n",
      " |      the separator is found, returns a 3-tuple containing the part before the\n",
      " |      separator, the separator itself, and the part after it.\n",
      " |      \n",
      " |      If the separator is not found, returns a 3-tuple containing two empty strings\n",
      " |      and the original string.\n",
      " |  \n",
      " |  rsplit(self, /, sep=None, maxsplit=-1)\n",
      " |      Return a list of the words in the string, using sep as the delimiter string.\n",
      " |      \n",
      " |        sep\n",
      " |          The delimiter according which to split the string.\n",
      " |          None (the default value) means split according to any whitespace,\n",
      " |          and discard empty strings from the result.\n",
      " |        maxsplit\n",
      " |          Maximum number of splits to do.\n",
      " |          -1 (the default value) means no limit.\n",
      " |      \n",
      " |      Splits are done starting at the end of the string and working to the front.\n",
      " |  \n",
      " |  rstrip(self, chars=None, /)\n",
      " |      Return a copy of the string with trailing whitespace removed.\n",
      " |      \n",
      " |      If chars is given and not None, remove characters in chars instead.\n",
      " |  \n",
      " |  split(self, /, sep=None, maxsplit=-1)\n",
      " |      Return a list of the words in the string, using sep as the delimiter string.\n",
      " |      \n",
      " |      sep\n",
      " |        The delimiter according which to split the string.\n",
      " |        None (the default value) means split according to any whitespace,\n",
      " |        and discard empty strings from the result.\n",
      " |      maxsplit\n",
      " |        Maximum number of splits to do.\n",
      " |        -1 (the default value) means no limit.\n",
      " |  \n",
      " |  splitlines(self, /, keepends=False)\n",
      " |      Return a list of the lines in the string, breaking at line boundaries.\n",
      " |      \n",
      " |      Line breaks are not included in the resulting list unless keepends is given and\n",
      " |      true.\n",
      " |  \n",
      " |  startswith(...)\n",
      " |      S.startswith(prefix[, start[, end]]) -> bool\n",
      " |      \n",
      " |      Return True if S starts with the specified prefix, False otherwise.\n",
      " |      With optional start, test S beginning at that position.\n",
      " |      With optional end, stop comparing S at that position.\n",
      " |      prefix can also be a tuple of strings to try.\n",
      " |  \n",
      " |  strip(self, chars=None, /)\n",
      " |      Return a copy of the string with leading and trailing whitespace removed.\n",
      " |      \n",
      " |      If chars is given and not None, remove characters in chars instead.\n",
      " |  \n",
      " |  swapcase(self, /)\n",
      " |      Convert uppercase characters to lowercase and lowercase characters to uppercase.\n",
      " |  \n",
      " |  title(self, /)\n",
      " |      Return a version of the string where each word is titlecased.\n",
      " |      \n",
      " |      More specifically, words start with uppercased characters and all remaining\n",
      " |      cased characters have lower case.\n",
      " |  \n",
      " |  translate(self, table, /)\n",
      " |      Replace each character in the string using the given translation table.\n",
      " |      \n",
      " |        table\n",
      " |          Translation table, which must be a mapping of Unicode ordinals to\n",
      " |          Unicode ordinals, strings, or None.\n",
      " |      \n",
      " |      The table must implement lookup/indexing via __getitem__, for instance a\n",
      " |      dictionary or list.  If this operation raises LookupError, the character is\n",
      " |      left untouched.  Characters mapped to None are deleted.\n",
      " |  \n",
      " |  upper(self, /)\n",
      " |      Return a copy of the string converted to uppercase.\n",
      " |  \n",
      " |  zfill(self, width, /)\n",
      " |      Pad a numeric string with zeros on the left, to fill a field of the given width.\n",
      " |      \n",
      " |      The string is never truncated.\n",
      " |  \n",
      " |  ----------------------------------------------------------------------\n",
      " |  Static methods defined here:\n",
      " |  \n",
      " |  __new__(*args, **kwargs) from builtins.type\n",
      " |      Create and return a new object.  See help(type) for accurate signature.\n",
      " |  \n",
      " |  maketrans(...)\n",
      " |      Return a translation table usable for str.translate().\n",
      " |      \n",
      " |      If there is only one argument, it must be a dictionary mapping Unicode\n",
      " |      ordinals (integers) or characters to Unicode ordinals, strings or None.\n",
      " |      Character keys will be then converted to ordinals.\n",
      " |      If there are two arguments, they must be strings of equal length, and\n",
      " |      in the resulting dictionary, each character in x will be mapped to the\n",
      " |      character at the same position in y. If there is a third argument, it\n",
      " |      must be a string, whose characters will be mapped to None in the result.\n",
      "\n",
      "None\n"
     ]
    }
   ],
   "source": [
    "print(help(str))"
   ]
  },
  {
   "cell_type": "code",
   "execution_count": 22,
   "id": "1220ca87",
   "metadata": {},
   "outputs": [
    {
     "name": "stdout",
     "output_type": "stream",
     "text": [
      "Help on method_descriptor:\n",
      "\n",
      "find(...)\n",
      "    S.find(sub[, start[, end]]) -> int\n",
      "    \n",
      "    Return the lowest index in S where substring sub is found,\n",
      "    such that sub is contained within S[start:end].  Optional\n",
      "    arguments start and end are interpreted as in slice notation.\n",
      "    \n",
      "    Return -1 on failure.\n",
      "\n",
      "None\n"
     ]
    }
   ],
   "source": [
    "print(help(str.find))"
   ]
  },
  {
   "cell_type": "markdown",
   "id": "ae208506",
   "metadata": {},
   "source": [
    "# Sequence datatype object initialization"
   ]
  },
  {
   "cell_type": "code",
   "execution_count": 73,
   "id": "04110135",
   "metadata": {},
   "outputs": [],
   "source": [
    "strsample = 'learning is fun !'"
   ]
  },
  {
   "cell_type": "code",
   "execution_count": 74,
   "id": "9892daff",
   "metadata": {},
   "outputs": [],
   "source": [
    "lstsample = [1,2,'a','sam',2]"
   ]
  },
  {
   "cell_type": "code",
   "execution_count": 75,
   "id": "d74be281",
   "metadata": {},
   "outputs": [],
   "source": [
    "from array import * "
   ]
  },
  {
   "cell_type": "code",
   "execution_count": 76,
   "id": "44714f57",
   "metadata": {},
   "outputs": [],
   "source": [
    "arrsample = array('i',[1,2,3,4])"
   ]
  },
  {
   "cell_type": "code",
   "execution_count": 77,
   "id": "cc2c974b",
   "metadata": {},
   "outputs": [],
   "source": [
    "tupsample = (1,2,3,4,3,'py')"
   ]
  },
  {
   "cell_type": "code",
   "execution_count": 78,
   "id": "0e9a1653",
   "metadata": {},
   "outputs": [],
   "source": [
    "dictsample = {1:'first' , 'second':2,3:3,'four':'4'}   # dictionary"
   ]
  },
  {
   "cell_type": "code",
   "execution_count": 30,
   "id": "3417fb58",
   "metadata": {},
   "outputs": [
    {
     "name": "stdout",
     "output_type": "stream",
     "text": [
      "1\n",
      "5\n",
      "9\n"
     ]
    }
   ],
   "source": [
    "setsample = {'example',24,87.5,'data',24,'data'}\n",
    "\n",
    "keys = (1,'second',3,'foue')\n",
    "\n",
    "rangesample = range(1,12,4)\n",
    "for x in rangesample:print(x)"
   ]
  },
  {
   "cell_type": "markdown",
   "id": "ae0d1a30",
   "metadata": {},
   "source": [
    "# len(object) returns number of elements in the object"
   ]
  },
  {
   "cell_type": "markdown",
   "id": "6b31c9ac",
   "metadata": {},
   "source": [
    "accept object type: string,list,array,tuple,dictionary,set,range"
   ]
  },
  {
   "cell_type": "code",
   "execution_count": 31,
   "id": "90e10071",
   "metadata": {},
   "outputs": [
    {
     "name": "stdout",
     "output_type": "stream",
     "text": [
      "No. of elements in the object :\n",
      " string = 17, list = 5, array = 4, tuple = 6,       dictionary = 4, set = 4, range = 3 \n"
     ]
    }
   ],
   "source": [
    "print(\"No. of elements in the object :\")\n",
    "print(\" string = {}, list = {}, array = {}, tuple = {}, \\\n",
    "      dictionary = {}, set = {}, range = {} \".format(len(strsample),len(lstsample),\n",
    "      len(arrsample),len(tupsample),len(dictsample),len(setsample),len(rangesample)))"
   ]
  },
  {
   "cell_type": "code",
   "execution_count": 32,
   "id": "ea45e03e",
   "metadata": {},
   "outputs": [
    {
     "name": "stdout",
     "output_type": "stream",
     "text": [
      "[1, 2, 'a', 'sam', 2]\n"
     ]
    }
   ],
   "source": [
    "print(lstsample)"
   ]
  },
  {
   "cell_type": "code",
   "execution_count": 33,
   "id": "fb596495",
   "metadata": {},
   "outputs": [
    {
     "name": "stdout",
     "output_type": "stream",
     "text": [
      "[2, 'sam', 'a', 2, 1]\n"
     ]
    }
   ],
   "source": [
    "lstsample.reverse()\n",
    "print(lstsample)"
   ]
  },
  {
   "cell_type": "markdown",
   "id": "c30ef220",
   "metadata": {},
   "source": [
    "# The clear() method removes all items from the object"
   ]
  },
  {
   "cell_type": "markdown",
   "id": "6d4da762",
   "metadata": {},
   "source": [
    "Supports sequence data: list,dictionary,set"
   ]
  },
  {
   "cell_type": "code",
   "execution_count": 40,
   "id": "05bfee23",
   "metadata": {},
   "outputs": [
    {
     "name": "stdout",
     "output_type": "stream",
     "text": [
      "[]\n"
     ]
    }
   ],
   "source": [
    "lstsample.clear()\n",
    "print(lstsample)"
   ]
  },
  {
   "cell_type": "code",
   "execution_count": 41,
   "id": "9a13c308",
   "metadata": {},
   "outputs": [
    {
     "name": "stdout",
     "output_type": "stream",
     "text": [
      "{}\n"
     ]
    }
   ],
   "source": [
    "dictsample.clear()\n",
    "print(dictsample)"
   ]
  },
  {
   "cell_type": "code",
   "execution_count": 42,
   "id": "e7a2e03f",
   "metadata": {},
   "outputs": [
    {
     "name": "stdout",
     "output_type": "stream",
     "text": [
      "set()\n"
     ]
    }
   ],
   "source": [
    "setsample.clear()\n",
    "print(setsample)"
   ]
  },
  {
   "cell_type": "markdown",
   "id": "252e61c8",
   "metadata": {},
   "source": [
    "# append() Adds an element at the end of the object"
   ]
  },
  {
   "cell_type": "markdown",
   "id": "d0190765",
   "metadata": {},
   "source": [
    "Supported datatypes: array,list,set"
   ]
  },
  {
   "cell_type": "code",
   "execution_count": 34,
   "id": "57952c1f",
   "metadata": {},
   "outputs": [
    {
     "name": "stdout",
     "output_type": "stream",
     "text": [
      "array('i', [1, 2, 3, 4, 3])\n"
     ]
    }
   ],
   "source": [
    "arrsample.append(3)\n",
    "print(arrsample)"
   ]
  },
  {
   "cell_type": "code",
   "execution_count": 35,
   "id": "41012814",
   "metadata": {},
   "outputs": [
    {
     "name": "stdout",
     "output_type": "stream",
     "text": [
      "[2, 'sam', 'a', 2, 1]\n"
     ]
    }
   ],
   "source": [
    "print(lstsample)"
   ]
  },
  {
   "cell_type": "code",
   "execution_count": 36,
   "id": "8780288e",
   "metadata": {},
   "outputs": [
    {
     "name": "stdout",
     "output_type": "stream",
     "text": [
      "[2, 'sam', 'a', 2, 1, [2, 4]]\n"
     ]
    }
   ],
   "source": [
    "lstsample.append([2,4])\n",
    "print(lstsample)"
   ]
  },
  {
   "cell_type": "code",
   "execution_count": 37,
   "id": "cf7fba00",
   "metadata": {},
   "outputs": [
    {
     "ename": "AttributeError",
     "evalue": "'set' object has no attribute 'append'",
     "output_type": "error",
     "traceback": [
      "\u001b[1;31m---------------------------------------------------------------------------\u001b[0m",
      "\u001b[1;31mAttributeError\u001b[0m                            Traceback (most recent call last)",
      "\u001b[1;32m~\\AppData\\Local\\Temp\\ipykernel_9936\\4239054617.py\u001b[0m in \u001b[0;36m<module>\u001b[1;34m\u001b[0m\n\u001b[1;32m----> 1\u001b[1;33m \u001b[0msetsample\u001b[0m\u001b[1;33m.\u001b[0m\u001b[0mappend\u001b[0m\u001b[1;33m(\u001b[0m\u001b[1;36m20\u001b[0m\u001b[1;33m)\u001b[0m   \u001b[1;31m#  AttributeError: 'set' object has no attribute 'append'\u001b[0m\u001b[1;33m\u001b[0m\u001b[1;33m\u001b[0m\u001b[0m\n\u001b[0m\u001b[0;32m      2\u001b[0m \u001b[0mprint\u001b[0m\u001b[1;33m(\u001b[0m\u001b[0msetsample\u001b[0m\u001b[1;33m)\u001b[0m\u001b[1;33m\u001b[0m\u001b[1;33m\u001b[0m\u001b[0m\n",
      "\u001b[1;31mAttributeError\u001b[0m: 'set' object has no attribute 'append'"
     ]
    }
   ],
   "source": [
    "setsample.append(20)   #  AttributeError: 'set' object has no attribute 'append'\n",
    "print(setsample)"
   ]
  },
  {
   "cell_type": "code",
   "execution_count": 38,
   "id": "d74221fd",
   "metadata": {},
   "outputs": [
    {
     "name": "stdout",
     "output_type": "stream",
     "text": [
      "{20, 87.5, 24, 'example', 'data'}\n"
     ]
    }
   ],
   "source": [
    "setsample.add(20)    # add() takes single parametre(element) which need to be added in the set\n",
    " \n",
    "print(setsample)"
   ]
  },
  {
   "cell_type": "markdown",
   "id": "23fe0f3f",
   "metadata": {},
   "source": [
    "# update() :- function in set adds element from a set (passed as an argument) to the set"
   ]
  },
  {
   "cell_type": "markdown",
   "id": "316080ed",
   "metadata": {},
   "source": [
    "- This method take only single argument\n",
    "\n",
    "- The single argument can be a set, list, tuple or a dictionary\n",
    "\n",
    "- It automatically converts into a set and adds to the set"
   ]
  },
  {
   "cell_type": "code",
   "execution_count": 39,
   "id": "fb50c61a",
   "metadata": {},
   "outputs": [
    {
     "name": "stdout",
     "output_type": "stream",
     "text": [
      "{5, 10, 20, 87.5, 24, 'example', 'data'}\n"
     ]
    }
   ],
   "source": [
    "setsample.update([5,10])\n",
    "print(setsample)"
   ]
  },
  {
   "cell_type": "markdown",
   "id": "0632778e",
   "metadata": {},
   "source": [
    "# Dictionary Methods"
   ]
  },
  {
   "cell_type": "code",
   "execution_count": 40,
   "id": "e35889a8",
   "metadata": {},
   "outputs": [
    {
     "name": "stdout",
     "output_type": "stream",
     "text": [
      "{1: 'first', 'second': 2, 3: 3, 'four': '4'}\n"
     ]
    }
   ],
   "source": [
    "print(dictsample)"
   ]
  },
  {
   "cell_type": "code",
   "execution_count": 41,
   "id": "6cfa8dd4",
   "metadata": {},
   "outputs": [
    {
     "name": "stdout",
     "output_type": "stream",
     "text": [
      "{1: 'first', 'second': 2, 3: 3, 'four': '4', 'five': 5}\n"
     ]
    }
   ],
   "source": [
    "dictsample[\"five\"] = 5\n",
    "print(dictsample)"
   ]
  },
  {
   "cell_type": "code",
   "execution_count": 42,
   "id": "2468b1c9",
   "metadata": {},
   "outputs": [
    {
     "name": "stdout",
     "output_type": "stream",
     "text": [
      "{1: 'first', 'second': 2, 3: 3, 'four': '4', 'five': 5}\n"
     ]
    }
   ],
   "source": [
    "dictsample.update(five = 5)\n",
    "\n",
    "print(dictsample)"
   ]
  },
  {
   "cell_type": "code",
   "execution_count": 43,
   "id": "daa58b47",
   "metadata": {},
   "outputs": [
    {
     "data": {
      "text/plain": [
       "[1, 'second', 3, 'four', 'five']"
      ]
     },
     "execution_count": 43,
     "metadata": {},
     "output_type": "execute_result"
    }
   ],
   "source": [
    "list(dictsample)"
   ]
  },
  {
   "cell_type": "code",
   "execution_count": 44,
   "id": "eacf68b0",
   "metadata": {},
   "outputs": [
    {
     "data": {
      "text/plain": [
       "5"
      ]
     },
     "execution_count": 44,
     "metadata": {},
     "output_type": "execute_result"
    }
   ],
   "source": [
    "len(dictsample)"
   ]
  },
  {
   "cell_type": "code",
   "execution_count": 45,
   "id": "da5c1dd8",
   "metadata": {},
   "outputs": [
    {
     "data": {
      "text/plain": [
       "5"
      ]
     },
     "execution_count": 45,
     "metadata": {},
     "output_type": "execute_result"
    }
   ],
   "source": [
    "dictsample.get(\"five\")"
   ]
  },
  {
   "cell_type": "code",
   "execution_count": 46,
   "id": "da94ac0f",
   "metadata": {},
   "outputs": [
    {
     "data": {
      "text/plain": [
       "dict_keys([1, 'second', 3, 'four', 'five'])"
      ]
     },
     "execution_count": 46,
     "metadata": {},
     "output_type": "execute_result"
    }
   ],
   "source": [
    "dictsample.keys()"
   ]
  },
  {
   "cell_type": "code",
   "execution_count": 47,
   "id": "c381c244",
   "metadata": {},
   "outputs": [
    {
     "data": {
      "text/plain": [
       "dict_items([(1, 'first'), ('second', 2), (3, 3), ('four', '4'), ('five', 5)])"
      ]
     },
     "execution_count": 47,
     "metadata": {},
     "output_type": "execute_result"
    }
   ],
   "source": [
    "dictsample.items()"
   ]
  },
  {
   "cell_type": "markdown",
   "id": "09dc65c9",
   "metadata": {},
   "source": [
    "# insert() :- insert the element at the specified index of the object"
   ]
  },
  {
   "cell_type": "markdown",
   "id": "44ed8f57",
   "metadata": {},
   "source": [
    "- Supported datatype: array,lisr"
   ]
  },
  {
   "cell_type": "code",
   "execution_count": 48,
   "id": "9791ec74",
   "metadata": {},
   "outputs": [
    {
     "name": "stdout",
     "output_type": "stream",
     "text": [
      "array('i', [1, 2, 3, 4, 3])\n"
     ]
    }
   ],
   "source": [
    "print(arrsample)"
   ]
  },
  {
   "cell_type": "code",
   "execution_count": 49,
   "id": "e2e44ee7",
   "metadata": {},
   "outputs": [
    {
     "name": "stdout",
     "output_type": "stream",
     "text": [
      "array('i', [1, 100, 2, 3, 4, 3])\n"
     ]
    }
   ],
   "source": [
    "arrsample.insert(1,100)   # inserting the element 100 at 2nd position\n",
    "                     # first argument is position,and second argument is element tht should be added\n",
    "print(arrsample)"
   ]
  },
  {
   "cell_type": "code",
   "execution_count": 50,
   "id": "165b7f9b",
   "metadata": {},
   "outputs": [
    {
     "name": "stdout",
     "output_type": "stream",
     "text": [
      "[2, 'sam', 'a', 2, 1, 24, [2, 4]]\n"
     ]
    }
   ],
   "source": [
    "lstsample.insert(5,24)\n",
    "print(lstsample)"
   ]
  },
  {
   "cell_type": "markdown",
   "id": "1f337dc9",
   "metadata": {},
   "source": [
    "# pop() :- removes the elements at the given index from the object and prints the same"
   ]
  },
  {
   "cell_type": "markdown",
   "id": "478f6e1c",
   "metadata": {},
   "source": [
    "- default values is -1, which returns the last items\n",
    "\n",
    "- Supported datatypes: array,list,set,dictionary"
   ]
  },
  {
   "cell_type": "code",
   "execution_count": 51,
   "id": "429081ab",
   "metadata": {},
   "outputs": [
    {
     "data": {
      "text/plain": [
       "3"
      ]
     },
     "execution_count": 51,
     "metadata": {},
     "output_type": "execute_result"
    }
   ],
   "source": [
    "arrsample.pop()"
   ]
  },
  {
   "cell_type": "code",
   "execution_count": 52,
   "id": "288d7052",
   "metadata": {},
   "outputs": [
    {
     "name": "stdout",
     "output_type": "stream",
     "text": [
      "array('i', [1, 100, 2, 3, 4])\n"
     ]
    }
   ],
   "source": [
    "print(arrsample)"
   ]
  },
  {
   "cell_type": "code",
   "execution_count": 54,
   "id": "eff27f53",
   "metadata": {},
   "outputs": [
    {
     "name": "stdout",
     "output_type": "stream",
     "text": [
      "[2, 'sam', 'a', 2, 1, 24, [2, 4]]\n"
     ]
    },
    {
     "data": {
      "text/plain": [
       "1"
      ]
     },
     "execution_count": 54,
     "metadata": {},
     "output_type": "execute_result"
    }
   ],
   "source": [
    "print(lstsample)\n",
    "lstsample.pop(4)           # deleting the 5th element from the list"
   ]
  },
  {
   "cell_type": "code",
   "execution_count": 55,
   "id": "78988f1f",
   "metadata": {},
   "outputs": [
    {
     "name": "stdout",
     "output_type": "stream",
     "text": [
      "{1: 'first', 'second': 2, 3: 3, 'four': '4', 'five': 5}\n"
     ]
    },
    {
     "data": {
      "text/plain": [
       "2"
      ]
     },
     "execution_count": 55,
     "metadata": {},
     "output_type": "execute_result"
    }
   ],
   "source": [
    "print(dictsample)\n",
    "dictsample.pop('second')"
   ]
  },
  {
   "cell_type": "code",
   "execution_count": 56,
   "id": "de621870",
   "metadata": {},
   "outputs": [
    {
     "data": {
      "text/plain": [
       "3"
      ]
     },
     "execution_count": 56,
     "metadata": {},
     "output_type": "execute_result"
    }
   ],
   "source": [
    "dictsample.pop(3)"
   ]
  },
  {
   "cell_type": "markdown",
   "id": "d71ea0b2",
   "metadata": {},
   "source": [
    "### Set is an unordered sequence and hence pop is not usually used."
   ]
  },
  {
   "cell_type": "markdown",
   "id": "0d73f83d",
   "metadata": {},
   "source": [
    "# remove() :- method remove the first occurence of the elements with the specified value"
   ]
  },
  {
   "cell_type": "markdown",
   "id": "67b25cf2",
   "metadata": {},
   "source": [
    "- Supported datatypes: array,list,dictionary,set"
   ]
  },
  {
   "cell_type": "code",
   "execution_count": 57,
   "id": "5fd16130",
   "metadata": {},
   "outputs": [
    {
     "name": "stdout",
     "output_type": "stream",
     "text": [
      "array('i', [1, 100, 2, 3, 4])\n"
     ]
    }
   ],
   "source": [
    "print(arrsample)"
   ]
  },
  {
   "cell_type": "code",
   "execution_count": 58,
   "id": "392955fd",
   "metadata": {},
   "outputs": [
    {
     "ename": "ValueError",
     "evalue": "array.remove(x): x not in array",
     "output_type": "error",
     "traceback": [
      "\u001b[1;31m---------------------------------------------------------------------------\u001b[0m",
      "\u001b[1;31mValueError\u001b[0m                                Traceback (most recent call last)",
      "\u001b[1;32m~\\AppData\\Local\\Temp\\ipykernel_9936\\2048257524.py\u001b[0m in \u001b[0;36m<module>\u001b[1;34m\u001b[0m\n\u001b[1;32m----> 1\u001b[1;33m \u001b[0marrsample\u001b[0m\u001b[1;33m.\u001b[0m\u001b[0mremove\u001b[0m\u001b[1;33m(\u001b[0m\u001b[1;36m0\u001b[0m\u001b[1;33m)\u001b[0m\u001b[1;33m\u001b[0m\u001b[1;33m\u001b[0m\u001b[0m\n\u001b[0m",
      "\u001b[1;31mValueError\u001b[0m: array.remove(x): x not in array"
     ]
    }
   ],
   "source": [
    "arrsample.remove(0)      # ValueError: array.remove(x): x not in array\n"
   ]
  },
  {
   "cell_type": "code",
   "execution_count": 59,
   "id": "78402b09",
   "metadata": {},
   "outputs": [
    {
     "name": "stdout",
     "output_type": "stream",
     "text": [
      "array('i', [1, 100, 3, 4])\n"
     ]
    }
   ],
   "source": [
    "arrsample.remove(2)\n",
    "print(arrsample)"
   ]
  },
  {
   "cell_type": "code",
   "execution_count": 60,
   "id": "a2d73898",
   "metadata": {},
   "outputs": [
    {
     "name": "stdout",
     "output_type": "stream",
     "text": [
      "[2, 'sam', 'a', 2, 24, [2, 4]]\n",
      "[2, 'a', 2, 24, [2, 4]]\n"
     ]
    }
   ],
   "source": [
    "print(lstsample)\n",
    "lstsample.remove('sam')\n",
    "print(lstsample)"
   ]
  },
  {
   "cell_type": "code",
   "execution_count": 62,
   "id": "c70fccae",
   "metadata": {},
   "outputs": [
    {
     "name": "stdout",
     "output_type": "stream",
     "text": [
      "{5, 10, 20, 87.5, 24, 'example', 'data'}\n"
     ]
    },
    {
     "ename": "KeyError",
     "evalue": "57",
     "output_type": "error",
     "traceback": [
      "\u001b[1;31m---------------------------------------------------------------------------\u001b[0m",
      "\u001b[1;31mKeyError\u001b[0m                                  Traceback (most recent call last)",
      "\u001b[1;32m~\\AppData\\Local\\Temp\\ipykernel_9936\\812667070.py\u001b[0m in \u001b[0;36m<module>\u001b[1;34m\u001b[0m\n\u001b[0;32m      1\u001b[0m \u001b[0mprint\u001b[0m\u001b[1;33m(\u001b[0m\u001b[0msetsample\u001b[0m\u001b[1;33m)\u001b[0m\u001b[1;33m\u001b[0m\u001b[1;33m\u001b[0m\u001b[0m\n\u001b[1;32m----> 2\u001b[1;33m \u001b[0msetsample\u001b[0m\u001b[1;33m.\u001b[0m\u001b[0mremove\u001b[0m\u001b[1;33m(\u001b[0m\u001b[1;36m57\u001b[0m\u001b[1;33m)\u001b[0m    \u001b[1;31m# KeyError: 57\u001b[0m\u001b[1;33m\u001b[0m\u001b[1;33m\u001b[0m\u001b[0m\n\u001b[0m",
      "\u001b[1;31mKeyError\u001b[0m: 57"
     ]
    }
   ],
   "source": [
    "print(setsample)\n",
    "setsample.remove(57)    # KeyError: 57"
   ]
  },
  {
   "cell_type": "code",
   "execution_count": 64,
   "id": "e8974ef2",
   "metadata": {},
   "outputs": [
    {
     "name": "stdout",
     "output_type": "stream",
     "text": [
      "{5, 10, 20, 87.5, 24, 'example', 'data'}\n"
     ]
    }
   ],
   "source": [
    "setsample.discard(57)    # The set remains unchanged if element passed discard() method doesn't exist\n",
    " \n",
    "print(setsample)"
   ]
  },
  {
   "cell_type": "markdown",
   "id": "5dd045aa",
   "metadata": {},
   "source": [
    "# del   :- deletes the entire object of any data sets "
   ]
  },
  {
   "cell_type": "markdown",
   "id": "78814e30",
   "metadata": {},
   "source": [
    "- Syntax: del obj_name\n",
    "\n",
    "- del is a python keyword \n",
    "\n",
    "- obj_name can be variable, user-defined,lists,items within lists,dictionaries etc."
   ]
  },
  {
   "cell_type": "code",
   "execution_count": 65,
   "id": "559b755e",
   "metadata": {},
   "outputs": [
    {
     "ename": "NameError",
     "evalue": "name 'setsample' is not defined",
     "output_type": "error",
     "traceback": [
      "\u001b[1;31m---------------------------------------------------------------------------\u001b[0m",
      "\u001b[1;31mNameError\u001b[0m                                 Traceback (most recent call last)",
      "\u001b[1;32m~\\AppData\\Local\\Temp\\ipykernel_9936\\3163341964.py\u001b[0m in \u001b[0;36m<module>\u001b[1;34m\u001b[0m\n\u001b[0;32m      1\u001b[0m \u001b[1;32mdel\u001b[0m \u001b[0msetsample\u001b[0m\u001b[1;33m\u001b[0m\u001b[1;33m\u001b[0m\u001b[0m\n\u001b[1;32m----> 2\u001b[1;33m \u001b[0mprint\u001b[0m\u001b[1;33m(\u001b[0m\u001b[0msetsample\u001b[0m\u001b[1;33m)\u001b[0m\u001b[1;33m\u001b[0m\u001b[1;33m\u001b[0m\u001b[0m\n\u001b[0m",
      "\u001b[1;31mNameError\u001b[0m: name 'setsample' is not defined"
     ]
    }
   ],
   "source": [
    "del setsample\n",
    "print(setsample)"
   ]
  },
  {
   "cell_type": "code",
   "execution_count": 66,
   "id": "dff1ba15",
   "metadata": {},
   "outputs": [
    {
     "ename": "NameError",
     "evalue": "name 'arrsample' is not defined",
     "output_type": "error",
     "traceback": [
      "\u001b[1;31m---------------------------------------------------------------------------\u001b[0m",
      "\u001b[1;31mNameError\u001b[0m                                 Traceback (most recent call last)",
      "\u001b[1;32m~\\AppData\\Local\\Temp\\ipykernel_9936\\3306560701.py\u001b[0m in \u001b[0;36m<module>\u001b[1;34m\u001b[0m\n\u001b[0;32m      1\u001b[0m \u001b[1;32mdel\u001b[0m \u001b[0marrsample\u001b[0m\u001b[1;33m\u001b[0m\u001b[1;33m\u001b[0m\u001b[0m\n\u001b[1;32m----> 2\u001b[1;33m \u001b[0mprint\u001b[0m\u001b[1;33m(\u001b[0m\u001b[0marrsample\u001b[0m\u001b[1;33m)\u001b[0m\u001b[1;33m\u001b[0m\u001b[1;33m\u001b[0m\u001b[0m\n\u001b[0m",
      "\u001b[1;31mNameError\u001b[0m: name 'arrsample' is not defined"
     ]
    }
   ],
   "source": [
    "del arrsample\n",
    "print(arrsample)"
   ]
  },
  {
   "cell_type": "code",
   "execution_count": 67,
   "id": "e74fa0c4",
   "metadata": {},
   "outputs": [
    {
     "ename": "NameError",
     "evalue": "name 'lstsample' is not defined",
     "output_type": "error",
     "traceback": [
      "\u001b[1;31m---------------------------------------------------------------------------\u001b[0m",
      "\u001b[1;31mNameError\u001b[0m                                 Traceback (most recent call last)",
      "\u001b[1;32m~\\AppData\\Local\\Temp\\ipykernel_9936\\2776254869.py\u001b[0m in \u001b[0;36m<module>\u001b[1;34m\u001b[0m\n\u001b[0;32m      1\u001b[0m \u001b[1;32mdel\u001b[0m \u001b[0mlstsample\u001b[0m\u001b[1;33m\u001b[0m\u001b[1;33m\u001b[0m\u001b[0m\n\u001b[1;32m----> 2\u001b[1;33m \u001b[0mprint\u001b[0m\u001b[1;33m(\u001b[0m\u001b[0mlstsample\u001b[0m\u001b[1;33m)\u001b[0m\u001b[1;33m\u001b[0m\u001b[1;33m\u001b[0m\u001b[0m\n\u001b[0m",
      "\u001b[1;31mNameError\u001b[0m: name 'lstsample' is not defined"
     ]
    }
   ],
   "source": [
    "del lstsample\n",
    "print(lstsample)"
   ]
  },
  {
   "cell_type": "code",
   "execution_count": 68,
   "id": "c2dc508d",
   "metadata": {},
   "outputs": [
    {
     "ename": "NameError",
     "evalue": "name 'lstsample' is not defined",
     "output_type": "error",
     "traceback": [
      "\u001b[1;31m---------------------------------------------------------------------------\u001b[0m",
      "\u001b[1;31mNameError\u001b[0m                                 Traceback (most recent call last)",
      "\u001b[1;32m~\\AppData\\Local\\Temp\\ipykernel_9936\\3383928563.py\u001b[0m in \u001b[0;36m<module>\u001b[1;34m\u001b[0m\n\u001b[1;32m----> 1\u001b[1;33m \u001b[1;32mdel\u001b[0m \u001b[0mlstsample\u001b[0m\u001b[1;33m[\u001b[0m\u001b[1;36m2\u001b[0m\u001b[1;33m]\u001b[0m\u001b[1;33m\u001b[0m\u001b[1;33m\u001b[0m\u001b[0m\n\u001b[0m\u001b[0;32m      2\u001b[0m \u001b[0mprint\u001b[0m\u001b[1;33m(\u001b[0m\u001b[0mlstsample\u001b[0m\u001b[1;33m)\u001b[0m\u001b[1;33m\u001b[0m\u001b[1;33m\u001b[0m\u001b[0m\n",
      "\u001b[1;31mNameError\u001b[0m: name 'lstsample' is not defined"
     ]
    }
   ],
   "source": [
    "del lstsample[2]\n",
    "print(lstsample)"
   ]
  },
  {
   "cell_type": "code",
   "execution_count": 69,
   "id": "47e6969b",
   "metadata": {},
   "outputs": [
    {
     "ename": "NameError",
     "evalue": "name 'lstsample' is not defined",
     "output_type": "error",
     "traceback": [
      "\u001b[1;31m---------------------------------------------------------------------------\u001b[0m",
      "\u001b[1;31mNameError\u001b[0m                                 Traceback (most recent call last)",
      "\u001b[1;32m~\\AppData\\Local\\Temp\\ipykernel_9936\\1741124727.py\u001b[0m in \u001b[0;36m<module>\u001b[1;34m\u001b[0m\n\u001b[1;32m----> 1\u001b[1;33m \u001b[1;32mdel\u001b[0m \u001b[0mlstsample\u001b[0m\u001b[1;33m[\u001b[0m\u001b[1;36m1\u001b[0m\u001b[1;33m:\u001b[0m\u001b[1;36m3\u001b[0m\u001b[1;33m]\u001b[0m\u001b[1;33m\u001b[0m\u001b[1;33m\u001b[0m\u001b[0m\n\u001b[0m\u001b[0;32m      2\u001b[0m \u001b[0mprint\u001b[0m\u001b[1;33m(\u001b[0m\u001b[0mlstsample\u001b[0m\u001b[1;33m)\u001b[0m\u001b[1;33m\u001b[0m\u001b[1;33m\u001b[0m\u001b[0m\n",
      "\u001b[1;31mNameError\u001b[0m: name 'lstsample' is not defined"
     ]
    }
   ],
   "source": [
    "del lstsample[1:3]\n",
    "print(lstsample)"
   ]
  },
  {
   "cell_type": "code",
   "execution_count": 70,
   "id": "a4365fd2",
   "metadata": {},
   "outputs": [
    {
     "ename": "NameError",
     "evalue": "name 'lstsample' is not defined",
     "output_type": "error",
     "traceback": [
      "\u001b[1;31m---------------------------------------------------------------------------\u001b[0m",
      "\u001b[1;31mNameError\u001b[0m                                 Traceback (most recent call last)",
      "\u001b[1;32m~\\AppData\\Local\\Temp\\ipykernel_9936\\3219055106.py\u001b[0m in \u001b[0;36m<module>\u001b[1;34m\u001b[0m\n\u001b[1;32m----> 1\u001b[1;33m \u001b[1;32mdel\u001b[0m \u001b[0mlstsample\u001b[0m\u001b[1;33m[\u001b[0m\u001b[1;33m:\u001b[0m\u001b[1;33m]\u001b[0m\u001b[1;33m\u001b[0m\u001b[1;33m\u001b[0m\u001b[0m\n\u001b[0m\u001b[0;32m      2\u001b[0m \u001b[0mprint\u001b[0m\u001b[1;33m(\u001b[0m\u001b[0mlstsample\u001b[0m\u001b[1;33m)\u001b[0m\u001b[1;33m\u001b[0m\u001b[1;33m\u001b[0m\u001b[0m\n",
      "\u001b[1;31mNameError\u001b[0m: name 'lstsample' is not defined"
     ]
    }
   ],
   "source": [
    "del lstsample[:]\n",
    "print(lstsample)"
   ]
  },
  {
   "cell_type": "code",
   "execution_count": 71,
   "id": "59cee9ab",
   "metadata": {},
   "outputs": [
    {
     "ename": "NameError",
     "evalue": "name 'dictsample' is not defined",
     "output_type": "error",
     "traceback": [
      "\u001b[1;31m---------------------------------------------------------------------------\u001b[0m",
      "\u001b[1;31mNameError\u001b[0m                                 Traceback (most recent call last)",
      "\u001b[1;32m~\\AppData\\Local\\Temp\\ipykernel_9936\\2611923484.py\u001b[0m in \u001b[0;36m<module>\u001b[1;34m\u001b[0m\n\u001b[0;32m      1\u001b[0m \u001b[1;32mdel\u001b[0m \u001b[0mdictsample\u001b[0m\u001b[1;33m\u001b[0m\u001b[1;33m\u001b[0m\u001b[0m\n\u001b[1;32m----> 2\u001b[1;33m \u001b[0mprint\u001b[0m\u001b[1;33m(\u001b[0m\u001b[0mdictsample\u001b[0m\u001b[1;33m)\u001b[0m\u001b[1;33m\u001b[0m\u001b[1;33m\u001b[0m\u001b[0m\n\u001b[0m",
      "\u001b[1;31mNameError\u001b[0m: name 'dictsample' is not defined"
     ]
    }
   ],
   "source": [
    "del dictsample\n",
    "print(dictsample)"
   ]
  },
  {
   "cell_type": "markdown",
   "id": "e1711a2c",
   "metadata": {},
   "source": [
    "# extend()- methods adds the specified list elements                      ( or any iterable- list,set,tuple,etc.) to the end of the current list"
   ]
  },
  {
   "cell_type": "markdown",
   "id": "09248a3f",
   "metadata": {},
   "source": [
    "# Array operations"
   ]
  },
  {
   "cell_type": "code",
   "execution_count": 79,
   "id": "e0f35ad4",
   "metadata": {},
   "outputs": [
    {
     "name": "stdout",
     "output_type": "stream",
     "text": [
      "array('i', [1, 2, 3, 4, 4, 5, 3, 5])\n"
     ]
    }
   ],
   "source": [
    "arrsample.extend((4,5,3,5))\n",
    "print(arrsample)"
   ]
  },
  {
   "cell_type": "code",
   "execution_count": 80,
   "id": "50c19232",
   "metadata": {},
   "outputs": [
    {
     "ename": "TypeError",
     "evalue": "an integer is required (got type str)",
     "output_type": "error",
     "traceback": [
      "\u001b[1;31m---------------------------------------------------------------------------\u001b[0m",
      "\u001b[1;31mTypeError\u001b[0m                                 Traceback (most recent call last)",
      "\u001b[1;32m~\\AppData\\Local\\Temp\\ipykernel_9936\\3935601444.py\u001b[0m in \u001b[0;36m<module>\u001b[1;34m\u001b[0m\n\u001b[1;32m----> 1\u001b[1;33m \u001b[0mprint\u001b[0m\u001b[1;33m(\u001b[0m\u001b[0marrsample\u001b[0m\u001b[1;33m.\u001b[0m\u001b[0mextend\u001b[0m\u001b[1;33m(\u001b[0m\u001b[1;33m[\u001b[0m\u001b[1;34m'sam'\u001b[0m\u001b[1;33m]\u001b[0m\u001b[1;33m)\u001b[0m\u001b[1;33m)\u001b[0m\u001b[1;33m\u001b[0m\u001b[1;33m\u001b[0m\u001b[0m\n\u001b[0m",
      "\u001b[1;31mTypeError\u001b[0m: an integer is required (got type str)"
     ]
    }
   ],
   "source": [
    "print(arrsample.extend(['sam']))   # TypeError: an integer is required (got type str)"
   ]
  },
  {
   "cell_type": "code",
   "execution_count": 81,
   "id": "d738c915",
   "metadata": {},
   "outputs": [
    {
     "name": "stdout",
     "output_type": "stream",
     "text": [
      "array('i', [1, 2, 3, 4, 4, 5, 3, 5, 3, 4])\n"
     ]
    },
    {
     "data": {
      "text/plain": [
       "[1, 2, 3, 4, 4, 5, 3, 5, 3, 4]"
      ]
     },
     "execution_count": 81,
     "metadata": {},
     "output_type": "execute_result"
    }
   ],
   "source": [
    "arrsample.fromlist([3,4])\n",
    "print(arrsample)\n",
    "\n",
    "arrsample.tolist()"
   ]
  },
  {
   "cell_type": "markdown",
   "id": "f3935c71",
   "metadata": {},
   "source": [
    "# List operations"
   ]
  },
  {
   "cell_type": "markdown",
   "id": "f0196b77",
   "metadata": {},
   "source": [
    "- Create a list using loop and function"
   ]
  },
  {
   "cell_type": "code",
   "execution_count": null,
   "id": "76aa7b62",
   "metadata": {},
   "outputs": [],
   "source": [
    "def number(n):\n",
    "    return [i for i in range(1,n+1)]"
   ]
  },
  {
   "cell_type": "code",
   "execution_count": null,
   "id": "43fa239b",
   "metadata": {},
   "outputs": [],
   "source": [
    "number(10)"
   ]
  },
  {
   "cell_type": "markdown",
   "id": "8055cc65",
   "metadata": {},
   "source": [
    "# Set operations"
   ]
  },
  {
   "cell_type": "markdown",
   "id": "e7749f8f",
   "metadata": {},
   "source": [
    "## Set Sample"
   ]
  },
  {
   "cell_type": "markdown",
   "id": "3028e031",
   "metadata": {},
   "source": [
    "* A set is an unordered collecton of items\n",
    "   - Every elements is unique (no duplicates)\n",
    "   - Sets can be used to perform mathematical set operations like\n",
    "   union, intersection symmetric,difference etc.\n",
    "   "
   ]
  },
  {
   "cell_type": "code",
   "execution_count": 82,
   "id": "11abb13a",
   "metadata": {},
   "outputs": [
    {
     "name": "stdout",
     "output_type": "stream",
     "text": [
      "{24, 'example', 'data', 87.5}\n"
     ]
    }
   ],
   "source": [
    "A = {'example',24,87.5,'data',24,'data'}\n",
    "print(A)"
   ]
  },
  {
   "cell_type": "code",
   "execution_count": 84,
   "id": "7f7a6cb9",
   "metadata": {},
   "outputs": [
    {
     "name": "stdout",
     "output_type": "stream",
     "text": [
      "{24, 87.5}\n"
     ]
    }
   ],
   "source": [
    "B = {24,87.5}\n",
    "print(B)"
   ]
  },
  {
   "cell_type": "code",
   "execution_count": 85,
   "id": "d00d6a73",
   "metadata": {},
   "outputs": [
    {
     "name": "stdout",
     "output_type": "stream",
     "text": [
      "{87.5, 24, 'example', 'data'}\n"
     ]
    },
    {
     "data": {
      "text/plain": [
       "{24, 87.5, 'data', 'example'}"
      ]
     },
     "execution_count": 85,
     "metadata": {},
     "output_type": "execute_result"
    }
   ],
   "source": [
    "print(A | B)  # union of A and B is a set of all element from both sets\n",
    "A.union(B)   # using union() on B"
   ]
  },
  {
   "cell_type": "code",
   "execution_count": 86,
   "id": "4fc6f72f",
   "metadata": {},
   "outputs": [
    {
     "name": "stdout",
     "output_type": "stream",
     "text": [
      "{24, 87.5}\n"
     ]
    },
    {
     "data": {
      "text/plain": [
       "{24, 87.5}"
      ]
     },
     "execution_count": 86,
     "metadata": {},
     "output_type": "execute_result"
    }
   ],
   "source": [
    "print(A & B)   # intersection of A and B is a set of all element that are common in both sets\n",
    "A.intersection(B)   # using intersection() on B    "
   ]
  },
  {
   "cell_type": "markdown",
   "id": "a069d02b",
   "metadata": {},
   "source": [
    "# NumPy"
   ]
  },
  {
   "cell_type": "code",
   "execution_count": 1,
   "id": "a668ac5f",
   "metadata": {},
   "outputs": [
    {
     "name": "stdout",
     "output_type": "stream",
     "text": [
      "[1, 2, 3, 4, 5, 6]\n"
     ]
    }
   ],
   "source": [
    "my_list = [1,2,3,4,5,6]\n",
    "print(my_list)"
   ]
  },
  {
   "cell_type": "code",
   "execution_count": 2,
   "id": "7ebbcdbf",
   "metadata": {},
   "outputs": [],
   "source": [
    "import numpy as np"
   ]
  },
  {
   "cell_type": "code",
   "execution_count": 3,
   "id": "a18b9595",
   "metadata": {},
   "outputs": [
    {
     "name": "stdout",
     "output_type": "stream",
     "text": [
      "[1 2 3 4 5 6]\n"
     ]
    }
   ],
   "source": [
    "array = np.array(my_list,dtype=int)\n",
    "print(array)"
   ]
  },
  {
   "cell_type": "code",
   "execution_count": 4,
   "id": "92ef0f30",
   "metadata": {},
   "outputs": [
    {
     "name": "stdout",
     "output_type": "stream",
     "text": [
      "<class 'numpy.ndarray'>\n",
      "6\n",
      "1\n",
      "(6,)\n"
     ]
    }
   ],
   "source": [
    "print(type(array))\n",
    "print(len(array))\n",
    "print(array.ndim)\n",
    "print(array.shape)"
   ]
  },
  {
   "cell_type": "code",
   "execution_count": 5,
   "id": "15dc9ce5",
   "metadata": {},
   "outputs": [
    {
     "name": "stdout",
     "output_type": "stream",
     "text": [
      "[[1 2]\n",
      " [3 4]\n",
      " [5 6]]\n"
     ]
    },
    {
     "data": {
      "text/plain": [
       "(3, 2)"
      ]
     },
     "execution_count": 5,
     "metadata": {},
     "output_type": "execute_result"
    }
   ],
   "source": [
    "array2 =array.reshape(3,2)\n",
    "print(array2)\n",
    "array2.shape"
   ]
  },
  {
   "cell_type": "code",
   "execution_count": 6,
   "id": "a581dc19",
   "metadata": {},
   "outputs": [
    {
     "name": "stdout",
     "output_type": "stream",
     "text": [
      "[[1 2]\n",
      " [3 4]\n",
      " [5 6]]\n",
      "(3, 2)\n",
      "\n",
      "\n",
      "2\n"
     ]
    }
   ],
   "source": [
    "array3 =array.reshape(3,-1)\n",
    "print(array3)\n",
    "\n",
    "print(array3.shape)\n",
    "print('\\n')\n",
    "print(array3.ndim)"
   ]
  },
  {
   "cell_type": "code",
   "execution_count": 7,
   "id": "ba8167e2",
   "metadata": {},
   "outputs": [
    {
     "name": "stdout",
     "output_type": "stream",
     "text": [
      "[[1 2 3 4 5]\n",
      " [2 3 4 5 6]\n",
      " [3 4 5 6 7]]\n",
      "(3, 5)\n"
     ]
    }
   ],
   "source": [
    "##  Initiallizing numpy arrays from nested Python list\n",
    "\n",
    "my_list2 = [1,2,3,4,5]\n",
    "my_list3 = [2,3,4,5,6]\n",
    "my_list4 = [3,4,5,6,7]\n",
    "\n",
    "mul_arr = np.array([my_list2,my_list3,my_list4])\n",
    "print(mul_arr)\n",
    "print(mul_arr.shape)"
   ]
  },
  {
   "cell_type": "code",
   "execution_count": 8,
   "id": "d75641e1",
   "metadata": {},
   "outputs": [
    {
     "data": {
      "text/plain": [
       "array([[1, 2, 3, 4, 5, 2, 3, 4, 5, 6, 3, 4, 5, 6, 7]])"
      ]
     },
     "execution_count": 8,
     "metadata": {},
     "output_type": "execute_result"
    }
   ],
   "source": [
    "mul_arr.reshape(1,15)"
   ]
  },
  {
   "cell_type": "markdown",
   "id": "74736cef",
   "metadata": {},
   "source": [
    "# NumPy-Attributes"
   ]
  },
  {
   "cell_type": "code",
   "execution_count": 9,
   "id": "477a7c40",
   "metadata": {},
   "outputs": [
    {
     "name": "stdout",
     "output_type": "stream",
     "text": [
      "[[1 2 3]\n",
      " [4 5 6]]\n",
      "(2, 3)\n"
     ]
    }
   ],
   "source": [
    "a = np.array([[1,2,3],[4,5,6]])\n",
    "print(a)\n",
    "print(a.shape)"
   ]
  },
  {
   "cell_type": "code",
   "execution_count": 10,
   "id": "f19ab3e5",
   "metadata": {},
   "outputs": [
    {
     "name": "stdout",
     "output_type": "stream",
     "text": [
      "[[1 2]\n",
      " [3 4]\n",
      " [5 6]]\n"
     ]
    }
   ],
   "source": [
    "a.shape = (3,2)\n",
    "print(a)"
   ]
  },
  {
   "cell_type": "code",
   "execution_count": 11,
   "id": "bb49a15e",
   "metadata": {},
   "outputs": [
    {
     "name": "stdout",
     "output_type": "stream",
     "text": [
      "[[1 2]\n",
      " [3 4]\n",
      " [5 6]]\n"
     ]
    }
   ],
   "source": [
    "b= a.reshape(3,2)\n",
    "print(b)"
   ]
  },
  {
   "cell_type": "code",
   "execution_count": 12,
   "id": "e88a62ed",
   "metadata": {},
   "outputs": [],
   "source": [
    "r = range(24)"
   ]
  },
  {
   "cell_type": "code",
   "execution_count": 13,
   "id": "d0073266",
   "metadata": {},
   "outputs": [
    {
     "name": "stdout",
     "output_type": "stream",
     "text": [
      "range(0, 24)\n"
     ]
    }
   ],
   "source": [
    "print(r)"
   ]
  },
  {
   "cell_type": "code",
   "execution_count": 16,
   "id": "fda16dfd",
   "metadata": {},
   "outputs": [
    {
     "name": "stdout",
     "output_type": "stream",
     "text": [
      "[ 0  1  2  3  4  5  6  7  8  9 10 11 12 13 14 15 16 17 18 19 20 21 22 23]\n",
      "1\n"
     ]
    }
   ],
   "source": [
    "# an array of evenly spaced numbers\n",
    "a = np.arange(24)\n",
    "print(a)\n",
    "print(a.ndim)"
   ]
  },
  {
   "cell_type": "code",
   "execution_count": 19,
   "id": "b431c733",
   "metadata": {},
   "outputs": [
    {
     "name": "stdout",
     "output_type": "stream",
     "text": [
      "[[[ 0]\n",
      "  [ 1]\n",
      "  [ 2]\n",
      "  [ 3]]\n",
      "\n",
      " [[ 4]\n",
      "  [ 5]\n",
      "  [ 6]\n",
      "  [ 7]]\n",
      "\n",
      " [[ 8]\n",
      "  [ 9]\n",
      "  [10]\n",
      "  [11]]\n",
      "\n",
      " [[12]\n",
      "  [13]\n",
      "  [14]\n",
      "  [15]]\n",
      "\n",
      " [[16]\n",
      "  [17]\n",
      "  [18]\n",
      "  [19]]\n",
      "\n",
      " [[20]\n",
      "  [21]\n",
      "  [22]\n",
      "  [23]]]\n"
     ]
    }
   ],
   "source": [
    "# reshaping the array 'a'\n",
    "\n",
    "b = a.reshape(6,4,1)\n",
    "print(b)\n"
   ]
  },
  {
   "cell_type": "markdown",
   "id": "0afe4855",
   "metadata": {},
   "source": [
    "# NumPy Arthemetic operations"
   ]
  },
  {
   "cell_type": "code",
   "execution_count": 20,
   "id": "4f34c33b",
   "metadata": {},
   "outputs": [
    {
     "name": "stdout",
     "output_type": "stream",
     "text": [
      "[[1. 2.]\n",
      " [3. 4.]]\n",
      "[[5. 6.]\n",
      " [7. 8.]]\n"
     ]
    }
   ],
   "source": [
    "x = np.array([[1,2],[3,4]], dtype = np.float64)\n",
    "y = np.array([[5,6],[7,8]], dtype = np.float64)\n",
    "print(x)\n",
    "print(y)"
   ]
  },
  {
   "cell_type": "code",
   "execution_count": 21,
   "id": "27458674",
   "metadata": {},
   "outputs": [
    {
     "name": "stdout",
     "output_type": "stream",
     "text": [
      "[[ 6.  8.]\n",
      " [10. 12.]]\n",
      "[[ 6.  8.]\n",
      " [10. 12.]]\n"
     ]
    }
   ],
   "source": [
    "print(x+y)\n",
    "print(np.add(x,y))"
   ]
  },
  {
   "cell_type": "code",
   "execution_count": 22,
   "id": "a1e22de8",
   "metadata": {},
   "outputs": [
    {
     "name": "stdout",
     "output_type": "stream",
     "text": [
      "[[-4. -4.]\n",
      " [-4. -4.]]\n",
      "[[-4. -4.]\n",
      " [-4. -4.]]\n"
     ]
    }
   ],
   "source": [
    "print(x-y)\n",
    "print(np.subtract(x,y))"
   ]
  },
  {
   "cell_type": "code",
   "execution_count": 23,
   "id": "e42c5f6f",
   "metadata": {},
   "outputs": [
    {
     "name": "stdout",
     "output_type": "stream",
     "text": [
      "[[ 5. 12.]\n",
      " [21. 32.]]\n",
      "[[ 5. 12.]\n",
      " [21. 32.]]\n"
     ]
    }
   ],
   "source": [
    "print(x*y)\n",
    "print(np.multiply(x,y))"
   ]
  },
  {
   "cell_type": "code",
   "execution_count": 24,
   "id": "091b3f7d",
   "metadata": {},
   "outputs": [
    {
     "name": "stdout",
     "output_type": "stream",
     "text": [
      "[[19. 22.]\n",
      " [43. 50.]]\n",
      "[[19. 22.]\n",
      " [43. 50.]]\n"
     ]
    }
   ],
   "source": [
    "print(x.dot(y))   # multipication of two matrices\n",
    "print(np.dot(x,y))"
   ]
  },
  {
   "cell_type": "code",
   "execution_count": 26,
   "id": "6c331670",
   "metadata": {},
   "outputs": [
    {
     "name": "stdout",
     "output_type": "stream",
     "text": [
      "[[0.2        0.33333333]\n",
      " [0.42857143 0.5       ]]\n",
      "[[0.2        0.33333333]\n",
      " [0.42857143 0.5       ]]\n"
     ]
    }
   ],
   "source": [
    "print(x/y)\n",
    "print(np.divide(x,y))"
   ]
  },
  {
   "cell_type": "code",
   "execution_count": 31,
   "id": "d1614f0a",
   "metadata": {},
   "outputs": [
    {
     "name": "stdout",
     "output_type": "stream",
     "text": [
      "[[1. 2.]\n",
      " [3. 4.]]\n"
     ]
    }
   ],
   "source": [
    "print(x)"
   ]
  },
  {
   "cell_type": "code",
   "execution_count": 27,
   "id": "ff443f7b",
   "metadata": {},
   "outputs": [
    {
     "name": "stdout",
     "output_type": "stream",
     "text": [
      "10.0\n"
     ]
    }
   ],
   "source": [
    "print(np.sum(x))         # #  compute overall sum "
   ]
  },
  {
   "cell_type": "code",
   "execution_count": 28,
   "id": "1c60c32b",
   "metadata": {},
   "outputs": [
    {
     "name": "stdout",
     "output_type": "stream",
     "text": [
      "[4. 6.]\n"
     ]
    }
   ],
   "source": [
    "print(np.sum(x,axis = 0))    #  compute sum of each column"
   ]
  },
  {
   "cell_type": "code",
   "execution_count": 30,
   "id": "9ba55768",
   "metadata": {},
   "outputs": [
    {
     "name": "stdout",
     "output_type": "stream",
     "text": [
      "[3. 7.]\n"
     ]
    }
   ],
   "source": [
    " print(np.sum(x,axis = 1))    #  compute sum of each row"
   ]
  },
  {
   "cell_type": "markdown",
   "id": "bb908a61",
   "metadata": {},
   "source": [
    "# Assignment 2\n"
   ]
  },
  {
   "cell_type": "code",
   "execution_count": 33,
   "id": "cc74bfbf",
   "metadata": {},
   "outputs": [],
   "source": [
    "# Question1\n",
    "job = \"chemist\""
   ]
  },
  {
   "cell_type": "code",
   "execution_count": 37,
   "id": "37f07ac5",
   "metadata": {},
   "outputs": [
    {
     "data": {
      "text/plain": [
       "'t'"
      ]
     },
     "execution_count": 37,
     "metadata": {},
     "output_type": "execute_result"
    }
   ],
   "source": [
    "job[len(job)-1]\n"
   ]
  },
  {
   "cell_type": "code",
   "execution_count": 39,
   "id": "b246f89e",
   "metadata": {},
   "outputs": [
    {
     "data": {
      "text/plain": [
       "'t'"
      ]
     },
     "execution_count": 39,
     "metadata": {},
     "output_type": "execute_result"
    }
   ],
   "source": [
    "job[-1]"
   ]
  },
  {
   "cell_type": "code",
   "execution_count": 45,
   "id": "7ba5a136",
   "metadata": {},
   "outputs": [
    {
     "name": "stdout",
     "output_type": "stream",
     "text": [
      "75\n"
     ]
    }
   ],
   "source": [
    "# Question 2\n",
    "nst_tup = (\"System\",(60,75,45),(15,3,12))\n",
    "get_num = nst_tup[1][1]\n",
    "print(get_num)"
   ]
  },
  {
   "cell_type": "code",
   "execution_count": 47,
   "id": "befc684c",
   "metadata": {},
   "outputs": [
    {
     "name": "stdout",
     "output_type": "stream",
     "text": [
      "[13, 23, 18, 64, True]\n"
     ]
    }
   ],
   "source": [
    "# Question 3\n",
    "new_list = [13,23,18,64,51]\n",
    "new_list[4] = True\n",
    "print(new_list)"
   ]
  },
  {
   "cell_type": "code",
   "execution_count": 49,
   "id": "224072eb",
   "metadata": {},
   "outputs": [
    {
     "name": "stdout",
     "output_type": "stream",
     "text": [
      "Output is : 12 and [25, 32, 39] and 44\n"
     ]
    }
   ],
   "source": [
    "# Question 4\n",
    "scores = (12,25,32,39,44)\n",
    "f_score, *bw_s, l_score = scores\n",
    "print(\"Output is :\",f_score,\"and\",bw_s,\"and\",l_score)"
   ]
  },
  {
   "cell_type": "code",
   "execution_count": 50,
   "id": "a387df47",
   "metadata": {},
   "outputs": [
    {
     "name": "stdout",
     "output_type": "stream",
     "text": [
      "o\n",
      "u\n",
      "e\n",
      "e\n"
     ]
    }
   ],
   "source": [
    "# QUESTION 5\n",
    "word = \"occurrence\"\n",
    "for ltr in range(len(word)):\n",
    "    if ltr % 3 == 0:\n",
    "        print(word[ltr])"
   ]
  },
  {
   "cell_type": "code",
   "execution_count": 54,
   "id": "41bcd8c6",
   "metadata": {},
   "outputs": [
    {
     "name": "stdout",
     "output_type": "stream",
     "text": [
      "(2, 2) <class 'tuple'>\n",
      "['h', '4', '3'] <class 'list'>\n",
      "('v',) <class 'tuple'>\n",
      "w <class 'str'>\n"
     ]
    }
   ],
   "source": [
    "# qUESTION 6\n",
    "t = (2,2)\n",
    "print(t,type(t))\n",
    "y = ['h','4','3']\n",
    "print(y,type(y))\n",
    "r = ('v',)\n",
    "print(r,type(r))\n",
    "s = ('w')\n",
    "print(s,type(s))"
   ]
  },
  {
   "cell_type": "code",
   "execution_count": 55,
   "id": "078dc134",
   "metadata": {},
   "outputs": [],
   "source": [
    "# Question 8 \n",
    "city = {'Delhi':3,'Bengaluru':5,'Chennai':4,'Kolkata':6,'Mumbai':7}"
   ]
  },
  {
   "cell_type": "code",
   "execution_count": 56,
   "id": "f6e19516",
   "metadata": {},
   "outputs": [
    {
     "data": {
      "text/plain": [
       "5"
      ]
     },
     "execution_count": 56,
     "metadata": {},
     "output_type": "execute_result"
    }
   ],
   "source": [
    "city['Bengaluru']"
   ]
  },
  {
   "cell_type": "code",
   "execution_count": 59,
   "id": "b76caf10",
   "metadata": {},
   "outputs": [
    {
     "data": {
      "text/plain": [
       "5"
      ]
     },
     "execution_count": 59,
     "metadata": {},
     "output_type": "execute_result"
    }
   ],
   "source": [
    "list(city.values())[1]"
   ]
  },
  {
   "cell_type": "code",
   "execution_count": null,
   "id": "d3b9fc3a",
   "metadata": {},
   "outputs": [],
   "source": []
  }
 ],
 "metadata": {
  "kernelspec": {
   "display_name": "Python 3 (ipykernel)",
   "language": "python",
   "name": "python3"
  },
  "language_info": {
   "codemirror_mode": {
    "name": "ipython",
    "version": 3
   },
   "file_extension": ".py",
   "mimetype": "text/x-python",
   "name": "python",
   "nbconvert_exporter": "python",
   "pygments_lexer": "ipython3",
   "version": "3.9.7"
  }
 },
 "nbformat": 4,
 "nbformat_minor": 5
}
