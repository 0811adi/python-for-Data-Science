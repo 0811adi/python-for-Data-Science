{
 "cells": [
  {
   "cell_type": "code",
   "execution_count": 1,
   "id": "6dfe0fcc",
   "metadata": {},
   "outputs": [],
   "source": [
    "# to work with dataframes\n",
    "\n",
    "import pandas as pd"
   ]
  },
  {
   "cell_type": "code",
   "execution_count": 2,
   "id": "c72a2b7f",
   "metadata": {},
   "outputs": [],
   "source": [
    "# to perform numerical operation\n",
    "\n",
    "import numpy as np"
   ]
  },
  {
   "cell_type": "code",
   "execution_count": 3,
   "id": "fbf981af",
   "metadata": {},
   "outputs": [],
   "source": [
    "# to visualize data\n",
    "\n",
    "import seaborn as sns"
   ]
  },
  {
   "cell_type": "code",
   "execution_count": 4,
   "id": "10c6ee5f",
   "metadata": {},
   "outputs": [],
   "source": [
    "# to partition the data\n",
    "\n",
    "from sklearn.model_selection import train_test_split"
   ]
  },
  {
   "cell_type": "code",
   "execution_count": 5,
   "id": "0c24507c",
   "metadata": {},
   "outputs": [],
   "source": [
    "# importing library for logistic regression\n",
    "\n",
    "from sklearn.linear_model import LogisticRegression"
   ]
  },
  {
   "cell_type": "code",
   "execution_count": 6,
   "id": "48ef2754",
   "metadata": {},
   "outputs": [],
   "source": [
    "# importing performances matrices - accuracy score & confusion matrix\n",
    "from sklearn.metrics import accuracy_score, confusion_matrix"
   ]
  },
  {
   "cell_type": "code",
   "execution_count": 7,
   "id": "81b52221",
   "metadata": {},
   "outputs": [],
   "source": [
    "data_income = pd.read_csv(\"C:/Users/pc/Downloads/income(1).csv\")"
   ]
  },
  {
   "cell_type": "code",
   "execution_count": 8,
   "id": "13cd5c87",
   "metadata": {},
   "outputs": [],
   "source": [
    "data = data_income.copy()"
   ]
  },
  {
   "cell_type": "code",
   "execution_count": 9,
   "id": "d74b7127",
   "metadata": {},
   "outputs": [
    {
     "data": {
      "text/plain": [
       "(31978, 13)"
      ]
     },
     "execution_count": 9,
     "metadata": {},
     "output_type": "execute_result"
    }
   ],
   "source": [
    "data.shape"
   ]
  },
  {
   "cell_type": "code",
   "execution_count": 10,
   "id": "71323f40",
   "metadata": {},
   "outputs": [
    {
     "name": "stdout",
     "output_type": "stream",
     "text": [
      "<class 'pandas.core.frame.DataFrame'>\n",
      "RangeIndex: 31978 entries, 0 to 31977\n",
      "Data columns (total 13 columns):\n",
      " #   Column         Non-Null Count  Dtype \n",
      "---  ------         --------------  ----- \n",
      " 0   age            31978 non-null  int64 \n",
      " 1   JobType        31978 non-null  object\n",
      " 2   EdType         31978 non-null  object\n",
      " 3   maritalstatus  31978 non-null  object\n",
      " 4   occupation     31978 non-null  object\n",
      " 5   relationship   31978 non-null  object\n",
      " 6   race           31978 non-null  object\n",
      " 7   gender         31978 non-null  object\n",
      " 8   capitalgain    31978 non-null  int64 \n",
      " 9   capitalloss    31978 non-null  int64 \n",
      " 10  hoursperweek   31978 non-null  int64 \n",
      " 11  nativecountry  31978 non-null  object\n",
      " 12  SalStat        31978 non-null  object\n",
      "dtypes: int64(4), object(9)\n",
      "memory usage: 3.2+ MB\n",
      "None\n"
     ]
    }
   ],
   "source": [
    "# to check 'variables' data type\n",
    "\n",
    "print(data.info())"
   ]
  },
  {
   "cell_type": "code",
   "execution_count": 11,
   "id": "65c9b669",
   "metadata": {},
   "outputs": [
    {
     "data": {
      "text/html": [
       "<div>\n",
       "<style scoped>\n",
       "    .dataframe tbody tr th:only-of-type {\n",
       "        vertical-align: middle;\n",
       "    }\n",
       "\n",
       "    .dataframe tbody tr th {\n",
       "        vertical-align: top;\n",
       "    }\n",
       "\n",
       "    .dataframe thead th {\n",
       "        text-align: right;\n",
       "    }\n",
       "</style>\n",
       "<table border=\"1\" class=\"dataframe\">\n",
       "  <thead>\n",
       "    <tr style=\"text-align: right;\">\n",
       "      <th></th>\n",
       "      <th>age</th>\n",
       "      <th>JobType</th>\n",
       "      <th>EdType</th>\n",
       "      <th>maritalstatus</th>\n",
       "      <th>occupation</th>\n",
       "      <th>relationship</th>\n",
       "      <th>race</th>\n",
       "      <th>gender</th>\n",
       "      <th>capitalgain</th>\n",
       "      <th>capitalloss</th>\n",
       "      <th>hoursperweek</th>\n",
       "      <th>nativecountry</th>\n",
       "      <th>SalStat</th>\n",
       "    </tr>\n",
       "  </thead>\n",
       "  <tbody>\n",
       "    <tr>\n",
       "      <th>0</th>\n",
       "      <td>False</td>\n",
       "      <td>False</td>\n",
       "      <td>False</td>\n",
       "      <td>False</td>\n",
       "      <td>False</td>\n",
       "      <td>False</td>\n",
       "      <td>False</td>\n",
       "      <td>False</td>\n",
       "      <td>False</td>\n",
       "      <td>False</td>\n",
       "      <td>False</td>\n",
       "      <td>False</td>\n",
       "      <td>False</td>\n",
       "    </tr>\n",
       "    <tr>\n",
       "      <th>1</th>\n",
       "      <td>False</td>\n",
       "      <td>False</td>\n",
       "      <td>False</td>\n",
       "      <td>False</td>\n",
       "      <td>False</td>\n",
       "      <td>False</td>\n",
       "      <td>False</td>\n",
       "      <td>False</td>\n",
       "      <td>False</td>\n",
       "      <td>False</td>\n",
       "      <td>False</td>\n",
       "      <td>False</td>\n",
       "      <td>False</td>\n",
       "    </tr>\n",
       "    <tr>\n",
       "      <th>2</th>\n",
       "      <td>False</td>\n",
       "      <td>False</td>\n",
       "      <td>False</td>\n",
       "      <td>False</td>\n",
       "      <td>False</td>\n",
       "      <td>False</td>\n",
       "      <td>False</td>\n",
       "      <td>False</td>\n",
       "      <td>False</td>\n",
       "      <td>False</td>\n",
       "      <td>False</td>\n",
       "      <td>False</td>\n",
       "      <td>False</td>\n",
       "    </tr>\n",
       "    <tr>\n",
       "      <th>3</th>\n",
       "      <td>False</td>\n",
       "      <td>False</td>\n",
       "      <td>False</td>\n",
       "      <td>False</td>\n",
       "      <td>False</td>\n",
       "      <td>False</td>\n",
       "      <td>False</td>\n",
       "      <td>False</td>\n",
       "      <td>False</td>\n",
       "      <td>False</td>\n",
       "      <td>False</td>\n",
       "      <td>False</td>\n",
       "      <td>False</td>\n",
       "    </tr>\n",
       "    <tr>\n",
       "      <th>4</th>\n",
       "      <td>False</td>\n",
       "      <td>False</td>\n",
       "      <td>False</td>\n",
       "      <td>False</td>\n",
       "      <td>False</td>\n",
       "      <td>False</td>\n",
       "      <td>False</td>\n",
       "      <td>False</td>\n",
       "      <td>False</td>\n",
       "      <td>False</td>\n",
       "      <td>False</td>\n",
       "      <td>False</td>\n",
       "      <td>False</td>\n",
       "    </tr>\n",
       "    <tr>\n",
       "      <th>...</th>\n",
       "      <td>...</td>\n",
       "      <td>...</td>\n",
       "      <td>...</td>\n",
       "      <td>...</td>\n",
       "      <td>...</td>\n",
       "      <td>...</td>\n",
       "      <td>...</td>\n",
       "      <td>...</td>\n",
       "      <td>...</td>\n",
       "      <td>...</td>\n",
       "      <td>...</td>\n",
       "      <td>...</td>\n",
       "      <td>...</td>\n",
       "    </tr>\n",
       "    <tr>\n",
       "      <th>31973</th>\n",
       "      <td>False</td>\n",
       "      <td>False</td>\n",
       "      <td>False</td>\n",
       "      <td>False</td>\n",
       "      <td>False</td>\n",
       "      <td>False</td>\n",
       "      <td>False</td>\n",
       "      <td>False</td>\n",
       "      <td>False</td>\n",
       "      <td>False</td>\n",
       "      <td>False</td>\n",
       "      <td>False</td>\n",
       "      <td>False</td>\n",
       "    </tr>\n",
       "    <tr>\n",
       "      <th>31974</th>\n",
       "      <td>False</td>\n",
       "      <td>False</td>\n",
       "      <td>False</td>\n",
       "      <td>False</td>\n",
       "      <td>False</td>\n",
       "      <td>False</td>\n",
       "      <td>False</td>\n",
       "      <td>False</td>\n",
       "      <td>False</td>\n",
       "      <td>False</td>\n",
       "      <td>False</td>\n",
       "      <td>False</td>\n",
       "      <td>False</td>\n",
       "    </tr>\n",
       "    <tr>\n",
       "      <th>31975</th>\n",
       "      <td>False</td>\n",
       "      <td>False</td>\n",
       "      <td>False</td>\n",
       "      <td>False</td>\n",
       "      <td>False</td>\n",
       "      <td>False</td>\n",
       "      <td>False</td>\n",
       "      <td>False</td>\n",
       "      <td>False</td>\n",
       "      <td>False</td>\n",
       "      <td>False</td>\n",
       "      <td>False</td>\n",
       "      <td>False</td>\n",
       "    </tr>\n",
       "    <tr>\n",
       "      <th>31976</th>\n",
       "      <td>False</td>\n",
       "      <td>False</td>\n",
       "      <td>False</td>\n",
       "      <td>False</td>\n",
       "      <td>False</td>\n",
       "      <td>False</td>\n",
       "      <td>False</td>\n",
       "      <td>False</td>\n",
       "      <td>False</td>\n",
       "      <td>False</td>\n",
       "      <td>False</td>\n",
       "      <td>False</td>\n",
       "      <td>False</td>\n",
       "    </tr>\n",
       "    <tr>\n",
       "      <th>31977</th>\n",
       "      <td>False</td>\n",
       "      <td>False</td>\n",
       "      <td>False</td>\n",
       "      <td>False</td>\n",
       "      <td>False</td>\n",
       "      <td>False</td>\n",
       "      <td>False</td>\n",
       "      <td>False</td>\n",
       "      <td>False</td>\n",
       "      <td>False</td>\n",
       "      <td>False</td>\n",
       "      <td>False</td>\n",
       "      <td>False</td>\n",
       "    </tr>\n",
       "  </tbody>\n",
       "</table>\n",
       "<p>31978 rows × 13 columns</p>\n",
       "</div>"
      ],
      "text/plain": [
       "         age  JobType  EdType  maritalstatus  occupation  relationship   race  \\\n",
       "0      False    False   False          False       False         False  False   \n",
       "1      False    False   False          False       False         False  False   \n",
       "2      False    False   False          False       False         False  False   \n",
       "3      False    False   False          False       False         False  False   \n",
       "4      False    False   False          False       False         False  False   \n",
       "...      ...      ...     ...            ...         ...           ...    ...   \n",
       "31973  False    False   False          False       False         False  False   \n",
       "31974  False    False   False          False       False         False  False   \n",
       "31975  False    False   False          False       False         False  False   \n",
       "31976  False    False   False          False       False         False  False   \n",
       "31977  False    False   False          False       False         False  False   \n",
       "\n",
       "       gender  capitalgain  capitalloss  hoursperweek  nativecountry  SalStat  \n",
       "0       False        False        False         False          False    False  \n",
       "1       False        False        False         False          False    False  \n",
       "2       False        False        False         False          False    False  \n",
       "3       False        False        False         False          False    False  \n",
       "4       False        False        False         False          False    False  \n",
       "...       ...          ...          ...           ...            ...      ...  \n",
       "31973   False        False        False         False          False    False  \n",
       "31974   False        False        False         False          False    False  \n",
       "31975   False        False        False         False          False    False  \n",
       "31976   False        False        False         False          False    False  \n",
       "31977   False        False        False         False          False    False  \n",
       "\n",
       "[31978 rows x 13 columns]"
      ]
     },
     "execution_count": 11,
     "metadata": {},
     "output_type": "execute_result"
    }
   ],
   "source": [
    "# check for missing values\n",
    "data.isnull()"
   ]
  },
  {
   "cell_type": "code",
   "execution_count": 12,
   "id": "339ec749",
   "metadata": {},
   "outputs": [
    {
     "data": {
      "text/plain": [
       "age              0\n",
       "JobType          0\n",
       "EdType           0\n",
       "maritalstatus    0\n",
       "occupation       0\n",
       "relationship     0\n",
       "race             0\n",
       "gender           0\n",
       "capitalgain      0\n",
       "capitalloss      0\n",
       "hoursperweek     0\n",
       "nativecountry    0\n",
       "SalStat          0\n",
       "dtype: int64"
      ]
     },
     "execution_count": 12,
     "metadata": {},
     "output_type": "execute_result"
    }
   ],
   "source": [
    "data.isnull().sum()"
   ]
  },
  {
   "cell_type": "code",
   "execution_count": 13,
   "id": "6c706340",
   "metadata": {},
   "outputs": [
    {
     "name": "stdout",
     "output_type": "stream",
     "text": [
      "                age   capitalgain   capitalloss  hoursperweek\n",
      "count  31978.000000  31978.000000  31978.000000  31978.000000\n",
      "mean      38.579023   1064.360623     86.739352     40.417850\n",
      "std       13.662085   7298.596271    401.594301     12.345285\n",
      "min       17.000000      0.000000      0.000000      1.000000\n",
      "25%       28.000000      0.000000      0.000000     40.000000\n",
      "50%       37.000000      0.000000      0.000000     40.000000\n",
      "75%       48.000000      0.000000      0.000000     45.000000\n",
      "max       90.000000  99999.000000   4356.000000     99.000000\n"
     ]
    }
   ],
   "source": [
    "#summary of numerical variable\n",
    "\n",
    "summary_num = data.describe()\n",
    "print(summary_num)"
   ]
  },
  {
   "cell_type": "code",
   "execution_count": 14,
   "id": "b4be83a8",
   "metadata": {},
   "outputs": [
    {
     "name": "stdout",
     "output_type": "stream",
     "text": [
      "         JobType    EdType        maritalstatus       occupation relationship  \\\n",
      "count      31978     31978                31978            31978        31978   \n",
      "unique         9        16                    7               15            6   \n",
      "top      Private   HS-grad   Married-civ-spouse   Prof-specialty      Husband   \n",
      "freq       22286     10368                14692             4038        12947   \n",
      "\n",
      "          race gender   nativecountry                        SalStat  \n",
      "count    31978  31978           31978                          31978  \n",
      "unique       5      2              41                              2  \n",
      "top      White   Male   United-States   less than or equal to 50,000  \n",
      "freq     27430  21370           29170                          24283  \n"
     ]
    }
   ],
   "source": [
    "# summary of categorical variable\n",
    "\n",
    "summary_cate = data.describe(include = 'O')  ## note:- O always in capital letter\n",
    "print(summary_cate)  # unique output shows no. of unique type in particular column"
   ]
  },
  {
   "cell_type": "code",
   "execution_count": 15,
   "id": "3dcac1fb",
   "metadata": {},
   "outputs": [
    {
     "data": {
      "text/plain": [
       " Private             22286\n",
       " Self-emp-not-inc     2499\n",
       " Local-gov            2067\n",
       " ?                    1809\n",
       " State-gov            1279\n",
       " Self-emp-inc         1074\n",
       " Federal-gov           943\n",
       " Without-pay            14\n",
       " Never-worked            7\n",
       "Name: JobType, dtype: int64"
      ]
     },
     "execution_count": 15,
     "metadata": {},
     "output_type": "execute_result"
    }
   ],
   "source": [
    "# frequency for each category\n",
    "\n",
    "(data['JobType'].value_counts())\n"
   ]
  },
  {
   "cell_type": "code",
   "execution_count": 16,
   "id": "e777c523",
   "metadata": {},
   "outputs": [
    {
     "data": {
      "text/plain": [
       " Prof-specialty       4038\n",
       " Craft-repair         4030\n",
       " Exec-managerial      3992\n",
       " Adm-clerical         3721\n",
       " Sales                3584\n",
       " Other-service        3212\n",
       " Machine-op-inspct    1966\n",
       " ?                    1816\n",
       " Transport-moving     1572\n",
       " Handlers-cleaners    1350\n",
       " Farming-fishing       989\n",
       " Tech-support          912\n",
       " Protective-serv       644\n",
       " Priv-house-serv       143\n",
       " Armed-Forces            9\n",
       "Name: occupation, dtype: int64"
      ]
     },
     "execution_count": 16,
     "metadata": {},
     "output_type": "execute_result"
    }
   ],
   "source": [
    "(data['occupation'].value_counts())"
   ]
  },
  {
   "cell_type": "code",
   "execution_count": 17,
   "id": "8a8a3a72",
   "metadata": {},
   "outputs": [
    {
     "name": "stdout",
     "output_type": "stream",
     "text": [
      "[' ?' ' Federal-gov' ' Local-gov' ' Never-worked' ' Private'\n",
      " ' Self-emp-inc' ' Self-emp-not-inc' ' State-gov' ' Without-pay']\n",
      "[' ?' ' Adm-clerical' ' Armed-Forces' ' Craft-repair' ' Exec-managerial'\n",
      " ' Farming-fishing' ' Handlers-cleaners' ' Machine-op-inspct'\n",
      " ' Other-service' ' Priv-house-serv' ' Prof-specialty' ' Protective-serv'\n",
      " ' Sales' ' Tech-support' ' Transport-moving']\n"
     ]
    }
   ],
   "source": [
    "#  checking unique  class\n",
    "print(np.unique(data['JobType']))\n",
    "print(np.unique(data['occupation']))"
   ]
  },
  {
   "cell_type": "markdown",
   "id": "e7ecfe9d",
   "metadata": {},
   "source": [
    "   - There exist '?' instead of NaN\n",
    "    + Go back and read the data by including \"na_values[' ? ']\" to consider '?' as nan"
   ]
  },
  {
   "cell_type": "code",
   "execution_count": 18,
   "id": "783de5b5",
   "metadata": {},
   "outputs": [],
   "source": [
    "data = pd.read_csv(\"C:/Users/pc/Downloads/income(1).csv\",na_values = [\" ?\"])"
   ]
  },
  {
   "cell_type": "code",
   "execution_count": 19,
   "id": "de165e1a",
   "metadata": {},
   "outputs": [
    {
     "data": {
      "text/plain": [
       "(31978, 13)"
      ]
     },
     "execution_count": 19,
     "metadata": {},
     "output_type": "execute_result"
    }
   ],
   "source": [
    "data.shape"
   ]
  },
  {
   "cell_type": "code",
   "execution_count": 20,
   "id": "d9f88cee",
   "metadata": {},
   "outputs": [
    {
     "data": {
      "text/plain": [
       "age                 0\n",
       "JobType          1809\n",
       "EdType              0\n",
       "maritalstatus       0\n",
       "occupation       1816\n",
       "relationship        0\n",
       "race                0\n",
       "gender              0\n",
       "capitalgain         0\n",
       "capitalloss         0\n",
       "hoursperweek        0\n",
       "nativecountry       0\n",
       "SalStat             0\n",
       "dtype: int64"
      ]
     },
     "execution_count": 20,
     "metadata": {},
     "output_type": "execute_result"
    }
   ],
   "source": [
    "data.isnull().sum()"
   ]
  },
  {
   "cell_type": "code",
   "execution_count": 21,
   "id": "61749f34",
   "metadata": {},
   "outputs": [],
   "source": [
    "# axis=1  => to consider atleast one column values is missing\n",
    "\n",
    "missing = data[data.isnull().any(axis=1)]"
   ]
  },
  {
   "cell_type": "code",
   "execution_count": 22,
   "id": "7b314129",
   "metadata": {},
   "outputs": [
    {
     "data": {
      "text/plain": [
       "(1816, 13)"
      ]
     },
     "execution_count": 22,
     "metadata": {},
     "output_type": "execute_result"
    }
   ],
   "source": [
    "missing.shape"
   ]
  },
  {
   "cell_type": "code",
   "execution_count": 23,
   "id": "71650278",
   "metadata": {},
   "outputs": [
    {
     "name": "stdout",
     "output_type": "stream",
     "text": [
      "       age JobType         EdType        maritalstatus occupation  \\\n",
      "8       17     NaN           11th        Never-married        NaN   \n",
      "17      32     NaN   Some-college   Married-civ-spouse        NaN   \n",
      "29      22     NaN   Some-college        Never-married        NaN   \n",
      "42      52     NaN           12th        Never-married        NaN   \n",
      "44      63     NaN        1st-4th   Married-civ-spouse        NaN   \n",
      "...    ...     ...            ...                  ...        ...   \n",
      "31892   59     NaN      Bachelors   Married-civ-spouse        NaN   \n",
      "31934   20     NaN        HS-grad        Never-married        NaN   \n",
      "31945   28     NaN   Some-college   Married-civ-spouse        NaN   \n",
      "31967   80     NaN        HS-grad              Widowed        NaN   \n",
      "31968   17     NaN           11th        Never-married        NaN   \n",
      "\n",
      "          relationship    race   gender  capitalgain  capitalloss  \\\n",
      "8            Own-child   White   Female            0            0   \n",
      "17             Husband   White     Male            0            0   \n",
      "29           Own-child   White     Male            0            0   \n",
      "42      Other-relative   Black     Male          594            0   \n",
      "44             Husband   White     Male            0            0   \n",
      "...                ...     ...      ...          ...          ...   \n",
      "31892          Husband   White     Male            0            0   \n",
      "31934   Other-relative   White   Female            0            0   \n",
      "31945             Wife   White   Female            0         1887   \n",
      "31967    Not-in-family   White     Male            0            0   \n",
      "31968        Own-child   White     Male            0            0   \n",
      "\n",
      "       hoursperweek   nativecountry                        SalStat  \n",
      "8                 5   United-States   less than or equal to 50,000  \n",
      "17               40   United-States   less than or equal to 50,000  \n",
      "29               40   United-States   less than or equal to 50,000  \n",
      "42               40   United-States   less than or equal to 50,000  \n",
      "44               35   United-States   less than or equal to 50,000  \n",
      "...             ...             ...                            ...  \n",
      "31892            40   United-States            greater than 50,000  \n",
      "31934            35   United-States   less than or equal to 50,000  \n",
      "31945            40   United-States            greater than 50,000  \n",
      "31967            24   United-States   less than or equal to 50,000  \n",
      "31968            40   United-States   less than or equal to 50,000  \n",
      "\n",
      "[1816 rows x 13 columns]\n"
     ]
    }
   ],
   "source": [
    "print(missing)"
   ]
  },
  {
   "cell_type": "code",
   "execution_count": 24,
   "id": "b1f43b50",
   "metadata": {},
   "outputs": [],
   "source": [
    "# we removing missing data\n",
    "data2 = data.dropna(axis=0)"
   ]
  },
  {
   "cell_type": "code",
   "execution_count": 25,
   "id": "c2b934e6",
   "metadata": {},
   "outputs": [
    {
     "data": {
      "text/plain": [
       "(30162, 13)"
      ]
     },
     "execution_count": 25,
     "metadata": {},
     "output_type": "execute_result"
    }
   ],
   "source": [
    "data2.shape"
   ]
  },
  {
   "cell_type": "code",
   "execution_count": 26,
   "id": "bbf70709",
   "metadata": {},
   "outputs": [],
   "source": [
    "# Relation between independent variable\n",
    "correlation = data2.corr()"
   ]
  },
  {
   "cell_type": "code",
   "execution_count": 27,
   "id": "28c5b5d6",
   "metadata": {},
   "outputs": [
    {
     "data": {
      "text/html": [
       "<div>\n",
       "<style scoped>\n",
       "    .dataframe tbody tr th:only-of-type {\n",
       "        vertical-align: middle;\n",
       "    }\n",
       "\n",
       "    .dataframe tbody tr th {\n",
       "        vertical-align: top;\n",
       "    }\n",
       "\n",
       "    .dataframe thead th {\n",
       "        text-align: right;\n",
       "    }\n",
       "</style>\n",
       "<table border=\"1\" class=\"dataframe\">\n",
       "  <thead>\n",
       "    <tr style=\"text-align: right;\">\n",
       "      <th></th>\n",
       "      <th>age</th>\n",
       "      <th>capitalgain</th>\n",
       "      <th>capitalloss</th>\n",
       "      <th>hoursperweek</th>\n",
       "    </tr>\n",
       "  </thead>\n",
       "  <tbody>\n",
       "    <tr>\n",
       "      <th>age</th>\n",
       "      <td>1.000000</td>\n",
       "      <td>0.080154</td>\n",
       "      <td>0.060165</td>\n",
       "      <td>0.101599</td>\n",
       "    </tr>\n",
       "    <tr>\n",
       "      <th>capitalgain</th>\n",
       "      <td>0.080154</td>\n",
       "      <td>1.000000</td>\n",
       "      <td>-0.032229</td>\n",
       "      <td>0.080432</td>\n",
       "    </tr>\n",
       "    <tr>\n",
       "      <th>capitalloss</th>\n",
       "      <td>0.060165</td>\n",
       "      <td>-0.032229</td>\n",
       "      <td>1.000000</td>\n",
       "      <td>0.052417</td>\n",
       "    </tr>\n",
       "    <tr>\n",
       "      <th>hoursperweek</th>\n",
       "      <td>0.101599</td>\n",
       "      <td>0.080432</td>\n",
       "      <td>0.052417</td>\n",
       "      <td>1.000000</td>\n",
       "    </tr>\n",
       "  </tbody>\n",
       "</table>\n",
       "</div>"
      ],
      "text/plain": [
       "                   age  capitalgain  capitalloss  hoursperweek\n",
       "age           1.000000     0.080154     0.060165      0.101599\n",
       "capitalgain   0.080154     1.000000    -0.032229      0.080432\n",
       "capitalloss   0.060165    -0.032229     1.000000      0.052417\n",
       "hoursperweek  0.101599     0.080432     0.052417      1.000000"
      ]
     },
     "execution_count": 27,
     "metadata": {},
     "output_type": "execute_result"
    }
   ],
   "source": [
    "correlation"
   ]
  },
  {
   "cell_type": "markdown",
   "id": "a2d843e5",
   "metadata": {},
   "source": [
    "# Cross tables & Data Visualization"
   ]
  },
  {
   "cell_type": "code",
   "execution_count": 28,
   "id": "14017fe4",
   "metadata": {},
   "outputs": [
    {
     "data": {
      "text/plain": [
       "Index(['age', 'JobType', 'EdType', 'maritalstatus', 'occupation',\n",
       "       'relationship', 'race', 'gender', 'capitalgain', 'capitalloss',\n",
       "       'hoursperweek', 'nativecountry', 'SalStat'],\n",
       "      dtype='object')"
      ]
     },
     "execution_count": 28,
     "metadata": {},
     "output_type": "execute_result"
    }
   ],
   "source": [
    "# extracting the columns name\n",
    "data2.columns"
   ]
  },
  {
   "cell_type": "code",
   "execution_count": 29,
   "id": "f207bccf",
   "metadata": {},
   "outputs": [
    {
     "name": "stdout",
     "output_type": "stream",
     "text": [
      "col_0       count\n",
      "gender           \n",
      " Female  0.324315\n",
      " Male    0.675685\n"
     ]
    }
   ],
   "source": [
    "# Gender proportion tables:\n",
    "\n",
    "gender = pd.crosstab(index = data2[\"gender\"],\n",
    "                    columns = 'count',\n",
    "                    normalize = True)\n",
    "print(gender)"
   ]
  },
  {
   "cell_type": "code",
   "execution_count": 30,
   "id": "839019de",
   "metadata": {},
   "outputs": [
    {
     "name": "stdout",
     "output_type": "stream",
     "text": [
      "SalStat   greater than 50,000   less than or equal to 50,000\n",
      "gender                                                      \n",
      " Female              0.113678                       0.886322\n",
      " Male                0.313837                       0.686163\n",
      "All                  0.248922                       0.751078\n"
     ]
    }
   ],
   "source": [
    "# Gender vs Salary Status\n",
    "\n",
    "gender_salstat = pd.crosstab(index = data2[\"gender\"],\n",
    "                            columns = data2[\"SalStat\"],\n",
    "                            margins = True,\n",
    "                            normalize = 'index')\n",
    "\n",
    "print(gender_salstat)"
   ]
  },
  {
   "cell_type": "code",
   "execution_count": 31,
   "id": "f8457985",
   "metadata": {},
   "outputs": [
    {
     "name": "stderr",
     "output_type": "stream",
     "text": [
      "C:\\Users\\pc\\AppData\\Local\\Programs\\Python\\Python39\\lib\\site-packages\\seaborn\\_decorators.py:36: FutureWarning: Pass the following variable as a keyword arg: x. From version 0.12, the only valid positional argument will be `data`, and passing other arguments without an explicit keyword will result in an error or misinterpretation.\n",
      "  warnings.warn(\n"
     ]
    },
    {
     "data": {
      "text/plain": [
       "<AxesSubplot:xlabel='SalStat', ylabel='count'>"
      ]
     },
     "execution_count": 31,
     "metadata": {},
     "output_type": "execute_result"
    },
    {
     "data": {
      "image/png": "[encoded data removed]",
      "text/plain": [
       "<Figure size 432x288 with 1 Axes>"
      ]
     },
     "metadata": {
      "needs_background": "light"
     },
     "output_type": "display_data"
    }
   ],
   "source": [
    "# frequency distribution of 'salary statues'\n",
    "\n",
    "SalStat = sns.countplot(data2['SalStat'])\n",
    "SalStat"
   ]
  },
  {
   "cell_type": "code",
   "execution_count": 32,
   "id": "44de5856",
   "metadata": {},
   "outputs": [
    {
     "name": "stderr",
     "output_type": "stream",
     "text": [
      "C:\\Users\\pc\\AppData\\Local\\Programs\\Python\\Python39\\lib\\site-packages\\seaborn\\_decorators.py:36: FutureWarning: Pass the following variable as a keyword arg: x. From version 0.12, the only valid positional argument will be `data`, and passing other arguments without an explicit keyword will result in an error or misinterpretation.\n",
      "  warnings.warn(\n"
     ]
    },
    {
     "data": {
      "text/plain": [
       "<AxesSubplot:xlabel='SalStat', ylabel='count'>"
      ]
     },
     "execution_count": 32,
     "metadata": {},
     "output_type": "execute_result"
    },
    {
     "data": {
      "image/png": "[encoded data removed]",
      "text/plain": [
       "<Figure size 432x288 with 1 Axes>"
      ]
     },
     "metadata": {
      "needs_background": "light"
     },
     "output_type": "display_data"
    }
   ],
   "source": [
    "SalStat1 = sns.countplot(data2['SalStat'],hue = data2['gender'])\n",
    "SalStat1"
   ]
  },
  {
   "cell_type": "code",
   "execution_count": 33,
   "id": "692a35fc",
   "metadata": {},
   "outputs": [
    {
     "name": "stderr",
     "output_type": "stream",
     "text": [
      "C:\\Users\\pc\\AppData\\Local\\Programs\\Python\\Python39\\lib\\site-packages\\seaborn\\distributions.py:2619: FutureWarning: `distplot` is a deprecated function and will be removed in a future version. Please adapt your code to use either `displot` (a figure-level function with similar flexibility) or `histplot` (an axes-level function for histograms).\n",
      "  warnings.warn(msg, FutureWarning)\n"
     ]
    },
    {
     "data": {
      "text/plain": [
       "<AxesSubplot:xlabel='age'>"
      ]
     },
     "execution_count": 33,
     "metadata": {},
     "output_type": "execute_result"
    },
    {
     "data": {
      "image/png": "[encoded data removed]",
      "text/plain": [
       "<Figure size 432x288 with 1 Axes>"
      ]
     },
     "metadata": {
      "needs_background": "light"
     },
     "output_type": "display_data"
    }
   ],
   "source": [
    "# histogram of age\n",
    "sns.distplot(data2['age'],bins=10,kde= False) # it shows that 20-45 age are high in frequency"
   ]
  },
  {
   "cell_type": "code",
   "execution_count": 34,
   "id": "ea2b1a2c",
   "metadata": {},
   "outputs": [
    {
     "name": "stderr",
     "output_type": "stream",
     "text": [
      "C:\\Users\\pc\\AppData\\Local\\Programs\\Python\\Python39\\lib\\site-packages\\seaborn\\_decorators.py:36: FutureWarning: Pass the following variables as keyword args: x, y. From version 0.12, the only valid positional argument will be `data`, and passing other arguments without an explicit keyword will result in an error or misinterpretation.\n",
      "  warnings.warn(\n"
     ]
    },
    {
     "data": {
      "text/plain": [
       "<AxesSubplot:xlabel='SalStat', ylabel='age'>"
      ]
     },
     "execution_count": 34,
     "metadata": {},
     "output_type": "execute_result"
    },
    {
     "data": {
      "image/png": "[encoded data removed]",
      "text/plain": [
       "<Figure size 432x288 with 1 Axes>"
      ]
     },
     "metadata": {
      "needs_background": "light"
     },
     "output_type": "display_data"
    }
   ],
   "source": [
    "# Box plot - Age vs Salary Status\n",
    "sns.boxplot('SalStat','age',data = data2)"
   ]
  },
  {
   "cell_type": "code",
   "execution_count": 35,
   "id": "7a074af9",
   "metadata": {},
   "outputs": [
    {
     "data": {
      "text/html": [
       "<div>\n",
       "<style scoped>\n",
       "    .dataframe tbody tr th:only-of-type {\n",
       "        vertical-align: middle;\n",
       "    }\n",
       "\n",
       "    .dataframe tbody tr th {\n",
       "        vertical-align: top;\n",
       "    }\n",
       "\n",
       "    .dataframe thead th {\n",
       "        text-align: right;\n",
       "    }\n",
       "</style>\n",
       "<table border=\"1\" class=\"dataframe\">\n",
       "  <thead>\n",
       "    <tr style=\"text-align: right;\">\n",
       "      <th></th>\n",
       "      <th>age</th>\n",
       "      <th>JobType</th>\n",
       "      <th>EdType</th>\n",
       "      <th>maritalstatus</th>\n",
       "      <th>occupation</th>\n",
       "      <th>relationship</th>\n",
       "      <th>race</th>\n",
       "      <th>gender</th>\n",
       "      <th>capitalgain</th>\n",
       "      <th>capitalloss</th>\n",
       "      <th>hoursperweek</th>\n",
       "      <th>nativecountry</th>\n",
       "      <th>SalStat</th>\n",
       "    </tr>\n",
       "  </thead>\n",
       "  <tbody>\n",
       "    <tr>\n",
       "      <th>0</th>\n",
       "      <td>45</td>\n",
       "      <td>Private</td>\n",
       "      <td>HS-grad</td>\n",
       "      <td>Divorced</td>\n",
       "      <td>Adm-clerical</td>\n",
       "      <td>Not-in-family</td>\n",
       "      <td>White</td>\n",
       "      <td>Female</td>\n",
       "      <td>0</td>\n",
       "      <td>0</td>\n",
       "      <td>28</td>\n",
       "      <td>United-States</td>\n",
       "      <td>less than or equal to 50,000</td>\n",
       "    </tr>\n",
       "    <tr>\n",
       "      <th>1</th>\n",
       "      <td>24</td>\n",
       "      <td>Federal-gov</td>\n",
       "      <td>HS-grad</td>\n",
       "      <td>Never-married</td>\n",
       "      <td>Armed-Forces</td>\n",
       "      <td>Own-child</td>\n",
       "      <td>White</td>\n",
       "      <td>Male</td>\n",
       "      <td>0</td>\n",
       "      <td>0</td>\n",
       "      <td>40</td>\n",
       "      <td>United-States</td>\n",
       "      <td>less than or equal to 50,000</td>\n",
       "    </tr>\n",
       "    <tr>\n",
       "      <th>2</th>\n",
       "      <td>44</td>\n",
       "      <td>Private</td>\n",
       "      <td>Some-college</td>\n",
       "      <td>Married-civ-spouse</td>\n",
       "      <td>Prof-specialty</td>\n",
       "      <td>Husband</td>\n",
       "      <td>White</td>\n",
       "      <td>Male</td>\n",
       "      <td>0</td>\n",
       "      <td>0</td>\n",
       "      <td>40</td>\n",
       "      <td>United-States</td>\n",
       "      <td>greater than 50,000</td>\n",
       "    </tr>\n",
       "    <tr>\n",
       "      <th>3</th>\n",
       "      <td>27</td>\n",
       "      <td>Private</td>\n",
       "      <td>9th</td>\n",
       "      <td>Never-married</td>\n",
       "      <td>Craft-repair</td>\n",
       "      <td>Other-relative</td>\n",
       "      <td>White</td>\n",
       "      <td>Male</td>\n",
       "      <td>0</td>\n",
       "      <td>0</td>\n",
       "      <td>40</td>\n",
       "      <td>Mexico</td>\n",
       "      <td>less than or equal to 50,000</td>\n",
       "    </tr>\n",
       "    <tr>\n",
       "      <th>4</th>\n",
       "      <td>20</td>\n",
       "      <td>Private</td>\n",
       "      <td>Some-college</td>\n",
       "      <td>Never-married</td>\n",
       "      <td>Sales</td>\n",
       "      <td>Not-in-family</td>\n",
       "      <td>White</td>\n",
       "      <td>Male</td>\n",
       "      <td>0</td>\n",
       "      <td>0</td>\n",
       "      <td>35</td>\n",
       "      <td>United-States</td>\n",
       "      <td>less than or equal to 50,000</td>\n",
       "    </tr>\n",
       "    <tr>\n",
       "      <th>...</th>\n",
       "      <td>...</td>\n",
       "      <td>...</td>\n",
       "      <td>...</td>\n",
       "      <td>...</td>\n",
       "      <td>...</td>\n",
       "      <td>...</td>\n",
       "      <td>...</td>\n",
       "      <td>...</td>\n",
       "      <td>...</td>\n",
       "      <td>...</td>\n",
       "      <td>...</td>\n",
       "      <td>...</td>\n",
       "      <td>...</td>\n",
       "    </tr>\n",
       "    <tr>\n",
       "      <th>31973</th>\n",
       "      <td>34</td>\n",
       "      <td>Local-gov</td>\n",
       "      <td>HS-grad</td>\n",
       "      <td>Never-married</td>\n",
       "      <td>Farming-fishing</td>\n",
       "      <td>Not-in-family</td>\n",
       "      <td>Black</td>\n",
       "      <td>Male</td>\n",
       "      <td>594</td>\n",
       "      <td>0</td>\n",
       "      <td>60</td>\n",
       "      <td>United-States</td>\n",
       "      <td>less than or equal to 50,000</td>\n",
       "    </tr>\n",
       "    <tr>\n",
       "      <th>31974</th>\n",
       "      <td>34</td>\n",
       "      <td>Local-gov</td>\n",
       "      <td>Some-college</td>\n",
       "      <td>Never-married</td>\n",
       "      <td>Protective-serv</td>\n",
       "      <td>Not-in-family</td>\n",
       "      <td>White</td>\n",
       "      <td>Female</td>\n",
       "      <td>0</td>\n",
       "      <td>0</td>\n",
       "      <td>40</td>\n",
       "      <td>United-States</td>\n",
       "      <td>less than or equal to 50,000</td>\n",
       "    </tr>\n",
       "    <tr>\n",
       "      <th>31975</th>\n",
       "      <td>23</td>\n",
       "      <td>Private</td>\n",
       "      <td>Some-college</td>\n",
       "      <td>Married-civ-spouse</td>\n",
       "      <td>Adm-clerical</td>\n",
       "      <td>Husband</td>\n",
       "      <td>White</td>\n",
       "      <td>Male</td>\n",
       "      <td>0</td>\n",
       "      <td>0</td>\n",
       "      <td>40</td>\n",
       "      <td>United-States</td>\n",
       "      <td>less than or equal to 50,000</td>\n",
       "    </tr>\n",
       "    <tr>\n",
       "      <th>31976</th>\n",
       "      <td>42</td>\n",
       "      <td>Local-gov</td>\n",
       "      <td>Some-college</td>\n",
       "      <td>Married-civ-spouse</td>\n",
       "      <td>Adm-clerical</td>\n",
       "      <td>Wife</td>\n",
       "      <td>White</td>\n",
       "      <td>Female</td>\n",
       "      <td>0</td>\n",
       "      <td>0</td>\n",
       "      <td>40</td>\n",
       "      <td>United-States</td>\n",
       "      <td>less than or equal to 50,000</td>\n",
       "    </tr>\n",
       "    <tr>\n",
       "      <th>31977</th>\n",
       "      <td>29</td>\n",
       "      <td>Private</td>\n",
       "      <td>Bachelors</td>\n",
       "      <td>Never-married</td>\n",
       "      <td>Prof-specialty</td>\n",
       "      <td>Not-in-family</td>\n",
       "      <td>White</td>\n",
       "      <td>Male</td>\n",
       "      <td>0</td>\n",
       "      <td>0</td>\n",
       "      <td>40</td>\n",
       "      <td>United-States</td>\n",
       "      <td>less than or equal to 50,000</td>\n",
       "    </tr>\n",
       "  </tbody>\n",
       "</table>\n",
       "<p>30162 rows × 13 columns</p>\n",
       "</div>"
      ],
      "text/plain": [
       "       age       JobType         EdType        maritalstatus  \\\n",
       "0       45       Private        HS-grad             Divorced   \n",
       "1       24   Federal-gov        HS-grad        Never-married   \n",
       "2       44       Private   Some-college   Married-civ-spouse   \n",
       "3       27       Private            9th        Never-married   \n",
       "4       20       Private   Some-college        Never-married   \n",
       "...    ...           ...            ...                  ...   \n",
       "31973   34     Local-gov        HS-grad        Never-married   \n",
       "31974   34     Local-gov   Some-college        Never-married   \n",
       "31975   23       Private   Some-college   Married-civ-spouse   \n",
       "31976   42     Local-gov   Some-college   Married-civ-spouse   \n",
       "31977   29       Private      Bachelors        Never-married   \n",
       "\n",
       "             occupation     relationship    race   gender  capitalgain  \\\n",
       "0          Adm-clerical    Not-in-family   White   Female            0   \n",
       "1          Armed-Forces        Own-child   White     Male            0   \n",
       "2        Prof-specialty          Husband   White     Male            0   \n",
       "3          Craft-repair   Other-relative   White     Male            0   \n",
       "4                 Sales    Not-in-family   White     Male            0   \n",
       "...                 ...              ...     ...      ...          ...   \n",
       "31973   Farming-fishing    Not-in-family   Black     Male          594   \n",
       "31974   Protective-serv    Not-in-family   White   Female            0   \n",
       "31975      Adm-clerical          Husband   White     Male            0   \n",
       "31976      Adm-clerical             Wife   White   Female            0   \n",
       "31977    Prof-specialty    Not-in-family   White     Male            0   \n",
       "\n",
       "       capitalloss  hoursperweek   nativecountry  \\\n",
       "0                0            28   United-States   \n",
       "1                0            40   United-States   \n",
       "2                0            40   United-States   \n",
       "3                0            40          Mexico   \n",
       "4                0            35   United-States   \n",
       "...            ...           ...             ...   \n",
       "31973            0            60   United-States   \n",
       "31974            0            40   United-States   \n",
       "31975            0            40   United-States   \n",
       "31976            0            40   United-States   \n",
       "31977            0            40   United-States   \n",
       "\n",
       "                             SalStat  \n",
       "0       less than or equal to 50,000  \n",
       "1       less than or equal to 50,000  \n",
       "2                greater than 50,000  \n",
       "3       less than or equal to 50,000  \n",
       "4       less than or equal to 50,000  \n",
       "...                              ...  \n",
       "31973   less than or equal to 50,000  \n",
       "31974   less than or equal to 50,000  \n",
       "31975   less than or equal to 50,000  \n",
       "31976   less than or equal to 50,000  \n",
       "31977   less than or equal to 50,000  \n",
       "\n",
       "[30162 rows x 13 columns]"
      ]
     },
     "execution_count": 35,
     "metadata": {},
     "output_type": "execute_result"
    }
   ],
   "source": [
    "data2"
   ]
  },
  {
   "cell_type": "code",
   "execution_count": 36,
   "id": "574ee6ec",
   "metadata": {
    "scrolled": true
   },
   "outputs": [
    {
     "data": {
      "text/plain": [
       "SalStat\n",
       " greater than 50,000             43.0\n",
       " less than or equal to 50,000    34.0\n",
       "Name: age, dtype: float64"
      ]
     },
     "execution_count": 36,
     "metadata": {},
     "output_type": "execute_result"
    }
   ],
   "source": [
    "data2.groupby('SalStat')['age'].median()"
   ]
  },
  {
   "cell_type": "markdown",
   "id": "601acd91",
   "metadata": {},
   "source": [
    "# LOGISTIC REGRESSION"
   ]
  },
  {
   "cell_type": "code",
   "execution_count": 37,
   "id": "8b1f5100",
   "metadata": {},
   "outputs": [
    {
     "name": "stderr",
     "output_type": "stream",
     "text": [
      "C:\\Users\\pc\\AppData\\Local\\Temp\\ipykernel_7036\\4010477368.py:2: SettingWithCopyWarning: \n",
      "A value is trying to be set on a copy of a slice from a DataFrame.\n",
      "Try using .loc[row_indexer,col_indexer] = value instead\n",
      "\n",
      "See the caveats in the documentation: https://pandas.pydata.org/pandas-docs/stable/user_guide/indexing.html#returning-a-view-versus-a-copy\n",
      "  data2['SalStat']= data2['SalStat'].map({' less than or equal to 50,000':0,' greater than 50,000':1})\n"
     ]
    }
   ],
   "source": [
    "# Reindexing the salary status names to 0,1\n",
    "data2['SalStat']= data2['SalStat'].map({' less than or equal to 50,000':0,' greater than 50,000':1})"
   ]
  },
  {
   "cell_type": "code",
   "execution_count": 38,
   "id": "5256a5ad",
   "metadata": {},
   "outputs": [
    {
     "name": "stdout",
     "output_type": "stream",
     "text": [
      "0        0\n",
      "1        0\n",
      "2        1\n",
      "3        0\n",
      "4        0\n",
      "        ..\n",
      "31973    0\n",
      "31974    0\n",
      "31975    0\n",
      "31976    0\n",
      "31977    0\n",
      "Name: SalStat, Length: 30162, dtype: int64\n"
     ]
    }
   ],
   "source": [
    "print(data2['SalStat'])"
   ]
  },
  {
   "cell_type": "code",
   "execution_count": 39,
   "id": "9458760b",
   "metadata": {
    "scrolled": true
   },
   "outputs": [
    {
     "data": {
      "text/html": [
       "<div>\n",
       "<style scoped>\n",
       "    .dataframe tbody tr th:only-of-type {\n",
       "        vertical-align: middle;\n",
       "    }\n",
       "\n",
       "    .dataframe tbody tr th {\n",
       "        vertical-align: top;\n",
       "    }\n",
       "\n",
       "    .dataframe thead th {\n",
       "        text-align: right;\n",
       "    }\n",
       "</style>\n",
       "<table border=\"1\" class=\"dataframe\">\n",
       "  <thead>\n",
       "    <tr style=\"text-align: right;\">\n",
       "      <th></th>\n",
       "      <th>age</th>\n",
       "      <th>JobType</th>\n",
       "      <th>EdType</th>\n",
       "      <th>maritalstatus</th>\n",
       "      <th>occupation</th>\n",
       "      <th>relationship</th>\n",
       "      <th>race</th>\n",
       "      <th>gender</th>\n",
       "      <th>capitalgain</th>\n",
       "      <th>capitalloss</th>\n",
       "      <th>hoursperweek</th>\n",
       "      <th>nativecountry</th>\n",
       "      <th>SalStat</th>\n",
       "    </tr>\n",
       "  </thead>\n",
       "  <tbody>\n",
       "    <tr>\n",
       "      <th>0</th>\n",
       "      <td>45</td>\n",
       "      <td>Private</td>\n",
       "      <td>HS-grad</td>\n",
       "      <td>Divorced</td>\n",
       "      <td>Adm-clerical</td>\n",
       "      <td>Not-in-family</td>\n",
       "      <td>White</td>\n",
       "      <td>Female</td>\n",
       "      <td>0</td>\n",
       "      <td>0</td>\n",
       "      <td>28</td>\n",
       "      <td>United-States</td>\n",
       "      <td>0</td>\n",
       "    </tr>\n",
       "    <tr>\n",
       "      <th>1</th>\n",
       "      <td>24</td>\n",
       "      <td>Federal-gov</td>\n",
       "      <td>HS-grad</td>\n",
       "      <td>Never-married</td>\n",
       "      <td>Armed-Forces</td>\n",
       "      <td>Own-child</td>\n",
       "      <td>White</td>\n",
       "      <td>Male</td>\n",
       "      <td>0</td>\n",
       "      <td>0</td>\n",
       "      <td>40</td>\n",
       "      <td>United-States</td>\n",
       "      <td>0</td>\n",
       "    </tr>\n",
       "    <tr>\n",
       "      <th>2</th>\n",
       "      <td>44</td>\n",
       "      <td>Private</td>\n",
       "      <td>Some-college</td>\n",
       "      <td>Married-civ-spouse</td>\n",
       "      <td>Prof-specialty</td>\n",
       "      <td>Husband</td>\n",
       "      <td>White</td>\n",
       "      <td>Male</td>\n",
       "      <td>0</td>\n",
       "      <td>0</td>\n",
       "      <td>40</td>\n",
       "      <td>United-States</td>\n",
       "      <td>1</td>\n",
       "    </tr>\n",
       "    <tr>\n",
       "      <th>3</th>\n",
       "      <td>27</td>\n",
       "      <td>Private</td>\n",
       "      <td>9th</td>\n",
       "      <td>Never-married</td>\n",
       "      <td>Craft-repair</td>\n",
       "      <td>Other-relative</td>\n",
       "      <td>White</td>\n",
       "      <td>Male</td>\n",
       "      <td>0</td>\n",
       "      <td>0</td>\n",
       "      <td>40</td>\n",
       "      <td>Mexico</td>\n",
       "      <td>0</td>\n",
       "    </tr>\n",
       "    <tr>\n",
       "      <th>4</th>\n",
       "      <td>20</td>\n",
       "      <td>Private</td>\n",
       "      <td>Some-college</td>\n",
       "      <td>Never-married</td>\n",
       "      <td>Sales</td>\n",
       "      <td>Not-in-family</td>\n",
       "      <td>White</td>\n",
       "      <td>Male</td>\n",
       "      <td>0</td>\n",
       "      <td>0</td>\n",
       "      <td>35</td>\n",
       "      <td>United-States</td>\n",
       "      <td>0</td>\n",
       "    </tr>\n",
       "    <tr>\n",
       "      <th>...</th>\n",
       "      <td>...</td>\n",
       "      <td>...</td>\n",
       "      <td>...</td>\n",
       "      <td>...</td>\n",
       "      <td>...</td>\n",
       "      <td>...</td>\n",
       "      <td>...</td>\n",
       "      <td>...</td>\n",
       "      <td>...</td>\n",
       "      <td>...</td>\n",
       "      <td>...</td>\n",
       "      <td>...</td>\n",
       "      <td>...</td>\n",
       "    </tr>\n",
       "    <tr>\n",
       "      <th>31973</th>\n",
       "      <td>34</td>\n",
       "      <td>Local-gov</td>\n",
       "      <td>HS-grad</td>\n",
       "      <td>Never-married</td>\n",
       "      <td>Farming-fishing</td>\n",
       "      <td>Not-in-family</td>\n",
       "      <td>Black</td>\n",
       "      <td>Male</td>\n",
       "      <td>594</td>\n",
       "      <td>0</td>\n",
       "      <td>60</td>\n",
       "      <td>United-States</td>\n",
       "      <td>0</td>\n",
       "    </tr>\n",
       "    <tr>\n",
       "      <th>31974</th>\n",
       "      <td>34</td>\n",
       "      <td>Local-gov</td>\n",
       "      <td>Some-college</td>\n",
       "      <td>Never-married</td>\n",
       "      <td>Protective-serv</td>\n",
       "      <td>Not-in-family</td>\n",
       "      <td>White</td>\n",
       "      <td>Female</td>\n",
       "      <td>0</td>\n",
       "      <td>0</td>\n",
       "      <td>40</td>\n",
       "      <td>United-States</td>\n",
       "      <td>0</td>\n",
       "    </tr>\n",
       "    <tr>\n",
       "      <th>31975</th>\n",
       "      <td>23</td>\n",
       "      <td>Private</td>\n",
       "      <td>Some-college</td>\n",
       "      <td>Married-civ-spouse</td>\n",
       "      <td>Adm-clerical</td>\n",
       "      <td>Husband</td>\n",
       "      <td>White</td>\n",
       "      <td>Male</td>\n",
       "      <td>0</td>\n",
       "      <td>0</td>\n",
       "      <td>40</td>\n",
       "      <td>United-States</td>\n",
       "      <td>0</td>\n",
       "    </tr>\n",
       "    <tr>\n",
       "      <th>31976</th>\n",
       "      <td>42</td>\n",
       "      <td>Local-gov</td>\n",
       "      <td>Some-college</td>\n",
       "      <td>Married-civ-spouse</td>\n",
       "      <td>Adm-clerical</td>\n",
       "      <td>Wife</td>\n",
       "      <td>White</td>\n",
       "      <td>Female</td>\n",
       "      <td>0</td>\n",
       "      <td>0</td>\n",
       "      <td>40</td>\n",
       "      <td>United-States</td>\n",
       "      <td>0</td>\n",
       "    </tr>\n",
       "    <tr>\n",
       "      <th>31977</th>\n",
       "      <td>29</td>\n",
       "      <td>Private</td>\n",
       "      <td>Bachelors</td>\n",
       "      <td>Never-married</td>\n",
       "      <td>Prof-specialty</td>\n",
       "      <td>Not-in-family</td>\n",
       "      <td>White</td>\n",
       "      <td>Male</td>\n",
       "      <td>0</td>\n",
       "      <td>0</td>\n",
       "      <td>40</td>\n",
       "      <td>United-States</td>\n",
       "      <td>0</td>\n",
       "    </tr>\n",
       "  </tbody>\n",
       "</table>\n",
       "<p>30162 rows × 13 columns</p>\n",
       "</div>"
      ],
      "text/plain": [
       "       age       JobType         EdType        maritalstatus  \\\n",
       "0       45       Private        HS-grad             Divorced   \n",
       "1       24   Federal-gov        HS-grad        Never-married   \n",
       "2       44       Private   Some-college   Married-civ-spouse   \n",
       "3       27       Private            9th        Never-married   \n",
       "4       20       Private   Some-college        Never-married   \n",
       "...    ...           ...            ...                  ...   \n",
       "31973   34     Local-gov        HS-grad        Never-married   \n",
       "31974   34     Local-gov   Some-college        Never-married   \n",
       "31975   23       Private   Some-college   Married-civ-spouse   \n",
       "31976   42     Local-gov   Some-college   Married-civ-spouse   \n",
       "31977   29       Private      Bachelors        Never-married   \n",
       "\n",
       "             occupation     relationship    race   gender  capitalgain  \\\n",
       "0          Adm-clerical    Not-in-family   White   Female            0   \n",
       "1          Armed-Forces        Own-child   White     Male            0   \n",
       "2        Prof-specialty          Husband   White     Male            0   \n",
       "3          Craft-repair   Other-relative   White     Male            0   \n",
       "4                 Sales    Not-in-family   White     Male            0   \n",
       "...                 ...              ...     ...      ...          ...   \n",
       "31973   Farming-fishing    Not-in-family   Black     Male          594   \n",
       "31974   Protective-serv    Not-in-family   White   Female            0   \n",
       "31975      Adm-clerical          Husband   White     Male            0   \n",
       "31976      Adm-clerical             Wife   White   Female            0   \n",
       "31977    Prof-specialty    Not-in-family   White     Male            0   \n",
       "\n",
       "       capitalloss  hoursperweek   nativecountry  SalStat  \n",
       "0                0            28   United-States        0  \n",
       "1                0            40   United-States        0  \n",
       "2                0            40   United-States        1  \n",
       "3                0            40          Mexico        0  \n",
       "4                0            35   United-States        0  \n",
       "...            ...           ...             ...      ...  \n",
       "31973            0            60   United-States        0  \n",
       "31974            0            40   United-States        0  \n",
       "31975            0            40   United-States        0  \n",
       "31976            0            40   United-States        0  \n",
       "31977            0            40   United-States        0  \n",
       "\n",
       "[30162 rows x 13 columns]"
      ]
     },
     "execution_count": 39,
     "metadata": {},
     "output_type": "execute_result"
    }
   ],
   "source": [
    "data2"
   ]
  },
  {
   "cell_type": "code",
   "execution_count": 40,
   "id": "719ff63d",
   "metadata": {},
   "outputs": [],
   "source": [
    "# converting categorical variable into dummy variable (each variable converted to seprate column in 0,1)\n",
    "\n",
    "new_data = pd.get_dummies(data2,drop_first = True)"
   ]
  },
  {
   "cell_type": "code",
   "execution_count": 41,
   "id": "d79b9578",
   "metadata": {},
   "outputs": [
    {
     "data": {
      "text/html": [
       "<div>\n",
       "<style scoped>\n",
       "    .dataframe tbody tr th:only-of-type {\n",
       "        vertical-align: middle;\n",
       "    }\n",
       "\n",
       "    .dataframe tbody tr th {\n",
       "        vertical-align: top;\n",
       "    }\n",
       "\n",
       "    .dataframe thead th {\n",
       "        text-align: right;\n",
       "    }\n",
       "</style>\n",
       "<table border=\"1\" class=\"dataframe\">\n",
       "  <thead>\n",
       "    <tr style=\"text-align: right;\">\n",
       "      <th></th>\n",
       "      <th>age</th>\n",
       "      <th>capitalgain</th>\n",
       "      <th>capitalloss</th>\n",
       "      <th>hoursperweek</th>\n",
       "      <th>SalStat</th>\n",
       "      <th>JobType_ Local-gov</th>\n",
       "      <th>JobType_ Private</th>\n",
       "      <th>JobType_ Self-emp-inc</th>\n",
       "      <th>JobType_ Self-emp-not-inc</th>\n",
       "      <th>JobType_ State-gov</th>\n",
       "      <th>...</th>\n",
       "      <th>nativecountry_ Portugal</th>\n",
       "      <th>nativecountry_ Puerto-Rico</th>\n",
       "      <th>nativecountry_ Scotland</th>\n",
       "      <th>nativecountry_ South</th>\n",
       "      <th>nativecountry_ Taiwan</th>\n",
       "      <th>nativecountry_ Thailand</th>\n",
       "      <th>nativecountry_ Trinadad&amp;Tobago</th>\n",
       "      <th>nativecountry_ United-States</th>\n",
       "      <th>nativecountry_ Vietnam</th>\n",
       "      <th>nativecountry_ Yugoslavia</th>\n",
       "    </tr>\n",
       "  </thead>\n",
       "  <tbody>\n",
       "    <tr>\n",
       "      <th>0</th>\n",
       "      <td>45</td>\n",
       "      <td>0</td>\n",
       "      <td>0</td>\n",
       "      <td>28</td>\n",
       "      <td>0</td>\n",
       "      <td>0</td>\n",
       "      <td>1</td>\n",
       "      <td>0</td>\n",
       "      <td>0</td>\n",
       "      <td>0</td>\n",
       "      <td>...</td>\n",
       "      <td>0</td>\n",
       "      <td>0</td>\n",
       "      <td>0</td>\n",
       "      <td>0</td>\n",
       "      <td>0</td>\n",
       "      <td>0</td>\n",
       "      <td>0</td>\n",
       "      <td>1</td>\n",
       "      <td>0</td>\n",
       "      <td>0</td>\n",
       "    </tr>\n",
       "    <tr>\n",
       "      <th>1</th>\n",
       "      <td>24</td>\n",
       "      <td>0</td>\n",
       "      <td>0</td>\n",
       "      <td>40</td>\n",
       "      <td>0</td>\n",
       "      <td>0</td>\n",
       "      <td>0</td>\n",
       "      <td>0</td>\n",
       "      <td>0</td>\n",
       "      <td>0</td>\n",
       "      <td>...</td>\n",
       "      <td>0</td>\n",
       "      <td>0</td>\n",
       "      <td>0</td>\n",
       "      <td>0</td>\n",
       "      <td>0</td>\n",
       "      <td>0</td>\n",
       "      <td>0</td>\n",
       "      <td>1</td>\n",
       "      <td>0</td>\n",
       "      <td>0</td>\n",
       "    </tr>\n",
       "    <tr>\n",
       "      <th>2</th>\n",
       "      <td>44</td>\n",
       "      <td>0</td>\n",
       "      <td>0</td>\n",
       "      <td>40</td>\n",
       "      <td>1</td>\n",
       "      <td>0</td>\n",
       "      <td>1</td>\n",
       "      <td>0</td>\n",
       "      <td>0</td>\n",
       "      <td>0</td>\n",
       "      <td>...</td>\n",
       "      <td>0</td>\n",
       "      <td>0</td>\n",
       "      <td>0</td>\n",
       "      <td>0</td>\n",
       "      <td>0</td>\n",
       "      <td>0</td>\n",
       "      <td>0</td>\n",
       "      <td>1</td>\n",
       "      <td>0</td>\n",
       "      <td>0</td>\n",
       "    </tr>\n",
       "    <tr>\n",
       "      <th>3</th>\n",
       "      <td>27</td>\n",
       "      <td>0</td>\n",
       "      <td>0</td>\n",
       "      <td>40</td>\n",
       "      <td>0</td>\n",
       "      <td>0</td>\n",
       "      <td>1</td>\n",
       "      <td>0</td>\n",
       "      <td>0</td>\n",
       "      <td>0</td>\n",
       "      <td>...</td>\n",
       "      <td>0</td>\n",
       "      <td>0</td>\n",
       "      <td>0</td>\n",
       "      <td>0</td>\n",
       "      <td>0</td>\n",
       "      <td>0</td>\n",
       "      <td>0</td>\n",
       "      <td>0</td>\n",
       "      <td>0</td>\n",
       "      <td>0</td>\n",
       "    </tr>\n",
       "    <tr>\n",
       "      <th>4</th>\n",
       "      <td>20</td>\n",
       "      <td>0</td>\n",
       "      <td>0</td>\n",
       "      <td>35</td>\n",
       "      <td>0</td>\n",
       "      <td>0</td>\n",
       "      <td>1</td>\n",
       "      <td>0</td>\n",
       "      <td>0</td>\n",
       "      <td>0</td>\n",
       "      <td>...</td>\n",
       "      <td>0</td>\n",
       "      <td>0</td>\n",
       "      <td>0</td>\n",
       "      <td>0</td>\n",
       "      <td>0</td>\n",
       "      <td>0</td>\n",
       "      <td>0</td>\n",
       "      <td>1</td>\n",
       "      <td>0</td>\n",
       "      <td>0</td>\n",
       "    </tr>\n",
       "    <tr>\n",
       "      <th>...</th>\n",
       "      <td>...</td>\n",
       "      <td>...</td>\n",
       "      <td>...</td>\n",
       "      <td>...</td>\n",
       "      <td>...</td>\n",
       "      <td>...</td>\n",
       "      <td>...</td>\n",
       "      <td>...</td>\n",
       "      <td>...</td>\n",
       "      <td>...</td>\n",
       "      <td>...</td>\n",
       "      <td>...</td>\n",
       "      <td>...</td>\n",
       "      <td>...</td>\n",
       "      <td>...</td>\n",
       "      <td>...</td>\n",
       "      <td>...</td>\n",
       "      <td>...</td>\n",
       "      <td>...</td>\n",
       "      <td>...</td>\n",
       "      <td>...</td>\n",
       "    </tr>\n",
       "    <tr>\n",
       "      <th>31973</th>\n",
       "      <td>34</td>\n",
       "      <td>594</td>\n",
       "      <td>0</td>\n",
       "      <td>60</td>\n",
       "      <td>0</td>\n",
       "      <td>1</td>\n",
       "      <td>0</td>\n",
       "      <td>0</td>\n",
       "      <td>0</td>\n",
       "      <td>0</td>\n",
       "      <td>...</td>\n",
       "      <td>0</td>\n",
       "      <td>0</td>\n",
       "      <td>0</td>\n",
       "      <td>0</td>\n",
       "      <td>0</td>\n",
       "      <td>0</td>\n",
       "      <td>0</td>\n",
       "      <td>1</td>\n",
       "      <td>0</td>\n",
       "      <td>0</td>\n",
       "    </tr>\n",
       "    <tr>\n",
       "      <th>31974</th>\n",
       "      <td>34</td>\n",
       "      <td>0</td>\n",
       "      <td>0</td>\n",
       "      <td>40</td>\n",
       "      <td>0</td>\n",
       "      <td>1</td>\n",
       "      <td>0</td>\n",
       "      <td>0</td>\n",
       "      <td>0</td>\n",
       "      <td>0</td>\n",
       "      <td>...</td>\n",
       "      <td>0</td>\n",
       "      <td>0</td>\n",
       "      <td>0</td>\n",
       "      <td>0</td>\n",
       "      <td>0</td>\n",
       "      <td>0</td>\n",
       "      <td>0</td>\n",
       "      <td>1</td>\n",
       "      <td>0</td>\n",
       "      <td>0</td>\n",
       "    </tr>\n",
       "    <tr>\n",
       "      <th>31975</th>\n",
       "      <td>23</td>\n",
       "      <td>0</td>\n",
       "      <td>0</td>\n",
       "      <td>40</td>\n",
       "      <td>0</td>\n",
       "      <td>0</td>\n",
       "      <td>1</td>\n",
       "      <td>0</td>\n",
       "      <td>0</td>\n",
       "      <td>0</td>\n",
       "      <td>...</td>\n",
       "      <td>0</td>\n",
       "      <td>0</td>\n",
       "      <td>0</td>\n",
       "      <td>0</td>\n",
       "      <td>0</td>\n",
       "      <td>0</td>\n",
       "      <td>0</td>\n",
       "      <td>1</td>\n",
       "      <td>0</td>\n",
       "      <td>0</td>\n",
       "    </tr>\n",
       "    <tr>\n",
       "      <th>31976</th>\n",
       "      <td>42</td>\n",
       "      <td>0</td>\n",
       "      <td>0</td>\n",
       "      <td>40</td>\n",
       "      <td>0</td>\n",
       "      <td>1</td>\n",
       "      <td>0</td>\n",
       "      <td>0</td>\n",
       "      <td>0</td>\n",
       "      <td>0</td>\n",
       "      <td>...</td>\n",
       "      <td>0</td>\n",
       "      <td>0</td>\n",
       "      <td>0</td>\n",
       "      <td>0</td>\n",
       "      <td>0</td>\n",
       "      <td>0</td>\n",
       "      <td>0</td>\n",
       "      <td>1</td>\n",
       "      <td>0</td>\n",
       "      <td>0</td>\n",
       "    </tr>\n",
       "    <tr>\n",
       "      <th>31977</th>\n",
       "      <td>29</td>\n",
       "      <td>0</td>\n",
       "      <td>0</td>\n",
       "      <td>40</td>\n",
       "      <td>0</td>\n",
       "      <td>0</td>\n",
       "      <td>1</td>\n",
       "      <td>0</td>\n",
       "      <td>0</td>\n",
       "      <td>0</td>\n",
       "      <td>...</td>\n",
       "      <td>0</td>\n",
       "      <td>0</td>\n",
       "      <td>0</td>\n",
       "      <td>0</td>\n",
       "      <td>0</td>\n",
       "      <td>0</td>\n",
       "      <td>0</td>\n",
       "      <td>1</td>\n",
       "      <td>0</td>\n",
       "      <td>0</td>\n",
       "    </tr>\n",
       "  </tbody>\n",
       "</table>\n",
       "<p>30162 rows × 95 columns</p>\n",
       "</div>"
      ],
      "text/plain": [
       "       age  capitalgain  capitalloss  hoursperweek  SalStat  \\\n",
       "0       45            0            0            28        0   \n",
       "1       24            0            0            40        0   \n",
       "2       44            0            0            40        1   \n",
       "3       27            0            0            40        0   \n",
       "4       20            0            0            35        0   \n",
       "...    ...          ...          ...           ...      ...   \n",
       "31973   34          594            0            60        0   \n",
       "31974   34            0            0            40        0   \n",
       "31975   23            0            0            40        0   \n",
       "31976   42            0            0            40        0   \n",
       "31977   29            0            0            40        0   \n",
       "\n",
       "       JobType_ Local-gov  JobType_ Private  JobType_ Self-emp-inc  \\\n",
       "0                       0                 1                      0   \n",
       "1                       0                 0                      0   \n",
       "2                       0                 1                      0   \n",
       "3                       0                 1                      0   \n",
       "4                       0                 1                      0   \n",
       "...                   ...               ...                    ...   \n",
       "31973                   1                 0                      0   \n",
       "31974                   1                 0                      0   \n",
       "31975                   0                 1                      0   \n",
       "31976                   1                 0                      0   \n",
       "31977                   0                 1                      0   \n",
       "\n",
       "       JobType_ Self-emp-not-inc  JobType_ State-gov  ...  \\\n",
       "0                              0                   0  ...   \n",
       "1                              0                   0  ...   \n",
       "2                              0                   0  ...   \n",
       "3                              0                   0  ...   \n",
       "4                              0                   0  ...   \n",
       "...                          ...                 ...  ...   \n",
       "31973                          0                   0  ...   \n",
       "31974                          0                   0  ...   \n",
       "31975                          0                   0  ...   \n",
       "31976                          0                   0  ...   \n",
       "31977                          0                   0  ...   \n",
       "\n",
       "       nativecountry_ Portugal  nativecountry_ Puerto-Rico  \\\n",
       "0                            0                           0   \n",
       "1                            0                           0   \n",
       "2                            0                           0   \n",
       "3                            0                           0   \n",
       "4                            0                           0   \n",
       "...                        ...                         ...   \n",
       "31973                        0                           0   \n",
       "31974                        0                           0   \n",
       "31975                        0                           0   \n",
       "31976                        0                           0   \n",
       "31977                        0                           0   \n",
       "\n",
       "       nativecountry_ Scotland  nativecountry_ South  nativecountry_ Taiwan  \\\n",
       "0                            0                     0                      0   \n",
       "1                            0                     0                      0   \n",
       "2                            0                     0                      0   \n",
       "3                            0                     0                      0   \n",
       "4                            0                     0                      0   \n",
       "...                        ...                   ...                    ...   \n",
       "31973                        0                     0                      0   \n",
       "31974                        0                     0                      0   \n",
       "31975                        0                     0                      0   \n",
       "31976                        0                     0                      0   \n",
       "31977                        0                     0                      0   \n",
       "\n",
       "       nativecountry_ Thailand  nativecountry_ Trinadad&Tobago  \\\n",
       "0                            0                               0   \n",
       "1                            0                               0   \n",
       "2                            0                               0   \n",
       "3                            0                               0   \n",
       "4                            0                               0   \n",
       "...                        ...                             ...   \n",
       "31973                        0                               0   \n",
       "31974                        0                               0   \n",
       "31975                        0                               0   \n",
       "31976                        0                               0   \n",
       "31977                        0                               0   \n",
       "\n",
       "       nativecountry_ United-States  nativecountry_ Vietnam  \\\n",
       "0                                 1                       0   \n",
       "1                                 1                       0   \n",
       "2                                 1                       0   \n",
       "3                                 0                       0   \n",
       "4                                 1                       0   \n",
       "...                             ...                     ...   \n",
       "31973                             1                       0   \n",
       "31974                             1                       0   \n",
       "31975                             1                       0   \n",
       "31976                             1                       0   \n",
       "31977                             1                       0   \n",
       "\n",
       "       nativecountry_ Yugoslavia  \n",
       "0                              0  \n",
       "1                              0  \n",
       "2                              0  \n",
       "3                              0  \n",
       "4                              0  \n",
       "...                          ...  \n",
       "31973                          0  \n",
       "31974                          0  \n",
       "31975                          0  \n",
       "31976                          0  \n",
       "31977                          0  \n",
       "\n",
       "[30162 rows x 95 columns]"
      ]
     },
     "execution_count": 41,
     "metadata": {},
     "output_type": "execute_result"
    }
   ],
   "source": [
    "new_data"
   ]
  },
  {
   "cell_type": "code",
   "execution_count": 42,
   "id": "91a69a2d",
   "metadata": {},
   "outputs": [
    {
     "name": "stdout",
     "output_type": "stream",
     "text": [
      "['age', 'capitalgain', 'capitalloss', 'hoursperweek', 'SalStat', 'JobType_ Local-gov', 'JobType_ Private', 'JobType_ Self-emp-inc', 'JobType_ Self-emp-not-inc', 'JobType_ State-gov', 'JobType_ Without-pay', 'EdType_ 11th', 'EdType_ 12th', 'EdType_ 1st-4th', 'EdType_ 5th-6th', 'EdType_ 7th-8th', 'EdType_ 9th', 'EdType_ Assoc-acdm', 'EdType_ Assoc-voc', 'EdType_ Bachelors', 'EdType_ Doctorate', 'EdType_ HS-grad', 'EdType_ Masters', 'EdType_ Preschool', 'EdType_ Prof-school', 'EdType_ Some-college', 'maritalstatus_ Married-AF-spouse', 'maritalstatus_ Married-civ-spouse', 'maritalstatus_ Married-spouse-absent', 'maritalstatus_ Never-married', 'maritalstatus_ Separated', 'maritalstatus_ Widowed', 'occupation_ Armed-Forces', 'occupation_ Craft-repair', 'occupation_ Exec-managerial', 'occupation_ Farming-fishing', 'occupation_ Handlers-cleaners', 'occupation_ Machine-op-inspct', 'occupation_ Other-service', 'occupation_ Priv-house-serv', 'occupation_ Prof-specialty', 'occupation_ Protective-serv', 'occupation_ Sales', 'occupation_ Tech-support', 'occupation_ Transport-moving', 'relationship_ Not-in-family', 'relationship_ Other-relative', 'relationship_ Own-child', 'relationship_ Unmarried', 'relationship_ Wife', 'race_ Asian-Pac-Islander', 'race_ Black', 'race_ Other', 'race_ White', 'gender_ Male', 'nativecountry_ Canada', 'nativecountry_ China', 'nativecountry_ Columbia', 'nativecountry_ Cuba', 'nativecountry_ Dominican-Republic', 'nativecountry_ Ecuador', 'nativecountry_ El-Salvador', 'nativecountry_ England', 'nativecountry_ France', 'nativecountry_ Germany', 'nativecountry_ Greece', 'nativecountry_ Guatemala', 'nativecountry_ Haiti', 'nativecountry_ Holand-Netherlands', 'nativecountry_ Honduras', 'nativecountry_ Hong', 'nativecountry_ Hungary', 'nativecountry_ India', 'nativecountry_ Iran', 'nativecountry_ Ireland', 'nativecountry_ Italy', 'nativecountry_ Jamaica', 'nativecountry_ Japan', 'nativecountry_ Laos', 'nativecountry_ Mexico', 'nativecountry_ Nicaragua', 'nativecountry_ Outlying-US(Guam-USVI-etc)', 'nativecountry_ Peru', 'nativecountry_ Philippines', 'nativecountry_ Poland', 'nativecountry_ Portugal', 'nativecountry_ Puerto-Rico', 'nativecountry_ Scotland', 'nativecountry_ South', 'nativecountry_ Taiwan', 'nativecountry_ Thailand', 'nativecountry_ Trinadad&Tobago', 'nativecountry_ United-States', 'nativecountry_ Vietnam', 'nativecountry_ Yugoslavia']\n"
     ]
    }
   ],
   "source": [
    "# storing the column names\n",
    "columns_list = list(new_data.columns)\n",
    "print(columns_list)"
   ]
  },
  {
   "cell_type": "code",
   "execution_count": 43,
   "id": "c63e6e01",
   "metadata": {},
   "outputs": [
    {
     "name": "stdout",
     "output_type": "stream",
     "text": [
      "['nativecountry_ England', 'nativecountry_ Holand-Netherlands', 'nativecountry_ France', 'nativecountry_ Hong', 'nativecountry_ South', 'nativecountry_ Ireland', 'JobType_ Self-emp-not-inc', 'EdType_ 12th', 'race_ Asian-Pac-Islander', 'maritalstatus_ Separated', 'maritalstatus_ Married-AF-spouse', 'nativecountry_ Puerto-Rico', 'EdType_ Assoc-voc', 'nativecountry_ Laos', 'age', 'nativecountry_ Vietnam', 'nativecountry_ Dominican-Republic', 'JobType_ State-gov', 'nativecountry_ Thailand', 'nativecountry_ Outlying-US(Guam-USVI-etc)', 'hoursperweek', 'JobType_ Local-gov', 'race_ Other', 'occupation_ Armed-Forces', 'nativecountry_ Japan', 'relationship_ Not-in-family', 'EdType_ Some-college', 'nativecountry_ Jamaica', 'occupation_ Farming-fishing', 'nativecountry_ Scotland', 'nativecountry_ Canada', 'relationship_ Wife', 'nativecountry_ Poland', 'nativecountry_ Peru', 'occupation_ Protective-serv', 'relationship_ Unmarried', 'EdType_ 11th', 'maritalstatus_ Never-married', 'EdType_ Masters', 'occupation_ Tech-support', 'occupation_ Craft-repair', 'maritalstatus_ Married-civ-spouse', 'nativecountry_ United-States', 'nativecountry_ El-Salvador', 'capitalgain', 'maritalstatus_ Married-spouse-absent', 'occupation_ Exec-managerial', 'nativecountry_ Honduras', 'nativecountry_ Hungary', 'EdType_ Prof-school', 'nativecountry_ India', 'nativecountry_ Haiti', 'nativecountry_ China', 'nativecountry_ Portugal', 'EdType_ 9th', 'EdType_ Doctorate', 'EdType_ 5th-6th', 'nativecountry_ Nicaragua', 'nativecountry_ Italy', 'EdType_ 1st-4th', 'nativecountry_ Philippines', 'nativecountry_ Greece', 'occupation_ Other-service', 'JobType_ Private', 'JobType_ Self-emp-inc', 'relationship_ Other-relative', 'maritalstatus_ Widowed', 'race_ Black', 'occupation_ Prof-specialty', 'relationship_ Own-child', 'nativecountry_ Cuba', 'EdType_ Preschool', 'nativecountry_ Yugoslavia', 'EdType_ HS-grad', 'nativecountry_ Mexico', 'nativecountry_ Columbia', 'nativecountry_ Ecuador', 'nativecountry_ Trinadad&Tobago', 'EdType_ Bachelors', 'JobType_ Without-pay', 'nativecountry_ Taiwan', 'EdType_ Assoc-acdm', 'nativecountry_ Guatemala', 'occupation_ Handlers-cleaners', 'occupation_ Priv-house-serv', 'nativecountry_ Iran', 'nativecountry_ Germany', 'race_ White', 'occupation_ Machine-op-inspct', 'EdType_ 7th-8th', 'capitalloss', 'occupation_ Transport-moving', 'gender_ Male', 'occupation_ Sales']\n"
     ]
    }
   ],
   "source": [
    "# seprating the input names from data\n",
    "features = list(set(columns_list)-set(['SalStat']))\n",
    "print(features)"
   ]
  },
  {
   "cell_type": "code",
   "execution_count": 44,
   "id": "cff87cca",
   "metadata": {},
   "outputs": [
    {
     "name": "stdout",
     "output_type": "stream",
     "text": [
      "[0 0 1 ... 0 0 0]\n"
     ]
    }
   ],
   "source": [
    "# storing the output values in y\n",
    "y = new_data['SalStat'].values\n",
    "print(y)"
   ]
  },
  {
   "cell_type": "code",
   "execution_count": 45,
   "id": "0da4fa0d",
   "metadata": {},
   "outputs": [
    {
     "name": "stdout",
     "output_type": "stream",
     "text": [
      "[[0 0 0 ... 0 0 0]\n",
      " [0 0 0 ... 0 1 0]\n",
      " [0 0 0 ... 0 1 0]\n",
      " ...\n",
      " [0 0 0 ... 0 1 0]\n",
      " [0 0 0 ... 0 0 0]\n",
      " [0 0 0 ... 0 1 0]]\n"
     ]
    }
   ],
   "source": [
    "# sorting the values from input features\n",
    "\n",
    "x = new_data[features].values\n",
    "print(x)"
   ]
  },
  {
   "cell_type": "code",
   "execution_count": 46,
   "id": "0193938e",
   "metadata": {},
   "outputs": [],
   "source": [
    "# splitting the data into train and test\n",
    "\n",
    "train_x,test_x,train_y,test_y = train_test_split(x,y,test_size = 0.3,random_state = 0)"
   ]
  },
  {
   "cell_type": "code",
   "execution_count": 47,
   "id": "c7ab0f70",
   "metadata": {},
   "outputs": [
    {
     "name": "stdout",
     "output_type": "stream",
     "text": [
      "(21113, 94)\n",
      "(21113,)\n",
      "(9049, 94)\n",
      "(9049, 94)\n"
     ]
    }
   ],
   "source": [
    "print(train_x.shape)\n",
    "print(train_y.shape)\n",
    "print(test_x.shape)\n",
    "print(test_x.shape)"
   ]
  },
  {
   "cell_type": "code",
   "execution_count": 48,
   "id": "387319a5",
   "metadata": {},
   "outputs": [],
   "source": [
    "# make an instance of the model\n",
    "logistic = LogisticRegression()"
   ]
  },
  {
   "cell_type": "code",
   "execution_count": 49,
   "id": "6f37e60c",
   "metadata": {},
   "outputs": [
    {
     "name": "stderr",
     "output_type": "stream",
     "text": [
      "C:\\Users\\pc\\AppData\\Local\\Programs\\Python\\Python39\\lib\\site-packages\\sklearn\\linear_model\\_logistic.py:814: ConvergenceWarning: lbfgs failed to converge (status=1):\n",
      "STOP: TOTAL NO. of ITERATIONS REACHED LIMIT.\n",
      "\n",
      "Increase the number of iterations (max_iter) or scale the data as shown in:\n",
      "    https://scikit-learn.org/stable/modules/preprocessing.html\n",
      "Please also refer to the documentation for alternative solver options:\n",
      "    https://scikit-learn.org/stable/modules/linear_model.html#logistic-regression\n",
      "  n_iter_i = _check_optimize_result(\n"
     ]
    },
    {
     "data": {
      "text/plain": [
       "LogisticRegression()"
      ]
     },
     "execution_count": 49,
     "metadata": {},
     "output_type": "execute_result"
    }
   ],
   "source": [
    "# fitting the values for x and y\n",
    "\n",
    "logistic.fit(train_x,train_y)"
   ]
  },
  {
   "cell_type": "code",
   "execution_count": 50,
   "id": "e0f1ed55",
   "metadata": {},
   "outputs": [
    {
     "data": {
      "text/plain": [
       "array([[ 1.26923721e-02, -8.91526493e-04,  5.70861428e-03,\n",
       "        -1.26253399e-03, -2.65388164e-02, -3.88058476e-03,\n",
       "        -5.82784299e-01, -9.57708299e-02, -1.17887387e-01,\n",
       "        -1.79322291e-01,  1.64989232e-02, -4.13549362e-02,\n",
       "        -3.85483383e-02, -6.14703955e-03,  4.45566065e-04,\n",
       "        -3.36813601e-02, -2.56952152e-02, -1.26744601e-01,\n",
       "        -3.33673873e-03, -7.41286960e-03,  9.04243981e-03,\n",
       "        -2.47968470e-01, -8.39542562e-02, -1.93931858e-03,\n",
       "        -4.76908676e-04, -4.99369307e-01, -3.95522061e-01,\n",
       "        -1.19752545e-02, -3.90038130e-01, -3.29443391e-03,\n",
       "         3.59437591e-03,  2.46254759e-01, -9.34546335e-03,\n",
       "        -1.20769696e-02, -1.42075503e-02, -5.75402257e-01,\n",
       "        -3.04357718e-01, -1.34722159e+00,  5.26390966e-01,\n",
       "         1.17008428e-01, -3.21657225e-01,  1.13284296e+00,\n",
       "        -4.25059820e-01, -3.96517522e-02,  3.16745560e-04,\n",
       "        -5.83564946e-02,  8.97096399e-01, -2.24466347e-03,\n",
       "        -3.27147666e-03,  2.33833941e-01, -2.02801283e-02,\n",
       "        -1.18248004e-02, -2.24301744e-02, -1.37283920e-02,\n",
       "        -1.72322950e-01,  2.48341706e-01, -1.40254953e-01,\n",
       "        -1.28809245e-02, -1.86193480e-03, -7.16355402e-02,\n",
       "        -8.20067961e-03, -8.32866873e-03, -7.40387171e-01,\n",
       "        -3.25782460e-01,  1.61520076e-01, -2.44428861e-01,\n",
       "        -9.74409042e-02, -4.33701493e-01,  6.83181139e-01,\n",
       "        -9.41038085e-01, -8.19159511e-03, -2.63536112e-02,\n",
       "        -5.21008786e-04, -9.34978503e-01, -2.57416431e-01,\n",
       "        -2.01909763e-02, -7.23917905e-03, -4.48857442e-03,\n",
       "         7.21856365e-01, -8.12605819e-03,  1.95397289e-03,\n",
       "        -5.96340083e-02, -2.17494707e-02, -3.39056634e-01,\n",
       "        -4.06208519e-02, -2.70292357e-03,  1.45389110e-02,\n",
       "        -3.25444877e-01, -3.50497243e-01, -2.49996437e-01,\n",
       "         6.70957808e-04, -1.95257585e-01,  1.64484257e-01,\n",
       "         9.80487563e-02]])"
      ]
     },
     "execution_count": 50,
     "metadata": {},
     "output_type": "execute_result"
    }
   ],
   "source": [
    "logistic.coef_"
   ]
  },
  {
   "cell_type": "code",
   "execution_count": 51,
   "id": "2b7a9230",
   "metadata": {},
   "outputs": [
    {
     "data": {
      "text/plain": [
       "array([-1.04051432])"
      ]
     },
     "execution_count": 51,
     "metadata": {},
     "output_type": "execute_result"
    }
   ],
   "source": [
    "logistic.intercept_"
   ]
  },
  {
   "cell_type": "code",
   "execution_count": 52,
   "id": "145ed974",
   "metadata": {},
   "outputs": [
    {
     "name": "stdout",
     "output_type": "stream",
     "text": [
      "[0 0 0 ... 0 0 0]\n"
     ]
    }
   ],
   "source": [
    "# prediction from the test data\n",
    "\n",
    "prediction = logistic.predict(test_x)\n",
    "print(prediction)"
   ]
  },
  {
   "cell_type": "code",
   "execution_count": 53,
   "id": "bc103b42",
   "metadata": {},
   "outputs": [
    {
     "name": "stdout",
     "output_type": "stream",
     "text": [
      "[[6291  532]\n",
      " [ 946 1280]]\n"
     ]
    }
   ],
   "source": [
    "#  Confusion matrix\n",
    "\n",
    "confusion_matrix = confusion_matrix(test_y,prediction)\n",
    "print(confusion_matrix)"
   ]
  },
  {
   "cell_type": "code",
   "execution_count": 54,
   "id": "440e3bce",
   "metadata": {},
   "outputs": [
    {
     "name": "stdout",
     "output_type": "stream",
     "text": [
      "0.8366670350314952\n"
     ]
    }
   ],
   "source": [
    "# Calculating the accuracy\n",
    "\n",
    "accuracy_score = accuracy_score(test_y,prediction)\n",
    "print(accuracy_score)"
   ]
  },
  {
   "cell_type": "code",
   "execution_count": 55,
   "id": "876a0604",
   "metadata": {},
   "outputs": [
    {
     "name": "stdout",
     "output_type": "stream",
     "text": [
      "Misclassified samples: 1478\n"
     ]
    }
   ],
   "source": [
    "# Printing the misclassified values from prediction\n",
    "\n",
    "print('Misclassified samples: %d' % (test_y != prediction).sum())"
   ]
  },
  {
   "cell_type": "markdown",
   "id": "54c10934",
   "metadata": {},
   "source": [
    "## LOGISTIC REGRESSION - REMOVING INSIGNIFICANT VARIABLES"
   ]
  },
  {
   "cell_type": "code",
   "execution_count": 59,
   "id": "63a97a6c",
   "metadata": {},
   "outputs": [],
   "source": [
    "data = pd.read_csv(\"C:/Users/pc/Downloads/income(1).csv\",na_values = [\" ?\"])\n",
    "data2 = data.copy()"
   ]
  },
  {
   "cell_type": "code",
   "execution_count": 60,
   "id": "54fcab31",
   "metadata": {},
   "outputs": [
    {
     "name": "stdout",
     "output_type": "stream",
     "text": [
      "       age       JobType         EdType        maritalstatus  \\\n",
      "0       45       Private        HS-grad             Divorced   \n",
      "1       24   Federal-gov        HS-grad        Never-married   \n",
      "2       44       Private   Some-college   Married-civ-spouse   \n",
      "3       27       Private            9th        Never-married   \n",
      "4       20       Private   Some-college        Never-married   \n",
      "...    ...           ...            ...                  ...   \n",
      "31973   34     Local-gov        HS-grad        Never-married   \n",
      "31974   34     Local-gov   Some-college        Never-married   \n",
      "31975   23       Private   Some-college   Married-civ-spouse   \n",
      "31976   42     Local-gov   Some-college   Married-civ-spouse   \n",
      "31977   29       Private      Bachelors        Never-married   \n",
      "\n",
      "             occupation     relationship    race   gender  capitalgain  \\\n",
      "0          Adm-clerical    Not-in-family   White   Female            0   \n",
      "1          Armed-Forces        Own-child   White     Male            0   \n",
      "2        Prof-specialty          Husband   White     Male            0   \n",
      "3          Craft-repair   Other-relative   White     Male            0   \n",
      "4                 Sales    Not-in-family   White     Male            0   \n",
      "...                 ...              ...     ...      ...          ...   \n",
      "31973   Farming-fishing    Not-in-family   Black     Male          594   \n",
      "31974   Protective-serv    Not-in-family   White   Female            0   \n",
      "31975      Adm-clerical          Husband   White     Male            0   \n",
      "31976      Adm-clerical             Wife   White   Female            0   \n",
      "31977    Prof-specialty    Not-in-family   White     Male            0   \n",
      "\n",
      "       capitalloss  hoursperweek   nativecountry  \\\n",
      "0                0            28   United-States   \n",
      "1                0            40   United-States   \n",
      "2                0            40   United-States   \n",
      "3                0            40          Mexico   \n",
      "4                0            35   United-States   \n",
      "...            ...           ...             ...   \n",
      "31973            0            60   United-States   \n",
      "31974            0            40   United-States   \n",
      "31975            0            40   United-States   \n",
      "31976            0            40   United-States   \n",
      "31977            0            40   United-States   \n",
      "\n",
      "                             SalStat  \n",
      "0       less than or equal to 50,000  \n",
      "1       less than or equal to 50,000  \n",
      "2                greater than 50,000  \n",
      "3       less than or equal to 50,000  \n",
      "4       less than or equal to 50,000  \n",
      "...                              ...  \n",
      "31973   less than or equal to 50,000  \n",
      "31974   less than or equal to 50,000  \n",
      "31975   less than or equal to 50,000  \n",
      "31976   less than or equal to 50,000  \n",
      "31977   less than or equal to 50,000  \n",
      "\n",
      "[31978 rows x 13 columns]\n"
     ]
    }
   ],
   "source": [
    "print(data2)"
   ]
  },
  {
   "cell_type": "code",
   "execution_count": 61,
   "id": "19afd926",
   "metadata": {},
   "outputs": [],
   "source": [
    "data2['SalStat'] = data2['SalStat'].map({' less than or equal to 50,000':0,' greater than 50,000':1})"
   ]
  },
  {
   "cell_type": "code",
   "execution_count": 62,
   "id": "59b04738",
   "metadata": {},
   "outputs": [
    {
     "data": {
      "text/plain": [
       "0        0\n",
       "1        0\n",
       "2        1\n",
       "3        0\n",
       "4        0\n",
       "        ..\n",
       "31973    0\n",
       "31974    0\n",
       "31975    0\n",
       "31976    0\n",
       "31977    0\n",
       "Name: SalStat, Length: 31978, dtype: int64"
      ]
     },
     "execution_count": 62,
     "metadata": {},
     "output_type": "execute_result"
    }
   ],
   "source": [
    "data2['SalStat']"
   ]
  },
  {
   "cell_type": "code",
   "execution_count": 63,
   "id": "aad38ae9",
   "metadata": {},
   "outputs": [],
   "source": [
    "cols = ['gender','nativecountry','race','JobType']"
   ]
  },
  {
   "cell_type": "code",
   "execution_count": 64,
   "id": "073fcdf4",
   "metadata": {},
   "outputs": [],
   "source": [
    "new_data = data2.drop(cols,axis =1)"
   ]
  },
  {
   "cell_type": "code",
   "execution_count": 65,
   "id": "4c87d6d1",
   "metadata": {},
   "outputs": [
    {
     "data": {
      "text/html": [
       "<div>\n",
       "<style scoped>\n",
       "    .dataframe tbody tr th:only-of-type {\n",
       "        vertical-align: middle;\n",
       "    }\n",
       "\n",
       "    .dataframe tbody tr th {\n",
       "        vertical-align: top;\n",
       "    }\n",
       "\n",
       "    .dataframe thead th {\n",
       "        text-align: right;\n",
       "    }\n",
       "</style>\n",
       "<table border=\"1\" class=\"dataframe\">\n",
       "  <thead>\n",
       "    <tr style=\"text-align: right;\">\n",
       "      <th></th>\n",
       "      <th>age</th>\n",
       "      <th>EdType</th>\n",
       "      <th>maritalstatus</th>\n",
       "      <th>occupation</th>\n",
       "      <th>relationship</th>\n",
       "      <th>capitalgain</th>\n",
       "      <th>capitalloss</th>\n",
       "      <th>hoursperweek</th>\n",
       "      <th>SalStat</th>\n",
       "    </tr>\n",
       "  </thead>\n",
       "  <tbody>\n",
       "    <tr>\n",
       "      <th>0</th>\n",
       "      <td>45</td>\n",
       "      <td>HS-grad</td>\n",
       "      <td>Divorced</td>\n",
       "      <td>Adm-clerical</td>\n",
       "      <td>Not-in-family</td>\n",
       "      <td>0</td>\n",
       "      <td>0</td>\n",
       "      <td>28</td>\n",
       "      <td>0</td>\n",
       "    </tr>\n",
       "    <tr>\n",
       "      <th>1</th>\n",
       "      <td>24</td>\n",
       "      <td>HS-grad</td>\n",
       "      <td>Never-married</td>\n",
       "      <td>Armed-Forces</td>\n",
       "      <td>Own-child</td>\n",
       "      <td>0</td>\n",
       "      <td>0</td>\n",
       "      <td>40</td>\n",
       "      <td>0</td>\n",
       "    </tr>\n",
       "    <tr>\n",
       "      <th>2</th>\n",
       "      <td>44</td>\n",
       "      <td>Some-college</td>\n",
       "      <td>Married-civ-spouse</td>\n",
       "      <td>Prof-specialty</td>\n",
       "      <td>Husband</td>\n",
       "      <td>0</td>\n",
       "      <td>0</td>\n",
       "      <td>40</td>\n",
       "      <td>1</td>\n",
       "    </tr>\n",
       "    <tr>\n",
       "      <th>3</th>\n",
       "      <td>27</td>\n",
       "      <td>9th</td>\n",
       "      <td>Never-married</td>\n",
       "      <td>Craft-repair</td>\n",
       "      <td>Other-relative</td>\n",
       "      <td>0</td>\n",
       "      <td>0</td>\n",
       "      <td>40</td>\n",
       "      <td>0</td>\n",
       "    </tr>\n",
       "    <tr>\n",
       "      <th>4</th>\n",
       "      <td>20</td>\n",
       "      <td>Some-college</td>\n",
       "      <td>Never-married</td>\n",
       "      <td>Sales</td>\n",
       "      <td>Not-in-family</td>\n",
       "      <td>0</td>\n",
       "      <td>0</td>\n",
       "      <td>35</td>\n",
       "      <td>0</td>\n",
       "    </tr>\n",
       "    <tr>\n",
       "      <th>...</th>\n",
       "      <td>...</td>\n",
       "      <td>...</td>\n",
       "      <td>...</td>\n",
       "      <td>...</td>\n",
       "      <td>...</td>\n",
       "      <td>...</td>\n",
       "      <td>...</td>\n",
       "      <td>...</td>\n",
       "      <td>...</td>\n",
       "    </tr>\n",
       "    <tr>\n",
       "      <th>31973</th>\n",
       "      <td>34</td>\n",
       "      <td>HS-grad</td>\n",
       "      <td>Never-married</td>\n",
       "      <td>Farming-fishing</td>\n",
       "      <td>Not-in-family</td>\n",
       "      <td>594</td>\n",
       "      <td>0</td>\n",
       "      <td>60</td>\n",
       "      <td>0</td>\n",
       "    </tr>\n",
       "    <tr>\n",
       "      <th>31974</th>\n",
       "      <td>34</td>\n",
       "      <td>Some-college</td>\n",
       "      <td>Never-married</td>\n",
       "      <td>Protective-serv</td>\n",
       "      <td>Not-in-family</td>\n",
       "      <td>0</td>\n",
       "      <td>0</td>\n",
       "      <td>40</td>\n",
       "      <td>0</td>\n",
       "    </tr>\n",
       "    <tr>\n",
       "      <th>31975</th>\n",
       "      <td>23</td>\n",
       "      <td>Some-college</td>\n",
       "      <td>Married-civ-spouse</td>\n",
       "      <td>Adm-clerical</td>\n",
       "      <td>Husband</td>\n",
       "      <td>0</td>\n",
       "      <td>0</td>\n",
       "      <td>40</td>\n",
       "      <td>0</td>\n",
       "    </tr>\n",
       "    <tr>\n",
       "      <th>31976</th>\n",
       "      <td>42</td>\n",
       "      <td>Some-college</td>\n",
       "      <td>Married-civ-spouse</td>\n",
       "      <td>Adm-clerical</td>\n",
       "      <td>Wife</td>\n",
       "      <td>0</td>\n",
       "      <td>0</td>\n",
       "      <td>40</td>\n",
       "      <td>0</td>\n",
       "    </tr>\n",
       "    <tr>\n",
       "      <th>31977</th>\n",
       "      <td>29</td>\n",
       "      <td>Bachelors</td>\n",
       "      <td>Never-married</td>\n",
       "      <td>Prof-specialty</td>\n",
       "      <td>Not-in-family</td>\n",
       "      <td>0</td>\n",
       "      <td>0</td>\n",
       "      <td>40</td>\n",
       "      <td>0</td>\n",
       "    </tr>\n",
       "  </tbody>\n",
       "</table>\n",
       "<p>31978 rows × 9 columns</p>\n",
       "</div>"
      ],
      "text/plain": [
       "       age         EdType        maritalstatus        occupation  \\\n",
       "0       45        HS-grad             Divorced      Adm-clerical   \n",
       "1       24        HS-grad        Never-married      Armed-Forces   \n",
       "2       44   Some-college   Married-civ-spouse    Prof-specialty   \n",
       "3       27            9th        Never-married      Craft-repair   \n",
       "4       20   Some-college        Never-married             Sales   \n",
       "...    ...            ...                  ...               ...   \n",
       "31973   34        HS-grad        Never-married   Farming-fishing   \n",
       "31974   34   Some-college        Never-married   Protective-serv   \n",
       "31975   23   Some-college   Married-civ-spouse      Adm-clerical   \n",
       "31976   42   Some-college   Married-civ-spouse      Adm-clerical   \n",
       "31977   29      Bachelors        Never-married    Prof-specialty   \n",
       "\n",
       "          relationship  capitalgain  capitalloss  hoursperweek  SalStat  \n",
       "0        Not-in-family            0            0            28        0  \n",
       "1            Own-child            0            0            40        0  \n",
       "2              Husband            0            0            40        1  \n",
       "3       Other-relative            0            0            40        0  \n",
       "4        Not-in-family            0            0            35        0  \n",
       "...                ...          ...          ...           ...      ...  \n",
       "31973    Not-in-family          594            0            60        0  \n",
       "31974    Not-in-family            0            0            40        0  \n",
       "31975          Husband            0            0            40        0  \n",
       "31976             Wife            0            0            40        0  \n",
       "31977    Not-in-family            0            0            40        0  \n",
       "\n",
       "[31978 rows x 9 columns]"
      ]
     },
     "execution_count": 65,
     "metadata": {},
     "output_type": "execute_result"
    }
   ],
   "source": [
    "new_data"
   ]
  },
  {
   "cell_type": "code",
   "execution_count": 66,
   "id": "9e94d588",
   "metadata": {},
   "outputs": [],
   "source": [
    "new_data = pd.get_dummies(new_data, drop_first = True)"
   ]
  },
  {
   "cell_type": "code",
   "execution_count": 68,
   "id": "a1cdfa14",
   "metadata": {},
   "outputs": [
    {
     "data": {
      "text/plain": [
       "(31978, 44)"
      ]
     },
     "execution_count": 68,
     "metadata": {},
     "output_type": "execute_result"
    }
   ],
   "source": [
    "new_data.shape"
   ]
  },
  {
   "cell_type": "code",
   "execution_count": 1,
   "id": "e2f28709",
   "metadata": {},
   "outputs": [],
   "source": []
  },
  {
   "cell_type": "code",
   "execution_count": 2,
   "id": "a64a8dec",
   "metadata": {},
   "outputs": [
    {
     "ename": "NameError",
     "evalue": "name 'df' is not defined",
     "output_type": "error",
     "traceback": [
      "\u001b[1;31m---------------------------------------------------------------------------\u001b[0m",
      "\u001b[1;31mNameError\u001b[0m                                 Traceback (most recent call last)",
      "\u001b[1;32m~\\AppData\\Local\\Temp\\ipykernel_8020\\866602342.py\u001b[0m in \u001b[0;36m<module>\u001b[1;34m\u001b[0m\n\u001b[1;32m----> 1\u001b[1;33m \u001b[0mdf\u001b[0m\u001b[1;33m[\u001b[0m\u001b[0mcol_list\u001b[0m\u001b[1;33m]\u001b[0m\u001b[1;33m\u001b[0m\u001b[1;33m\u001b[0m\u001b[0m\n\u001b[0m",
      "\u001b[1;31mNameError\u001b[0m: name 'df' is not defined"
     ]
    }
   ],
   "source": [
    "df[col_list]"
   ]
  },
  {
   "cell_type": "code",
   "execution_count": null,
   "id": "e07c29cd",
   "metadata": {},
   "outputs": [],
   "source": []
  },
  {
   "cell_type": "code",
   "execution_count": null,
   "id": "263ce79d",
   "metadata": {},
   "outputs": [],
   "source": []
  },
  {
   "cell_type": "code",
   "execution_count": null,
   "id": "d6ce12e9",
   "metadata": {},
   "outputs": [],
   "source": []
  },
  {
   "cell_type": "code",
   "execution_count": null,
   "id": "fd4f446d",
   "metadata": {},
   "outputs": [],
   "source": []
  },
  {
   "cell_type": "code",
   "execution_count": null,
   "id": "0df721e5",
   "metadata": {},
   "outputs": [],
   "source": []
  },
  {
   "cell_type": "code",
   "execution_count": null,
   "id": "4c2af48f",
   "metadata": {},
   "outputs": [],
   "source": []
  },
  {
   "cell_type": "code",
   "execution_count": null,
   "id": "602d071c",
   "metadata": {},
   "outputs": [],
   "source": []
  }
 ],
 "metadata": {
  "kernelspec": {
   "display_name": "Python 3 (ipykernel)",
   "language": "python",
   "name": "python3"
  },
  "language_info": {
   "codemirror_mode": {
    "name": "ipython",
    "version": 3
   },
   "file_extension": ".py",
   "mimetype": "text/x-python",
   "name": "python",
   "nbconvert_exporter": "python",
   "pygments_lexer": "ipython3",
   "version": "3.9.7"
  }
 },
 "nbformat": 4,
 "nbformat_minor": 5
}
