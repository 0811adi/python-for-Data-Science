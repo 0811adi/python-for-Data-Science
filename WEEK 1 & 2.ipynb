{
 "cells": [
  {
   "cell_type": "markdown",
   "id": "939e4b78",
   "metadata": {},
   "source": [
    "# WEEK 1"
   ]
  },
  {
   "cell_type": "code",
   "execution_count": 203,
   "id": "93d75c5e",
   "metadata": {},
   "outputs": [
    {
     "name": "stdout",
     "output_type": "stream",
     "text": [
      "11 110\n"
     ]
    }
   ],
   "source": [
    "a=11\n",
    "b=a*10\n",
    "print(a,b)"
   ]
  },
  {
   "cell_type": "code",
   "execution_count": 176,
   "id": "7001e0b4",
   "metadata": {},
   "outputs": [
    {
     "name": "stdout",
     "output_type": "stream",
     "text": [
      "14 140\n"
     ]
    }
   ],
   "source": [
    "a=14\n",
    "b=a*10\n",
    "print(a,b)"
   ]
  },
  {
   "cell_type": "code",
   "execution_count": 204,
   "id": "0712a910",
   "metadata": {},
   "outputs": [
    {
     "name": "stdout",
     "output_type": "stream",
     "text": [
      "157.05\n"
     ]
    }
   ],
   "source": [
    "# simple example\n",
    "# calculate valume of cylinder\n",
    "dia =5  ## dia is for dimeter\n",
    "len =4  ## len for length\n",
    "vol = 2*3.141*(dia/2)**2*len\n",
    "print(vol)"
   ]
  },
  {
   "cell_type": "code",
   "execution_count": 178,
   "id": "a03ad6dc",
   "metadata": {},
   "outputs": [],
   "source": [
    "import numpy as np"
   ]
  },
  {
   "cell_type": "code",
   "execution_count": 205,
   "id": "e56da50f",
   "metadata": {},
   "outputs": [
    {
     "name": "stdout",
     "output_type": "stream",
     "text": [
      "70 80 90\n",
      "150\n",
      "10\n",
      "6300\n"
     ]
    }
   ],
   "source": [
    "\n",
    "Physics,Mathematics,Chemistry = 70,80,90\n",
    "\n",
    "print(Physics,Mathematics,Chemistry)\n",
    "print(Physics+Mathematics)\n",
    "print(Chemistry-Mathematics)\n",
    "print(Chemistry*Physics)"
   ]
  },
  {
   "cell_type": "code",
   "execution_count": 206,
   "id": "aad471f6",
   "metadata": {},
   "outputs": [
    {
     "data": {
      "text/plain": [
       "int"
      ]
     },
     "execution_count": 206,
     "metadata": {},
     "output_type": "execute_result"
    }
   ],
   "source": [
    "type(Physics)"
   ]
  },
  {
   "cell_type": "code",
   "execution_count": 207,
   "id": "857d1cf8",
   "metadata": {},
   "outputs": [
    {
     "name": "stdout",
     "output_type": "stream",
     "text": [
      "Ram 55 150.6 <class 'str'> <class 'int'> <class 'float'>\n"
     ]
    }
   ],
   "source": [
    "employee_name,age,height =\"Ram\",55,150.6\n",
    "type(employee_name)\n",
    "type(age)\n",
    "type(height)\n",
    "print(employee_name,age,height,type(employee_name),type(age),type(height))"
   ]
  },
  {
   "cell_type": "code",
   "execution_count": 208,
   "id": "5aecfa86",
   "metadata": {},
   "outputs": [
    {
     "data": {
      "text/plain": [
       "False"
      ]
     },
     "execution_count": 208,
     "metadata": {},
     "output_type": "execute_result"
    }
   ],
   "source": [
    "type(height) is int  # verifyig data type"
   ]
  },
  {
   "cell_type": "code",
   "execution_count": 209,
   "id": "e4ae6c43",
   "metadata": {},
   "outputs": [
    {
     "data": {
      "text/plain": [
       "False"
      ]
     },
     "execution_count": 209,
     "metadata": {},
     "output_type": "execute_result"
    }
   ],
   "source": [
    "type(age) is float"
   ]
  },
  {
   "cell_type": "code",
   "execution_count": 210,
   "id": "63f6019f",
   "metadata": {},
   "outputs": [
    {
     "data": {
      "text/plain": [
       "True"
      ]
     },
     "execution_count": 210,
     "metadata": {},
     "output_type": "execute_result"
    }
   ],
   "source": [
    "type(employee_name) is str"
   ]
  },
  {
   "cell_type": "markdown",
   "id": "42335213",
   "metadata": {},
   "source": [
    "## Convert the data type of an object to another"
   ]
  },
  {
   "cell_type": "code",
   "execution_count": 211,
   "id": "4950fc55",
   "metadata": {},
   "outputs": [
    {
     "data": {
      "text/plain": [
       "float"
      ]
     },
     "execution_count": 211,
     "metadata": {},
     "output_type": "execute_result"
    }
   ],
   "source": [
    "type(height)"
   ]
  },
  {
   "cell_type": "code",
   "execution_count": 212,
   "id": "8820f0e3",
   "metadata": {},
   "outputs": [
    {
     "name": "stdout",
     "output_type": "stream",
     "text": [
      "150 <class 'int'>\n"
     ]
    }
   ],
   "source": [
    "ht = int(height)\n",
    "print(ht,type(ht))"
   ]
  },
  {
   "cell_type": "code",
   "execution_count": 214,
   "id": "e97ed1c2",
   "metadata": {},
   "outputs": [
    {
     "data": {
      "text/plain": [
       "int"
      ]
     },
     "execution_count": 214,
     "metadata": {},
     "output_type": "execute_result"
    }
   ],
   "source": [
    "height=int(height)\n",
    "type(height)"
   ]
  },
  {
   "cell_type": "code",
   "execution_count": 215,
   "id": "8d53676c",
   "metadata": {},
   "outputs": [
    {
     "name": "stdout",
     "output_type": "stream",
     "text": [
      "1 <class 'str'>\n"
     ]
    }
   ],
   "source": [
    "salary_tier ='1'\n",
    "type(salary_tier)\n",
    "print(salary_tier,type(salary_tier))"
   ]
  },
  {
   "cell_type": "code",
   "execution_count": 216,
   "id": "ee0f2bd0",
   "metadata": {},
   "outputs": [
    {
     "data": {
      "text/plain": [
       "int"
      ]
     },
     "execution_count": 216,
     "metadata": {},
     "output_type": "execute_result"
    }
   ],
   "source": [
    "salary_tier=int(salary_tier)\n",
    "type(salary_tier)\n"
   ]
  },
  {
   "cell_type": "markdown",
   "id": "4bc2cd89",
   "metadata": {},
   "source": [
    "# OPERATORS"
   ]
  },
  {
   "cell_type": "code",
   "execution_count": 190,
   "id": "9a00a85f",
   "metadata": {},
   "outputs": [
    {
     "data": {
      "text/plain": [
       "5"
      ]
     },
     "execution_count": 190,
     "metadata": {},
     "output_type": "execute_result"
    }
   ],
   "source": [
    "2+3 # here + is operator  2,3 are operands"
   ]
  },
  {
   "cell_type": "code",
   "execution_count": 217,
   "id": "15df824c",
   "metadata": {},
   "outputs": [],
   "source": [
    "# + ADDITION\n",
    "# - SUBSTRACTION\n",
    "# * MULTIPLICATION\n",
    "# / DIVISION\n",
    "# % REMINDER\n",
    "# ** EXPONENT "
   ]
  },
  {
   "cell_type": "code",
   "execution_count": 218,
   "id": "c61496d0",
   "metadata": {},
   "outputs": [
    {
     "name": "stdout",
     "output_type": "stream",
     "text": [
      "5.0\n"
     ]
    }
   ],
   "source": [
    "a = 7-2*(27/3**2)+4\n",
    "print(a)"
   ]
  },
  {
   "cell_type": "code",
   "execution_count": 219,
   "id": "ad0aebc5",
   "metadata": {},
   "outputs": [],
   "source": [
    "# ASSIGNMENT OPERATOR\n",
    "# =  EX- a=10  b=5\n",
    "# += means a=a+b\n",
    "# -= means a=a-b\n",
    "# *= means a=a*b\n",
    "# /= means a=a/b"
   ]
  },
  {
   "cell_type": "code",
   "execution_count": 220,
   "id": "e8f44eaf",
   "metadata": {},
   "outputs": [
    {
     "name": "stdout",
     "output_type": "stream",
     "text": [
      "15\n",
      "10\n",
      "50\n",
      "10.0\n"
     ]
    }
   ],
   "source": [
    "a=10 \n",
    "b=5\n",
    "a+=b\n",
    "print(a) #now a = 15\n",
    "\n",
    "a-=b\n",
    "print(a)\n",
    "\n",
    "a*=b\n",
    "print(a)\n",
    "\n",
    "a/=b\n",
    "print(a)\n"
   ]
  },
  {
   "cell_type": "code",
   "execution_count": 221,
   "id": "99e4ad80",
   "metadata": {},
   "outputs": [],
   "source": [
    "x=5\n",
    "y=7"
   ]
  },
  {
   "cell_type": "code",
   "execution_count": 222,
   "id": "db43f3be",
   "metadata": {},
   "outputs": [
    {
     "name": "stdout",
     "output_type": "stream",
     "text": [
      "True\n",
      "True\n",
      "False\n",
      "False\n",
      "False\n",
      "True\n"
     ]
    }
   ],
   "source": [
    "# RELATIONAL OPERATOR\n",
    "\n",
    "print(x<y)  ## strictly less than\n",
    "print(x<=y)  ## Less than or equal to\n",
    "print(x>y)  ## strictly greater than\n",
    "print(x>=y)  ## Greater than or equal to\n",
    "print(x==y)  ## Equal to equal to\n",
    "print(x!=y)   ## Not equal to"
   ]
  },
  {
   "cell_type": "code",
   "execution_count": 197,
   "id": "0035c0df",
   "metadata": {},
   "outputs": [
    {
     "name": "stdout",
     "output_type": "stream",
     "text": [
      "True\n",
      "False\n",
      "True\n"
     ]
    }
   ],
   "source": [
    "## LOGICAL  OPERATOR\n",
    "\n",
    "# or         Logical OR\n",
    "\n",
    "print((x>y) or (x<y))\n",
    "\n",
    "# and        Logical AND\n",
    "print((x>y) and (x<y))\n",
    "\n",
    "# not        Logical NOT\n",
    "print(not(x==y))"
   ]
  },
  {
   "cell_type": "code",
   "execution_count": 223,
   "id": "32a2522b",
   "metadata": {},
   "outputs": [
    {
     "name": "stdout",
     "output_type": "stream",
     "text": [
      "7\n",
      "True\n"
     ]
    }
   ],
   "source": [
    "# BITWISE OPERATOR\n",
    "## WE USE ONLY WHEN OPERANDS ARE IN INTEGER\n",
    "\n",
    "# Bitwise OR(|),AND(&)\n",
    "print(x|y)\n",
    "print((x<y)|(x==y))"
   ]
  },
  {
   "cell_type": "markdown",
   "id": "1c27fd6b",
   "metadata": {},
   "source": [
    "# ASSIGNMENT FIRST"
   ]
  },
  {
   "cell_type": "code",
   "execution_count": 224,
   "id": "4d90c762",
   "metadata": {},
   "outputs": [
    {
     "name": "stdout",
     "output_type": "stream",
     "text": [
      "(2+3j)\n",
      "(2+3j)\n",
      "(2+3j)\n"
     ]
    }
   ],
   "source": [
    "k=2+3j\n",
    "print(k)\n",
    "L= complex(2,3)\n",
    "print(L)\n",
    "# m=2+3I\n",
    "# print(m)\n",
    "m=2+3J\n",
    "print(m)"
   ]
  },
  {
   "cell_type": "code",
   "execution_count": 225,
   "id": "12482a2a",
   "metadata": {},
   "outputs": [
    {
     "data": {
      "text/plain": [
       "3"
      ]
     },
     "execution_count": 225,
     "metadata": {},
     "output_type": "execute_result"
    }
   ],
   "source": [
    "7//2"
   ]
  },
  {
   "cell_type": "code",
   "execution_count": 226,
   "id": "a4f20d68",
   "metadata": {},
   "outputs": [
    {
     "name": "stdout",
     "output_type": "stream",
     "text": [
      "46\n"
     ]
    }
   ],
   "source": [
    "#question 1\n",
    "a,b ='4','6'\n",
    "print(a+b)"
   ]
  },
  {
   "cell_type": "code",
   "execution_count": 227,
   "id": "36291998",
   "metadata": {},
   "outputs": [
    {
     "ename": "SyntaxError",
     "evalue": "cannot assign to operator (2679787646.py, line 2)",
     "output_type": "error",
     "traceback": [
      "\u001b[1;36m  File \u001b[1;32m\"C:\\Users\\pc\\AppData\\Local\\Temp\\ipykernel_6060\\2679787646.py\"\u001b[1;36m, line \u001b[1;32m2\u001b[0m\n\u001b[1;33m    var@check1=10\u001b[0m\n\u001b[1;37m    ^\u001b[0m\n\u001b[1;31mSyntaxError\u001b[0m\u001b[1;31m:\u001b[0m cannot assign to operator\n"
     ]
    }
   ],
   "source": [
    "#question 2\n",
    "var@check1=10"
   ]
  },
  {
   "cell_type": "code",
   "execution_count": 228,
   "id": "58e79ee0",
   "metadata": {},
   "outputs": [
    {
     "name": "stdout",
     "output_type": "stream",
     "text": [
      "3 6\n",
      "6 3\n"
     ]
    }
   ],
   "source": [
    "#question 3\n",
    "X=3\n",
    "Y=6\n",
    "print(X,Y)\n",
    "\n",
    "X,Y=Y,X\n",
    "\n",
    "print(X,Y)"
   ]
  },
  {
   "cell_type": "code",
   "execution_count": 229,
   "id": "f1e86589",
   "metadata": {},
   "outputs": [
    {
     "name": "stdout",
     "output_type": "stream",
     "text": [
      "Varible: 1\n"
     ]
    }
   ],
   "source": [
    "#question 4\n",
    "y=1**2**3**2\n",
    "print(\"Varible:\",y)"
   ]
  },
  {
   "cell_type": "code",
   "execution_count": 230,
   "id": "5ef511d4",
   "metadata": {},
   "outputs": [
    {
     "name": "stdout",
     "output_type": "stream",
     "text": [
      "15\n",
      "15\n"
     ]
    }
   ],
   "source": [
    "#question 5\n",
    "j=5\n",
    "k=11\n",
    "print(j|k)\n",
    "\n",
    "j=7\n",
    "print(j|k)"
   ]
  },
  {
   "cell_type": "code",
   "execution_count": 231,
   "id": "cfe4f2f3",
   "metadata": {},
   "outputs": [
    {
     "name": "stdout",
     "output_type": "stream",
     "text": [
      "True\n"
     ]
    }
   ],
   "source": [
    "#question 6\n",
    "log_exp = not not True and False or not False\n",
    "print(log_exp)"
   ]
  },
  {
   "cell_type": "code",
   "execution_count": 232,
   "id": "0e188ddc",
   "metadata": {},
   "outputs": [
    {
     "name": "stdout",
     "output_type": "stream",
     "text": [
      "4 <class 'int'>\n"
     ]
    }
   ],
   "source": [
    "#question 7\n",
    "k=4%7\n",
    "print(k,type(k))"
   ]
  },
  {
   "cell_type": "code",
   "execution_count": 233,
   "id": "beb833e4",
   "metadata": {},
   "outputs": [
    {
     "name": "stdout",
     "output_type": "stream",
     "text": [
      "1.8181818181818183 1.0 <class 'float'> <class 'float'>\n"
     ]
    }
   ],
   "source": [
    "#question 8\n",
    "p=6/3.3\n",
    "q=6//3.3\n",
    "print(p,q,type(p),type(q))"
   ]
  },
  {
   "cell_type": "code",
   "execution_count": 234,
   "id": "0d2c7c53",
   "metadata": {},
   "outputs": [
    {
     "name": "stdout",
     "output_type": "stream",
     "text": [
      "0\n"
     ]
    }
   ],
   "source": [
    "#question 9\n",
    "answer1 = True\n",
    "answer2 = False\n",
    "print(answer1*answer2)"
   ]
  },
  {
   "cell_type": "code",
   "execution_count": 235,
   "id": "f3bd03ec",
   "metadata": {
    "scrolled": true
   },
   "outputs": [
    {
     "name": "stdout",
     "output_type": "stream",
     "text": [
      "GoodDay\n",
      "Word is Trial\n",
      "Number:23.000000\n",
      "ready\n",
      "steady\n",
      "go\n"
     ]
    }
   ],
   "source": [
    "#question 10\n",
    "print(\"Good\",end=\"\")\n",
    "print(\"Day\")\n",
    "\n",
    "word1 =\"Trial\"\n",
    "print(\"Word is %s\"%word1)\n",
    "\n",
    "num1 =23\n",
    "print(\"Number:%f\"%num1)\n",
    "\n",
    "print(\"ready\\nsteady\\ngo\")"
   ]
  },
  {
   "cell_type": "markdown",
   "id": "866fc0ca",
   "metadata": {},
   "source": [
    "# WEEK 2"
   ]
  },
  {
   "cell_type": "markdown",
   "id": "e7a13e6d",
   "metadata": {},
   "source": [
    "### LIST"
   ]
  },
  {
   "cell_type": "code",
   "execution_count": 312,
   "id": "c84bf39b",
   "metadata": {},
   "outputs": [
    {
     "name": "stdout",
     "output_type": "stream",
     "text": [
      "[[1, 2, 3, 4], ['Ram', 'Preeti', 'Satish', 'John'], 4]\n"
     ]
    }
   ],
   "source": [
    "id = [1,2,3,4]\n",
    "employee_name = [\"Ram\",\"Preeti\",\"Satish\",\"John\"]\n",
    "num_emp =4\n",
    "\n",
    "employee_list = [id,employee_name,num_emp]\n",
    "print(employee_list)"
   ]
  },
  {
   "cell_type": "markdown",
   "id": "a0f49ac8",
   "metadata": {},
   "source": [
    "## INDEX"
   ]
  },
  {
   "cell_type": "markdown",
   "id": "1a988b76",
   "metadata": {},
   "source": [
    "+ve indexing start with 0  & -ve indexing start with -1"
   ]
  },
  {
   "cell_type": "code",
   "execution_count": 313,
   "id": "324eaa3f",
   "metadata": {},
   "outputs": [
    {
     "name": "stdout",
     "output_type": "stream",
     "text": [
      "[1, 2, 3, 4]\n",
      "['Ram', 'Preeti', 'Satish', 'John']\n"
     ]
    }
   ],
   "source": [
    "# to extract id fron employee list\n",
    "print(employee_list[0])  # here zero is index for id   by +ve indexing\n",
    "print(employee_list[1])  # here zero is index for employee_name"
   ]
  },
  {
   "cell_type": "code",
   "execution_count": 314,
   "id": "3a82d616",
   "metadata": {},
   "outputs": [
    {
     "name": "stdout",
     "output_type": "stream",
     "text": [
      "Preeti\n"
     ]
    }
   ],
   "source": [
    "print(employee_list[1][1])"
   ]
  },
  {
   "cell_type": "code",
   "execution_count": 315,
   "id": "161b91ec",
   "metadata": {},
   "outputs": [
    {
     "name": "stdout",
     "output_type": "stream",
     "text": [
      "2\n"
     ]
    }
   ],
   "source": [
    "print(employee_list[0][1])"
   ]
  },
  {
   "cell_type": "code",
   "execution_count": 316,
   "id": "7bb2d243",
   "metadata": {},
   "outputs": [
    {
     "name": "stdout",
     "output_type": "stream",
     "text": [
      "[[1, 2, 3, 4], ['Ram', 'Preeti', 'Satish', 'John'], 4]\n"
     ]
    }
   ],
   "source": [
    "# how to modify the list\n",
    "print(employee_list)  ## existing list"
   ]
  },
  {
   "cell_type": "code",
   "execution_count": 317,
   "id": "a747b520",
   "metadata": {},
   "outputs": [
    {
     "name": "stdout",
     "output_type": "stream",
     "text": [
      "[[1, 2, 3, 4], ['Ram', 'Preeti', 'Satish', 'John'], 5]\n"
     ]
    }
   ],
   "source": [
    "# we want to change num_emp from 4 to 5\n",
    "employee_list[2]=5\n",
    "print(employee_list)"
   ]
  },
  {
   "cell_type": "code",
   "execution_count": 318,
   "id": "ab038f4a",
   "metadata": {},
   "outputs": [
    {
     "name": "stdout",
     "output_type": "stream",
     "text": [
      "[[1, 2, 3, 4], ['Ram', 'Preeti', 'Satish', 'Karan'], 5]\n"
     ]
    }
   ],
   "source": [
    "# i want to change the value at sub level component\n",
    "employee_list[1][3]=\"Karan\"\n",
    "print(employee_list)"
   ]
  },
  {
   "cell_type": "markdown",
   "id": "e06c0eb5",
   "metadata": {},
   "source": [
    "MODIFICATION BY INBUILD FUNCTION\n",
    "\n"
   ]
  },
  {
   "cell_type": "code",
   "execution_count": 319,
   "id": "015470d5",
   "metadata": {},
   "outputs": [
    {
     "name": "stdout",
     "output_type": "stream",
     "text": [
      "[[1, 2, 3, 4, 5], ['Ram', 'Preeti', 'Satish', 'Karan', 'Nirmal'], 5]\n"
     ]
    }
   ],
   "source": [
    "#Adding number '5' to the level id in employee_list\n",
    "employee_list[0].append(5)\n",
    "employee_list[1].append('Nirmal')\n",
    "print(employee_list)"
   ]
  },
  {
   "cell_type": "code",
   "execution_count": 320,
   "id": "380f4407",
   "metadata": {},
   "outputs": [
    {
     "name": "stdout",
     "output_type": "stream",
     "text": [
      "[[1, 2, 3, 4, 5], ['Ram', 'Preeti', 'Satish', 'Karan', 'Nirmal'], 5, [23, 25, 36, 43, 52]]\n"
     ]
    }
   ],
   "source": [
    "# Adding a list to a list\n",
    "# adding a new list age to the existing employee_list\n",
    "age=[23,25,36,43,52]\n",
    "employee_list.append(age)  ## we can also put [23,25,36,43,52] at place of age\n",
    "print(employee_list)"
   ]
  },
  {
   "cell_type": "code",
   "execution_count": 321,
   "id": "2effef3a",
   "metadata": {},
   "outputs": [
    {
     "name": "stdout",
     "output_type": "stream",
     "text": [
      "[[1, 2, 3, 4, 5], ['Ram', 'Preeti', 'Satish', 'Karan', 'Nirmal'], 5, [23, 25, 36, 43, 52]]\n"
     ]
    }
   ],
   "source": [
    "print(employee_list)"
   ]
  },
  {
   "cell_type": "code",
   "execution_count": 322,
   "id": "55000271",
   "metadata": {},
   "outputs": [
    {
     "name": "stdout",
     "output_type": "stream",
     "text": [
      "[[1, 2, 3, 4, 5], ['Ram', 'Preeti', 'Satish', 'Karan', 'Nirmal'], 5, [23, 25, 36, 43, 52]]\n"
     ]
    }
   ],
   "source": [
    "## insert function\n",
    "# list_name[index].insert(position,object)\n",
    "print(employee_list)  ## existing list"
   ]
  },
  {
   "cell_type": "code",
   "execution_count": 323,
   "id": "4d6e336b",
   "metadata": {},
   "outputs": [
    {
     "name": "stdout",
     "output_type": "stream",
     "text": [
      "[[6, 1, 2, 3, 4, 5], ['Ram', 'Preeti', 'Satish', 'Karan', 'Nirmal'], 5, [23, 25, 36, 43, 52]]\n"
     ]
    }
   ],
   "source": [
    "# Adding number 6 at the first position to the level id from employee_list\n",
    "employee_list[0].insert(0,6)\n",
    "print(employee_list) "
   ]
  },
  {
   "cell_type": "code",
   "execution_count": 324,
   "id": "922be91d",
   "metadata": {},
   "outputs": [
    {
     "name": "stdout",
     "output_type": "stream",
     "text": [
      "[[6, 1, 2, 3, 4, 5], ['Ram', 'Preeti', 'Satish', 'Karan', 'Nirmal'], 5, [23, 25, 36, 43, 52]]\n"
     ]
    }
   ],
   "source": [
    "#  remove element from the list\n",
    " \n",
    "# del-remove the object at the specified index number\n",
    "\n",
    "# syntax- del list_name[index1][index2]\n",
    "\n",
    "# index1-index of top level of componentto be dropped\n",
    "\n",
    "# index2- index of sub level of componentto be dropped\n",
    "\n",
    "print(employee_list)  ## existing list"
   ]
  },
  {
   "cell_type": "code",
   "execution_count": 325,
   "id": "4df5fb43",
   "metadata": {},
   "outputs": [
    {
     "name": "stdout",
     "output_type": "stream",
     "text": [
      "[[6, 1, 2, 3, 4, 5], ['Ram', 'Preeti', 'Satish', 'Karan', 'Nirmal'], 5]\n"
     ]
    }
   ],
   "source": [
    "# drop the last level i.e. age from employee _list\n",
    "del employee_list[3]\n",
    "print(employee_list) "
   ]
  },
  {
   "cell_type": "code",
   "execution_count": 326,
   "id": "1129465d",
   "metadata": {},
   "outputs": [
    {
     "name": "stdout",
     "output_type": "stream",
     "text": [
      "[[6, 1, 2, 3, 4, 5], ['Ram', 'Preeti', 'Satish', 'Karan', 'Nirmal'], 5]\n"
     ]
    }
   ],
   "source": [
    "# by remove function\n",
    "    \n",
    "#syntax- list_name[indec].remove(object)\n",
    "\n",
    "print(employee_list)  ## existing list"
   ]
  },
  {
   "cell_type": "code",
   "execution_count": 327,
   "id": "e54b7692",
   "metadata": {},
   "outputs": [
    {
     "name": "stdout",
     "output_type": "stream",
     "text": [
      "[[6, 1, 2, 3, 4, 5], ['Preeti', 'Satish', 'Karan', 'Nirmal'], 5]\n"
     ]
    }
   ],
   "source": [
    "# remove Ram from the level employee_name from employee_list\n",
    "employee_list[1].remove(\"Ram\")\n",
    "print(employee_list)"
   ]
  },
  {
   "cell_type": "code",
   "execution_count": 328,
   "id": "ddd7870e",
   "metadata": {},
   "outputs": [
    {
     "name": "stdout",
     "output_type": "stream",
     "text": [
      "['High', 'Low', 'Medium', 'Low']\n"
     ]
    }
   ],
   "source": [
    "# consiser another list\n",
    "salary = [\"High\",\"Low\",\"Medium\",\"Low\"]\n",
    "print(salary)"
   ]
  },
  {
   "cell_type": "code",
   "execution_count": 329,
   "id": "227b2b08",
   "metadata": {},
   "outputs": [
    {
     "name": "stdout",
     "output_type": "stream",
     "text": [
      "['High', 'Medium', 'Low']\n"
     ]
    }
   ],
   "source": [
    "salary.remove(\"Low\")\n",
    "print(salary)"
   ]
  },
  {
   "cell_type": "code",
   "execution_count": 330,
   "id": "41e122f1",
   "metadata": {},
   "outputs": [
    {
     "name": "stdout",
     "output_type": "stream",
     "text": [
      "[[6, 1, 2, 3, 4, 5], ['Preeti', 'Satish', 'Karan', 'Nirmal'], 5]\n"
     ]
    }
   ],
   "source": [
    "# Modifying component using pop()\n",
    "\n",
    "# syntax- list_name[index1].pop(index2)\n",
    "\n",
    "print(employee_list)"
   ]
  },
  {
   "cell_type": "code",
   "execution_count": 331,
   "id": "8d072bdf",
   "metadata": {},
   "outputs": [
    {
     "data": {
      "text/plain": [
       "4"
      ]
     },
     "execution_count": 331,
     "metadata": {},
     "output_type": "execute_result"
    }
   ],
   "source": [
    "# removing number 4 from the 5th position of id level from employee_list\n",
    "employee_list[0].pop(4)"
   ]
  },
  {
   "cell_type": "code",
   "execution_count": 332,
   "id": "8e9e8dba",
   "metadata": {},
   "outputs": [
    {
     "name": "stdout",
     "output_type": "stream",
     "text": [
      "[[6, 1, 2, 3, 5], ['Preeti', 'Satish', 'Karan', 'Nirmal'], 5]\n"
     ]
    }
   ],
   "source": [
    "print(employee_list)\n"
   ]
  },
  {
   "cell_type": "markdown",
   "id": "9ad6b4a1",
   "metadata": {},
   "source": [
    "# TUPLES"
   ]
  },
  {
   "cell_type": "code",
   "execution_count": 333,
   "id": "e8b3915c",
   "metadata": {},
   "outputs": [
    {
     "name": "stdout",
     "output_type": "stream",
     "text": [
      "('P001', 'John', 35, 40000)\n"
     ]
    }
   ],
   "source": [
    "# Create tuple with employee id,name,age,salary detail\n",
    "employee_details = ('P001','John',35,40000)\n",
    "print(employee_details)"
   ]
  },
  {
   "cell_type": "code",
   "execution_count": 336,
   "id": "8837a899",
   "metadata": {},
   "outputs": [
    {
     "name": "stdout",
     "output_type": "stream",
     "text": [
      "P001\n"
     ]
    }
   ],
   "source": [
    "# Accessing component of tuple\n",
    "# syntax- tuple_name[index]\n",
    "employee_details[0]   #  to extract id from employee_detail\n",
    "print(employee_details[0])"
   ]
  },
  {
   "cell_type": "code",
   "execution_count": 337,
   "id": "7af435c4",
   "metadata": {},
   "outputs": [
    {
     "name": "stdout",
     "output_type": "stream",
     "text": [
      "40000\n"
     ]
    }
   ],
   "source": [
    "# to extract salary from employee_detail\n",
    "print(employee_details[3])"
   ]
  },
  {
   "cell_type": "code",
   "execution_count": 339,
   "id": "ec8c8940",
   "metadata": {},
   "outputs": [
    {
     "ename": "IndexError",
     "evalue": "tuple index out of range",
     "output_type": "error",
     "traceback": [
      "\u001b[1;31m---------------------------------------------------------------------------\u001b[0m",
      "\u001b[1;31mIndexError\u001b[0m                                Traceback (most recent call last)",
      "\u001b[1;32m~\\AppData\\Local\\Temp\\ipykernel_6060\\608676871.py\u001b[0m in \u001b[0;36m<module>\u001b[1;34m\u001b[0m\n\u001b[1;32m----> 1\u001b[1;33m \u001b[0mprint\u001b[0m\u001b[1;33m(\u001b[0m\u001b[0memployee_details\u001b[0m\u001b[1;33m[\u001b[0m\u001b[1;36m5\u001b[0m\u001b[1;33m]\u001b[0m\u001b[1;33m)\u001b[0m\u001b[1;33m\u001b[0m\u001b[1;33m\u001b[0m\u001b[0m\n\u001b[0m",
      "\u001b[1;31mIndexError\u001b[0m: tuple index out of range"
     ]
    }
   ],
   "source": [
    "print(employee_details[5]) ## here it show error because index ois up to 3"
   ]
  },
  {
   "cell_type": "markdown",
   "id": "d6901587",
   "metadata": {},
   "source": [
    "### Slicing"
   ]
  },
  {
   "cell_type": "code",
   "execution_count": 340,
   "id": "3d88f16d",
   "metadata": {},
   "outputs": [
    {
     "name": "stdout",
     "output_type": "stream",
     "text": [
      "('John', 35)\n"
     ]
    }
   ],
   "source": [
    "# to extract name & age  from employee_detail\n",
    "print(employee_details[1:3])  # here 1 included and 3 excluded"
   ]
  },
  {
   "cell_type": "code",
   "execution_count": 341,
   "id": "845bece7",
   "metadata": {},
   "outputs": [
    {
     "name": "stdout",
     "output_type": "stream",
     "text": [
      "('P001', 'John', 35)\n"
     ]
    }
   ],
   "source": [
    "# to extract id ,name & age  from employee_detail\n",
    "print(employee_details[:3])"
   ]
  },
  {
   "cell_type": "code",
   "execution_count": 344,
   "id": "0307086f",
   "metadata": {},
   "outputs": [
    {
     "ename": "TypeError",
     "evalue": "'int' object is not callable",
     "output_type": "error",
     "traceback": [
      "\u001b[1;31m---------------------------------------------------------------------------\u001b[0m",
      "\u001b[1;31mTypeError\u001b[0m                                 Traceback (most recent call last)",
      "\u001b[1;32m~\\AppData\\Local\\Temp\\ipykernel_6060\\208790391.py\u001b[0m in \u001b[0;36m<module>\u001b[1;34m\u001b[0m\n\u001b[0;32m      2\u001b[0m \u001b[1;31m# Syntax- len(tuple_name)\u001b[0m\u001b[1;33m\u001b[0m\u001b[1;33m\u001b[0m\u001b[0m\n\u001b[0;32m      3\u001b[0m \u001b[1;33m\u001b[0m\u001b[0m\n\u001b[1;32m----> 4\u001b[1;33m \u001b[0mlen\u001b[0m\u001b[1;33m(\u001b[0m\u001b[0memployee_details\u001b[0m\u001b[1;33m)\u001b[0m\u001b[1;33m\u001b[0m\u001b[1;33m\u001b[0m\u001b[0m\n\u001b[0m",
      "\u001b[1;31mTypeError\u001b[0m: 'int' object is not callable"
     ]
    }
   ],
   "source": [
    "## LENGTH OF THE TUPLE\n",
    "# Syntax- len(tuple_name)\n",
    "\n",
    "len(employee_details)"
   ]
  },
  {
   "cell_type": "code",
   "execution_count": 345,
   "id": "ed3285c8",
   "metadata": {},
   "outputs": [],
   "source": [
    "# Finding Minimum & Maximum from the tuple\n",
    "# min(tuple_name),max(tuple_name)"
   ]
  },
  {
   "cell_type": "code",
   "execution_count": 346,
   "id": "81a43cb1",
   "metadata": {},
   "outputs": [],
   "source": [
    "english = (56,85,96,75,12)"
   ]
  },
  {
   "cell_type": "code",
   "execution_count": 348,
   "id": "e833acef",
   "metadata": {},
   "outputs": [
    {
     "data": {
      "text/plain": [
       "12"
      ]
     },
     "execution_count": 348,
     "metadata": {},
     "output_type": "execute_result"
    }
   ],
   "source": [
    "min(english)"
   ]
  },
  {
   "cell_type": "code",
   "execution_count": 349,
   "id": "27841650",
   "metadata": {},
   "outputs": [
    {
     "data": {
      "text/plain": [
       "96"
      ]
     },
     "execution_count": 349,
     "metadata": {},
     "output_type": "execute_result"
    }
   ],
   "source": [
    "max(english)"
   ]
  },
  {
   "cell_type": "code",
   "execution_count": 350,
   "id": "22aff154",
   "metadata": {},
   "outputs": [],
   "source": [
    "# Combining two or more tple\n",
    "# two tuple can be concatenated as (tuple1)+(tuple2)"
   ]
  },
  {
   "cell_type": "code",
   "execution_count": 351,
   "id": "7a6caaee",
   "metadata": {},
   "outputs": [],
   "source": [
    "employee_details2 = ('M.Com','Accounts')"
   ]
  },
  {
   "cell_type": "code",
   "execution_count": 352,
   "id": "6e904b64",
   "metadata": {},
   "outputs": [
    {
     "name": "stdout",
     "output_type": "stream",
     "text": [
      "('P001', 'John', 35, 40000)\n",
      "('M.Com', 'Accounts')\n"
     ]
    }
   ],
   "source": [
    "print(employee_details)  ## tuple1\n",
    "print(employee_details2)  ## tuple2"
   ]
  },
  {
   "cell_type": "code",
   "execution_count": 353,
   "id": "7ada9954",
   "metadata": {},
   "outputs": [
    {
     "name": "stdout",
     "output_type": "stream",
     "text": [
      "('P001', 'John', 35, 40000, 'M.Com', 'Accounts')\n"
     ]
    }
   ],
   "source": [
    "print(employee_details+employee_details2) ## combined two tuple"
   ]
  },
  {
   "cell_type": "code",
   "execution_count": 354,
   "id": "be50c457",
   "metadata": {},
   "outputs": [],
   "source": [
    "## Modifying component of tuple\n",
    "## once tuple be created we cannot be modify"
   ]
  },
  {
   "cell_type": "markdown",
   "id": "3a28f4fd",
   "metadata": {},
   "source": [
    "# Dictionary"
   ]
  },
  {
   "cell_type": "code",
   "execution_count": 1,
   "id": "c53b4632",
   "metadata": {},
   "outputs": [
    {
     "name": "stdout",
     "output_type": "stream",
     "text": [
      "{'Petrol': 1, 'Diesel': 2, 'CNG': 3}\n"
     ]
    }
   ],
   "source": [
    "Fuel_type = { \"Petrol\":1,\"Diesel\":2,\"CNG\":3}\n",
    "print(Fuel_type)"
   ]
  },
  {
   "cell_type": "code",
   "execution_count": 2,
   "id": "76223064",
   "metadata": {},
   "outputs": [
    {
     "name": "stdout",
     "output_type": "stream",
     "text": [
      "1\n"
     ]
    }
   ],
   "source": [
    "print(Fuel_type['Petrol'])"
   ]
  },
  {
   "cell_type": "code",
   "execution_count": 3,
   "id": "f475e8be",
   "metadata": {},
   "outputs": [
    {
     "name": "stdout",
     "output_type": "stream",
     "text": [
      "3\n"
     ]
    }
   ],
   "source": [
    "print(Fuel_type['CNG'])"
   ]
  },
  {
   "cell_type": "code",
   "execution_count": 4,
   "id": "9d9edcfe",
   "metadata": {},
   "outputs": [
    {
     "data": {
      "text/plain": [
       "dict_keys(['Petrol', 'Diesel', 'CNG'])"
      ]
     },
     "execution_count": 4,
     "metadata": {},
     "output_type": "execute_result"
    }
   ],
   "source": [
    "##  to acces the keys from dictionary Fuel_type\n",
    "# syntax - dictionary_name.keys()\n",
    "\n",
    "Fuel_type.keys()"
   ]
  },
  {
   "cell_type": "code",
   "execution_count": 5,
   "id": "fa74b547",
   "metadata": {},
   "outputs": [
    {
     "data": {
      "text/plain": [
       "dict_values([1, 2, 3])"
      ]
     },
     "execution_count": 5,
     "metadata": {},
     "output_type": "execute_result"
    }
   ],
   "source": [
    "##  to acces the values from dictionary Fuel_type\n",
    "# syntax - dictionary_name.values()\n",
    "Fuel_type.values()"
   ]
  },
  {
   "cell_type": "code",
   "execution_count": 6,
   "id": "49b9c9ff",
   "metadata": {},
   "outputs": [
    {
     "data": {
      "text/plain": [
       "dict_items([('Petrol', 1), ('Diesel', 2), ('CNG', 3)])"
      ]
     },
     "execution_count": 6,
     "metadata": {},
     "output_type": "execute_result"
    }
   ],
   "source": [
    "##  to acces both keys and values simultaneously from dictionary Fuel_type\n",
    "# syntax - dictionary_name.items()\n",
    "Fuel_type.items()"
   ]
  },
  {
   "cell_type": "code",
   "execution_count": 7,
   "id": "41f4a85e",
   "metadata": {},
   "outputs": [],
   "source": [
    "# Modifying a dictionary\n",
    "# Adding new key value pair to the existing dictionary Fuel_type\n",
    "# syntax - dictionary_name[key]=value\n",
    "Fuel_type['electric']=4"
   ]
  },
  {
   "cell_type": "code",
   "execution_count": 8,
   "id": "e45c8bc6",
   "metadata": {},
   "outputs": [
    {
     "name": "stdout",
     "output_type": "stream",
     "text": [
      "{'Petrol': 1, 'Diesel': 2, 'CNG': 3, 'electric': 4}\n"
     ]
    }
   ],
   "source": [
    "print(Fuel_type)"
   ]
  },
  {
   "cell_type": "code",
   "execution_count": 9,
   "id": "c1515f1f",
   "metadata": {},
   "outputs": [
    {
     "name": "stdout",
     "output_type": "stream",
     "text": [
      "{'Petrol': 1, 'Diesel': 2, 'CNG': 3, 'electric': 4, 'solar': 5}\n"
     ]
    }
   ],
   "source": [
    "# USING INBUILT FUNCTION update()\n",
    "# syntax - dictionary_name.update({key:value})\n",
    "Fuel_type.update({'solar':5})\n",
    "print(Fuel_type)"
   ]
  },
  {
   "cell_type": "code",
   "execution_count": 10,
   "id": "b6f2037e",
   "metadata": {},
   "outputs": [
    {
     "name": "stdout",
     "output_type": "stream",
     "text": [
      "{'Petrol': 1, 'Diesel': 2, 'CNG': 7, 'electric': 4, 'solar': 5}\n"
     ]
    }
   ],
   "source": [
    "# modifying the value of an existing key\n",
    "Fuel_type['CNG']=7\n",
    "print(Fuel_type)"
   ]
  },
  {
   "cell_type": "code",
   "execution_count": 11,
   "id": "f4d630ac",
   "metadata": {},
   "outputs": [],
   "source": [
    "# how to remove component of dictionary usinf del()\n",
    "# syntax- del dictionary_name[key]\n",
    "# Dropping solar from Fuel_type\n",
    "del Fuel_type['solar']"
   ]
  },
  {
   "cell_type": "code",
   "execution_count": 12,
   "id": "bf3e0885",
   "metadata": {},
   "outputs": [
    {
     "name": "stdout",
     "output_type": "stream",
     "text": [
      "{'Petrol': 1, 'Diesel': 2, 'CNG': 7, 'electric': 4}\n"
     ]
    }
   ],
   "source": [
    "print(Fuel_type)"
   ]
  },
  {
   "cell_type": "code",
   "execution_count": 13,
   "id": "68596a30",
   "metadata": {},
   "outputs": [],
   "source": [
    "## using clear()\n",
    "# clear()- remove all the key value pairs\n",
    "# syntax- dictionary_name.clear()\n",
    "Fuel_type.clear()"
   ]
  },
  {
   "cell_type": "code",
   "execution_count": 14,
   "id": "58f7fcef",
   "metadata": {},
   "outputs": [
    {
     "name": "stdout",
     "output_type": "stream",
     "text": [
      "{}\n"
     ]
    }
   ],
   "source": [
    "print(Fuel_type)   ## it give null dictionary"
   ]
  },
  {
   "cell_type": "markdown",
   "id": "1db0545a",
   "metadata": {},
   "source": [
    "# Sets"
   ]
  },
  {
   "cell_type": "code",
   "execution_count": 15,
   "id": "edc605da",
   "metadata": {},
   "outputs": [
    {
     "name": "stdout",
     "output_type": "stream",
     "text": [
      "{56, 41, 52, 63}\n"
     ]
    }
   ],
   "source": [
    "age = {56,52,41,63,41} ## set does not hold duplicate items\n",
    "print(age)              ## so only single 41 will appear"
   ]
  },
  {
   "cell_type": "code",
   "execution_count": 16,
   "id": "db41c9cc",
   "metadata": {},
   "outputs": [
    {
     "name": "stdout",
     "output_type": "stream",
     "text": [
      "{'Nirmal', 'Satish', 'John', 'Preeti', 'Ram'}\n"
     ]
    }
   ],
   "source": [
    "employee_name = {'Ram', 'Preeti', 'Satish', 'John', 'Nirmal'}\n",
    "print(employee_name)  ## order will not be same,it is an unordered set"
   ]
  },
  {
   "cell_type": "code",
   "execution_count": 18,
   "id": "defbf8e6",
   "metadata": {},
   "outputs": [
    {
     "name": "stdout",
     "output_type": "stream",
     "text": [
      "{'Nirmal', 'Satish', 'Ganesh', 'John', 'Preeti', 'Ram'}\n"
     ]
    }
   ],
   "source": [
    "# Modify set using add()\n",
    "# Syntax- set_name.add(object)\n",
    "employee_name.add('Ganesh')\n",
    "print(employee_name)"
   ]
  },
  {
   "cell_type": "code",
   "execution_count": 19,
   "id": "fe99e1b6",
   "metadata": {},
   "outputs": [
    {
     "name": "stdout",
     "output_type": "stream",
     "text": [
      "{'Nirmal', 'Satish', 'Ganesh', 'Preeti', 'Ram'}\n"
     ]
    }
   ],
   "source": [
    "# remove element from existing sets using discard()\n",
    "# discard()- remove matching object from existing set\n",
    "# syntax - set_name.discard(object)\n",
    "employee_name.discard(\"John\")\n",
    "print(employee_name)"
   ]
  },
  {
   "cell_type": "code",
   "execution_count": 20,
   "id": "11c5c64c",
   "metadata": {},
   "outputs": [
    {
     "name": "stdout",
     "output_type": "stream",
     "text": [
      "set()\n"
     ]
    }
   ],
   "source": [
    "# Modify using clear()\n",
    "# clear()-removes all the elements from the existing set\n",
    "# syntax - set_names.clear()\n",
    "employee_name.clear()\n",
    "print(employee_name)  # it gives null sets"
   ]
  },
  {
   "cell_type": "markdown",
   "id": "8d80f435",
   "metadata": {},
   "source": [
    "### Set operations"
   ]
  },
  {
   "cell_type": "code",
   "execution_count": 21,
   "id": "6dce27e1",
   "metadata": {},
   "outputs": [],
   "source": [
    "Junior_datascientist = {\"R\",\"Python\",\"Tableau\"}\n",
    "Datascientist = {\"R\",\"Python\",\"Scala\",\"Java\",\"Tableau\"}"
   ]
  },
  {
   "cell_type": "code",
   "execution_count": 23,
   "id": "6b340ad5",
   "metadata": {},
   "outputs": [
    {
     "name": "stdout",
     "output_type": "stream",
     "text": [
      "{'R', 'Python', 'Tableau'}\n",
      "{'Tableau', 'R', 'Python', 'Java', 'Scala'}\n"
     ]
    }
   ],
   "source": [
    "print(Junior_datascientist)\n",
    "print(Datascientist)"
   ]
  },
  {
   "cell_type": "code",
   "execution_count": 24,
   "id": "1708a54d",
   "metadata": {},
   "outputs": [
    {
     "data": {
      "text/plain": [
       "{'Java', 'Python', 'R', 'Scala', 'Tableau'}"
      ]
     },
     "execution_count": 24,
     "metadata": {},
     "output_type": "execute_result"
    }
   ],
   "source": [
    "# SET UNION\n",
    "# union()-returns all elements belonging to both set A and B\n",
    "# SYNTAX: set_A.union(set_B)\n",
    "Junior_datascientist.union(Datascientist )"
   ]
  },
  {
   "cell_type": "code",
   "execution_count": 25,
   "id": "0d5af86f",
   "metadata": {},
   "outputs": [
    {
     "name": "stdout",
     "output_type": "stream",
     "text": [
      "{'R', 'Python', 'Tableau'}\n"
     ]
    }
   ],
   "source": [
    "# SET INTERSECTION\n",
    "# intersection()-returns  elements common to both  A and B\n",
    "# SYNTAX: set_A.intersection(set_B)\n",
    "intersection=Junior_datascientist.intersection(Datascientist )\n",
    "print(intersection)"
   ]
  },
  {
   "cell_type": "code",
   "execution_count": 26,
   "id": "0f7ddac7",
   "metadata": {},
   "outputs": [
    {
     "name": "stdout",
     "output_type": "stream",
     "text": [
      "set()\n"
     ]
    }
   ],
   "source": [
    "# SET DIFFERENCE\n",
    "# difference()-returns elements belongaging to A but not B\n",
    "# SYNTAX: set_A.difference(set_B)\n",
    "diff = Junior_datascientist.difference(Datascientist)\n",
    "print(diff)"
   ]
  },
  {
   "cell_type": "code",
   "execution_count": 27,
   "id": "bba1263f",
   "metadata": {},
   "outputs": [
    {
     "name": "stdout",
     "output_type": "stream",
     "text": [
      "{'Java', 'Scala'}\n"
     ]
    }
   ],
   "source": [
    "# Symmetric difference\n",
    "# symmetric_difference()- returns elements not common to both sets\n",
    "# SYNTAX: set_A.symmetric_difference(set_B)\n",
    "symm_diff = Junior_datascientist.symmetric_difference(Datascientist)\n",
    "print(symm_diff)"
   ]
  },
  {
   "cell_type": "markdown",
   "id": "7201d14b",
   "metadata": {},
   "source": [
    "# NumPy"
   ]
  },
  {
   "cell_type": "code",
   "execution_count": 28,
   "id": "fa660b46",
   "metadata": {},
   "outputs": [],
   "source": [
    "import numpy as np"
   ]
  },
  {
   "cell_type": "code",
   "execution_count": 29,
   "id": "63a9812d",
   "metadata": {},
   "outputs": [
    {
     "name": "stdout",
     "output_type": "stream",
     "text": [
      "<class 'numpy.ndarray'>\n"
     ]
    }
   ],
   "source": [
    "x = np.array([2,3,4,5])\n",
    "print(type(x))"
   ]
  },
  {
   "cell_type": "code",
   "execution_count": 30,
   "id": "4dea2b6c",
   "metadata": {},
   "outputs": [
    {
     "name": "stdout",
     "output_type": "stream",
     "text": [
      "[2 3 4 5]\n"
     ]
    }
   ],
   "source": [
    "print(x)"
   ]
  },
  {
   "cell_type": "code",
   "execution_count": 32,
   "id": "2f9ee162",
   "metadata": {},
   "outputs": [
    {
     "name": "stdout",
     "output_type": "stream",
     "text": [
      "['2' '3' 'n' '5']\n",
      "<class 'numpy.ndarray'>\n"
     ]
    }
   ],
   "source": [
    "x=np.array([2,3,'n',5])\n",
    "print(x)\n",
    "print(type(x))"
   ]
  },
  {
   "cell_type": "code",
   "execution_count": 33,
   "id": "1d2a950c",
   "metadata": {},
   "outputs": [
    {
     "name": "stdout",
     "output_type": "stream",
     "text": [
      "[1.         1.44444444 1.88888889 2.33333333 2.77777778 3.22222222\n",
      " 3.66666667 4.11111111 4.55555556 5.        ]\n"
     ]
    }
   ],
   "source": [
    "# Generating arrays by linspace()\n",
    "=the sample number\n",
    "# Syntax: numpy.linspace(start,stop,num,dtype,retstep)\n",
    "# start:- start of interval range\n",
    "# stop:- end of interval range\n",
    "# num:-  number od sample to generated\n",
    "# dtype:- type of output array\n",
    "# retstep:- return the sample,step value\n",
    "\n",
    "b = np.linspace(start=1, stop=5, num=10, endpoint=True, retstep=False) \n",
    "print(b)\n",
    "# endpoint means we want to include last value or not\n",
    "# retstep False means it returns only samle and not the increment value # means it is for size interval"
   ]
  },
  {
   "cell_type": "code",
   "execution_count": 34,
   "id": "7a12032c",
   "metadata": {},
   "outputs": [
    {
     "name": "stdout",
     "output_type": "stream",
     "text": [
      "(array([1.        , 1.44444444, 1.88888889, 2.33333333, 2.77777778,\n",
      "       3.22222222, 3.66666667, 4.11111111, 4.55555556, 5.        ]), 0.4444444444444444)\n"
     ]
    }
   ],
   "source": [
    "c = np.linspace(start=1, stop=5, num=10, endpoint=True, retstep=True) \n",
    "print(c)"
   ]
  },
  {
   "cell_type": "code",
   "execution_count": 36,
   "id": "4e70a567",
   "metadata": {},
   "outputs": [
    {
     "name": "stdout",
     "output_type": "stream",
     "text": [
      "[1 3 5 7 9]\n"
     ]
    }
   ],
   "source": [
    "# GENERATING arrays using arange()\n",
    "# numpy.arange()-returns equally spaced numbers with in the given range based on \n",
    "# Syntax: numpy.arange(start,stop,step)\n",
    "d = np.arange(start =1,stop=10,step=2)\n",
    "print(d)"
   ]
  },
  {
   "cell_type": "code",
   "execution_count": 42,
   "id": "fc0ec82d",
   "metadata": {},
   "outputs": [
    {
     "data": {
      "text/plain": [
       "array([[1., 1., 1., 1.],\n",
       "       [1., 1., 1., 1.],\n",
       "       [1., 1., 1., 1.]])"
      ]
     },
     "execution_count": 42,
     "metadata": {},
     "output_type": "execute_result"
    }
   ],
   "source": [
    "# GENERATING arrays using ones()\n",
    "# numpy.ones()- returns an array of given shape and type filled with ones\n",
    "# Syntax:- numpy.ones(shape,dtype)\n",
    "# dtype:- data type(default:float)\n",
    "np.ones((3,4))"
   ]
  },
  {
   "cell_type": "code",
   "execution_count": 43,
   "id": "93532437",
   "metadata": {},
   "outputs": [
    {
     "data": {
      "text/plain": [
       "array([[1, 1, 1, 1],\n",
       "       [1, 1, 1, 1],\n",
       "       [1, 1, 1, 1]])"
      ]
     },
     "execution_count": 43,
     "metadata": {},
     "output_type": "execute_result"
    }
   ],
   "source": [
    "np.ones((3,4),int)"
   ]
  },
  {
   "cell_type": "code",
   "execution_count": 41,
   "id": "50f8a3e0",
   "metadata": {},
   "outputs": [
    {
     "data": {
      "text/plain": [
       "array([[0., 0., 0., 0.],\n",
       "       [0., 0., 0., 0.],\n",
       "       [0., 0., 0., 0.]])"
      ]
     },
     "execution_count": 41,
     "metadata": {},
     "output_type": "execute_result"
    }
   ],
   "source": [
    "# GENERATING arrays using zeros()\n",
    "# numpy.zeros()- returns an array of given shape and type filled with zeros\n",
    "# Syntax:- numpy.zeros(shape,dtype)\n",
    "# dtype:- data type(default:float)\n",
    "np.zeros((3,4))"
   ]
  },
  {
   "cell_type": "code",
   "execution_count": 45,
   "id": "def8d9ce",
   "metadata": {},
   "outputs": [
    {
     "data": {
      "text/plain": [
       "array([[0, 0, 0, 0],\n",
       "       [0, 0, 0, 0],\n",
       "       [0, 0, 0, 0]])"
      ]
     },
     "execution_count": 45,
     "metadata": {},
     "output_type": "execute_result"
    }
   ],
   "source": [
    "np.zeros((3,4),int)"
   ]
  },
  {
   "cell_type": "code",
   "execution_count": 48,
   "id": "cf2c61aa",
   "metadata": {},
   "outputs": [
    {
     "data": {
      "text/plain": [
       "array([0.71955118, 0.13575601, 0.03528738, 0.6924016 , 0.32942186])"
      ]
     },
     "execution_count": 48,
     "metadata": {},
     "output_type": "execute_result"
    }
   ],
   "source": [
    "# GENERATING arrays using random.rand()\n",
    "# numpy.random.rand()- returns an array of given shape filled with random values\n",
    "#Syntax:- numpy.random.rand(shape)\n",
    "np.random.rand(5)"
   ]
  },
  {
   "cell_type": "code",
   "execution_count": 49,
   "id": "1d79ffc9",
   "metadata": {},
   "outputs": [
    {
     "data": {
      "text/plain": [
       "array([[0.46096721, 0.53376635],\n",
       "       [0.15761812, 0.74463835],\n",
       "       [0.16042154, 0.22299968],\n",
       "       [0.77818218, 0.82752143],\n",
       "       [0.95991767, 0.86281427]])"
      ]
     },
     "execution_count": 49,
     "metadata": {},
     "output_type": "execute_result"
    }
   ],
   "source": [
    "np.random.rand(5,2) # RANDOM VALUE WITH 5 ROWS AND 2 COLOUMN"
   ]
  },
  {
   "cell_type": "code",
   "execution_count": 50,
   "id": "5a11aa6b",
   "metadata": {},
   "outputs": [
    {
     "data": {
      "text/plain": [
       "array([1.00000000e+01, 1.77827941e+03, 3.16227766e+05, 5.62341325e+07,\n",
       "       1.00000000e+10])"
      ]
     },
     "execution_count": 50,
     "metadata": {},
     "output_type": "execute_result"
    }
   ],
   "source": [
    "# GENERATING arrays using logspace()\n",
    "# numpy.logspace()- returns equally spaced number based on log scale\n",
    "# Syntax:- numpy.logspace(start,stop,num,endpoint,base,dtype)\n",
    "# start:- start value of the sequence\n",
    "# stop:- end value of the sequence\n",
    "# num:- number of sample to generate (default:50)\n",
    "# endpoint:- if True, stop is the last number\n",
    "# Base:- base on log space(default:10.0)\n",
    "# dtype:- type of output array\n",
    "np.logspace(1,10,num=5,endpoint=True,base=10.0)"
   ]
  },
  {
   "cell_type": "markdown",
   "id": "508cd550",
   "metadata": {},
   "source": [
    "### Advantage of numpy"
   ]
  },
  {
   "cell_type": "markdown",
   "id": "5a2e6c01",
   "metadata": {},
   "source": [
    "1ST TIMING"
   ]
  },
  {
   "cell_type": "code",
   "execution_count": 52,
   "id": "8f36aec7",
   "metadata": {},
   "outputs": [],
   "source": [
    "# Creating a list\n",
    "x = range(1000)\n"
   ]
  },
  {
   "cell_type": "code",
   "execution_count": 54,
   "id": "146473dd",
   "metadata": {},
   "outputs": [
    {
     "name": "stdout",
     "output_type": "stream",
     "text": [
      "43.4 µs ± 383 ns per loop (mean ± std. dev. of 7 runs, 10000 loops each)\n"
     ]
    }
   ],
   "source": [
    "timeit sum(x)"
   ]
  },
  {
   "cell_type": "code",
   "execution_count": 55,
   "id": "534ca484",
   "metadata": {},
   "outputs": [],
   "source": [
    "# Creating numpy array\n",
    "y=np.array(x)"
   ]
  },
  {
   "cell_type": "code",
   "execution_count": 57,
   "id": "7e8ef6a0",
   "metadata": {},
   "outputs": [
    {
     "name": "stdout",
     "output_type": "stream",
     "text": [
      "216 µs ± 16.3 µs per loop (mean ± std. dev. of 7 runs, 1000 loops each)\n"
     ]
    }
   ],
   "source": [
    "timeit sum(y)"
   ]
  },
  {
   "cell_type": "markdown",
   "id": "ca92fda5",
   "metadata": {},
   "source": [
    "2ND STORAGE"
   ]
  },
  {
   "cell_type": "code",
   "execution_count": 58,
   "id": "dc2cf8c4",
   "metadata": {},
   "outputs": [],
   "source": [
    "# getsizeof()- returns the size of the object in bytes\n",
    "# Syntax: sys.getsizeof(object)\n",
    "\n",
    "# itemsize- returns the size of one element of a numpy array\n",
    "# Syntax:- numpy.ndarray.itemsize"
   ]
  },
  {
   "cell_type": "code",
   "execution_count": 59,
   "id": "c009c366",
   "metadata": {},
   "outputs": [],
   "source": [
    "import sys"
   ]
  },
  {
   "cell_type": "code",
   "execution_count": 60,
   "id": "2b4ca062",
   "metadata": {},
   "outputs": [
    {
     "data": {
      "text/plain": [
       "28000"
      ]
     },
     "execution_count": 60,
     "metadata": {},
     "output_type": "execute_result"
    }
   ],
   "source": [
    "sys.getsizeof(1) * len(x)"
   ]
  },
  {
   "cell_type": "code",
   "execution_count": 61,
   "id": "97e29d32",
   "metadata": {},
   "outputs": [
    {
     "data": {
      "text/plain": [
       "4000"
      ]
     },
     "execution_count": 61,
     "metadata": {},
     "output_type": "execute_result"
    }
   ],
   "source": [
    "y.itemsize * y.size"
   ]
  },
  {
   "cell_type": "markdown",
   "id": "84ce3903",
   "metadata": {},
   "source": [
    "## Reshaping an array"
   ]
  },
  {
   "cell_type": "code",
   "execution_count": 65,
   "id": "f30bce2f",
   "metadata": {},
   "outputs": [
    {
     "name": "stdout",
     "output_type": "stream",
     "text": [
      "[[1 2 3]\n",
      " [4 5 6]\n",
      " [7 8 9]]\n",
      "[[1 2 3 4 5 6 7 8 9]]\n"
     ]
    }
   ],
   "source": [
    "# reshape()- recasts an array to new shape without changing its data\n",
    "grid = np.arange(start=1,stop=10).reshape(3,3)\n",
    "print(grid)\n",
    "grid1 = np.arange(start=1,stop=10).reshape(1,9)\n",
    "print(grid1)"
   ]
  },
  {
   "cell_type": "code",
   "execution_count": 67,
   "id": "91e6961d",
   "metadata": {},
   "outputs": [
    {
     "name": "stdout",
     "output_type": "stream",
     "text": [
      "[[1 2 3]\n",
      " [4 5 6]\n",
      " [7 8 9]]\n"
     ]
    }
   ],
   "source": [
    "# Array Dimension\n",
    "\n",
    "a = np.array([[1,2,3],[4,5,6],[7,8,9]])\n",
    "print(a)\n"
   ]
  },
  {
   "cell_type": "code",
   "execution_count": 69,
   "id": "1fb28147",
   "metadata": {},
   "outputs": [
    {
     "data": {
      "text/plain": [
       "(3, 3)"
      ]
     },
     "execution_count": 69,
     "metadata": {},
     "output_type": "execute_result"
    }
   ],
   "source": [
    "## shape()- returns dimension of an array\n",
    "## Syntax:- array_name.shape\n",
    "\n",
    "a.shape"
   ]
  },
  {
   "cell_type": "code",
   "execution_count": 70,
   "id": "2eb18f38",
   "metadata": {},
   "outputs": [],
   "source": [
    "# Numpy Addition\n",
    "\n",
    "# numpy.add()- perform element wise addition between two array\n",
    "# Syndax: numpy.add(array_1,array_2)"
   ]
  },
  {
   "cell_type": "code",
   "execution_count": 71,
   "id": "8582c35f",
   "metadata": {},
   "outputs": [],
   "source": [
    "a = np.array([[1,2,3],[4,5,6],[7,8,9]])\n",
    "b = np.arange(start=11,stop=20).reshape(3,3)"
   ]
  },
  {
   "cell_type": "code",
   "execution_count": 72,
   "id": "43fb2462",
   "metadata": {},
   "outputs": [
    {
     "name": "stdout",
     "output_type": "stream",
     "text": [
      "[[1 2 3]\n",
      " [4 5 6]\n",
      " [7 8 9]] [[11 12 13]\n",
      " [14 15 16]\n",
      " [17 18 19]]\n"
     ]
    }
   ],
   "source": [
    "print(a,b)"
   ]
  },
  {
   "cell_type": "code",
   "execution_count": 73,
   "id": "918a9823",
   "metadata": {},
   "outputs": [
    {
     "data": {
      "text/plain": [
       "array([[12, 14, 16],\n",
       "       [18, 20, 22],\n",
       "       [24, 26, 28]])"
      ]
     },
     "execution_count": 73,
     "metadata": {},
     "output_type": "execute_result"
    }
   ],
   "source": [
    "np.add(a,b)"
   ]
  },
  {
   "cell_type": "code",
   "execution_count": 75,
   "id": "1384af96",
   "metadata": {},
   "outputs": [
    {
     "data": {
      "text/plain": [
       "array([[ 11,  24,  39],\n",
       "       [ 56,  75,  96],\n",
       "       [119, 144, 171]])"
      ]
     },
     "execution_count": 75,
     "metadata": {},
     "output_type": "execute_result"
    }
   ],
   "source": [
    "# Numpy multipication\n",
    "# numpy.multiply()- perform element wise multiplication between two array\n",
    "# Syndax: numpy.multiply(array_1,array_2)\n",
    "np.multiply(a,b)"
   ]
  },
  {
   "cell_type": "code",
   "execution_count": 76,
   "id": "69511832",
   "metadata": {},
   "outputs": [],
   "source": [
    "# Other numpy function\n",
    "\n",
    "# numpy.subtract()\n",
    "# numpy.divide()\n",
    "# numpy.remainder()"
   ]
  },
  {
   "cell_type": "code",
   "execution_count": 77,
   "id": "b1e4fd47",
   "metadata": {},
   "outputs": [
    {
     "name": "stdout",
     "output_type": "stream",
     "text": [
      "[[1 2 3]\n",
      " [4 5 6]\n",
      " [7 8 9]]\n"
     ]
    }
   ],
   "source": [
    "# Accessing component of an array\n",
    "print(a)"
   ]
  },
  {
   "cell_type": "code",
   "execution_count": 78,
   "id": "01d0a733",
   "metadata": {},
   "outputs": [
    {
     "data": {
      "text/plain": [
       "2"
      ]
     },
     "execution_count": 78,
     "metadata": {},
     "output_type": "execute_result"
    }
   ],
   "source": [
    "# we want to extract element of array frow 1st row and 2nd coloum  #(0,1)\n",
    "a[0,1]"
   ]
  },
  {
   "cell_type": "code",
   "execution_count": 80,
   "id": "6386a2fa",
   "metadata": {},
   "outputs": [
    {
     "data": {
      "text/plain": [
       "9"
      ]
     },
     "execution_count": 80,
     "metadata": {},
     "output_type": "execute_result"
    }
   ],
   "source": [
    "a[2,2]"
   ]
  },
  {
   "cell_type": "code",
   "execution_count": 81,
   "id": "ea04efb9",
   "metadata": {},
   "outputs": [
    {
     "data": {
      "text/plain": [
       "array([[4, 5, 6],\n",
       "       [7, 8, 9]])"
      ]
     },
     "execution_count": 81,
     "metadata": {},
     "output_type": "execute_result"
    }
   ],
   "source": [
    "# extract element from 2nd and 3rd row of array a\n",
    "a[1:3]"
   ]
  },
  {
   "cell_type": "code",
   "execution_count": 82,
   "id": "d9dcbb1a",
   "metadata": {},
   "outputs": [
    {
     "data": {
      "text/plain": [
       "array([1, 4, 7])"
      ]
     },
     "execution_count": 82,
     "metadata": {},
     "output_type": "execute_result"
    }
   ],
   "source": [
    "#extract element from first column of aaray a\n",
    "a[:,0]"
   ]
  },
  {
   "cell_type": "code",
   "execution_count": 83,
   "id": "dc6e9646",
   "metadata": {},
   "outputs": [
    {
     "data": {
      "text/plain": [
       "array([3, 6, 9])"
      ]
     },
     "execution_count": 83,
     "metadata": {},
     "output_type": "execute_result"
    }
   ],
   "source": [
    "a[:,2]"
   ]
  },
  {
   "cell_type": "code",
   "execution_count": 84,
   "id": "f120f4b2",
   "metadata": {},
   "outputs": [
    {
     "data": {
      "text/plain": [
       "array([1, 2, 3])"
      ]
     },
     "execution_count": 84,
     "metadata": {},
     "output_type": "execute_result"
    }
   ],
   "source": [
    "# extract element from first row of arraw a\n",
    "a[0,:]"
   ]
  },
  {
   "cell_type": "markdown",
   "id": "dd265fa2",
   "metadata": {},
   "source": [
    "## Subset of arrays"
   ]
  },
  {
   "cell_type": "code",
   "execution_count": 85,
   "id": "5768e46b",
   "metadata": {},
   "outputs": [
    {
     "name": "stdout",
     "output_type": "stream",
     "text": [
      "[[1 2 3]\n",
      " [4 5 6]\n",
      " [7 8 9]]\n"
     ]
    }
   ],
   "source": [
    "print(a)"
   ]
  },
  {
   "cell_type": "code",
   "execution_count": 86,
   "id": "fdcaa4ee",
   "metadata": {},
   "outputs": [
    {
     "name": "stdout",
     "output_type": "stream",
     "text": [
      "[[1 2]\n",
      " [4 5]]\n"
     ]
    }
   ],
   "source": [
    "# subset of 2x2 array from the original array a\n",
    "a_sub= a[:2,:2]\n",
    "print(a_sub)"
   ]
  },
  {
   "cell_type": "code",
   "execution_count": 87,
   "id": "b8254875",
   "metadata": {},
   "outputs": [
    {
     "name": "stdout",
     "output_type": "stream",
     "text": [
      "[[12  2]\n",
      " [ 4  5]]\n"
     ]
    }
   ],
   "source": [
    "# here value of 1 should be update to 12\n",
    "a_sub[0,0]=12\n",
    "print(a_sub)"
   ]
  },
  {
   "cell_type": "code",
   "execution_count": 88,
   "id": "a0974a48",
   "metadata": {},
   "outputs": [
    {
     "name": "stdout",
     "output_type": "stream",
     "text": [
      "[[12  2  3]\n",
      " [ 4  5  6]\n",
      " [ 7  8  9]]\n"
     ]
    }
   ],
   "source": [
    "# Modifying the subset will automatically update the original array as well\n",
    "print(a)"
   ]
  },
  {
   "cell_type": "code",
   "execution_count": 89,
   "id": "d2a2c6b1",
   "metadata": {},
   "outputs": [
    {
     "data": {
      "text/plain": [
       "array([[12,  4,  7],\n",
       "       [ 2,  5,  8],\n",
       "       [ 3,  6,  9]])"
      ]
     },
     "execution_count": 89,
     "metadata": {},
     "output_type": "execute_result"
    }
   ],
   "source": [
    "# MODIFYING ARRAY USING transpose()\n",
    "# numpy.transpose()- permutethe dimension of array\n",
    "# Syntax:- numpy.transpose(array)\n",
    "np.transpose(a)"
   ]
  },
  {
   "cell_type": "code",
   "execution_count": 90,
   "id": "99462db2",
   "metadata": {},
   "outputs": [],
   "source": [
    "# append()- adds values at the end of the array\n",
    "# Syntax:- numpy.append(array,axis)"
   ]
  },
  {
   "cell_type": "code",
   "execution_count": 91,
   "id": "336cb626",
   "metadata": {},
   "outputs": [
    {
     "name": "stdout",
     "output_type": "stream",
     "text": [
      "[[12  2  3]\n",
      " [ 4  5  6]\n",
      " [ 7  8  9]\n",
      " [10 11 14]]\n"
     ]
    }
   ],
   "source": [
    "# Adding the new array to 'a' as a row\n",
    "a_row = np.append(a,[[10,11,14]],axis=0)\n",
    "print(a_row)"
   ]
  },
  {
   "cell_type": "code",
   "execution_count": 94,
   "id": "83e8fdf0",
   "metadata": {},
   "outputs": [
    {
     "name": "stdout",
     "output_type": "stream",
     "text": [
      "[[21]\n",
      " [22]\n",
      " [23]]\n"
     ]
    }
   ],
   "source": [
    "# Adding the new array to 'a' as a row\n",
    "col = np.array([21,22,23]).reshape(3,1)\n",
    "print(col)"
   ]
  },
  {
   "cell_type": "code",
   "execution_count": 95,
   "id": "507f3ac2",
   "metadata": {},
   "outputs": [
    {
     "name": "stdout",
     "output_type": "stream",
     "text": [
      "[[12  2  3 21]\n",
      " [ 4  5  6 22]\n",
      " [ 7  8  9 23]]\n"
     ]
    }
   ],
   "source": [
    "a_col = np.append(a,col,axis=1)\n",
    "print(a_col)"
   ]
  },
  {
   "cell_type": "code",
   "execution_count": 97,
   "id": "7e48a602",
   "metadata": {},
   "outputs": [
    {
     "name": "stdout",
     "output_type": "stream",
     "text": [
      "[[12  2  3]\n",
      " [ 4  5  6]\n",
      " [ 7  8  9]]\n"
     ]
    }
   ],
   "source": [
    "## insert()- adds values at a given position and axis in an array\n",
    "# Syntax:- numpy.insert(array,obj,values,axis)\n",
    "# array:- inpur array\n",
    "# obj:- index position\n",
    "# values:- array of values to be inserted\n",
    "# axis:- axis along which values should be insert\n",
    "\n",
    "print(a)"
   ]
  },
  {
   "cell_type": "code",
   "execution_count": 98,
   "id": "c0a02c47",
   "metadata": {},
   "outputs": [
    {
     "name": "stdout",
     "output_type": "stream",
     "text": [
      "[[12  2  3]\n",
      " [13 15 16]\n",
      " [ 4  5  6]\n",
      " [ 7  8  9]]\n"
     ]
    }
   ],
   "source": [
    "# insert new array along row and at the 1st index position\n",
    "a_ins = np.insert(a,1,[13,15,16],axis=0)\n",
    "print(a_ins)"
   ]
  },
  {
   "cell_type": "code",
   "execution_count": 99,
   "id": "74bbc83e",
   "metadata": {},
   "outputs": [],
   "source": [
    "# delete() - removes values at a given position and axis in an array\n",
    "# Syntax:- numpy.delete(array,obj,axis)\n",
    "# array:- inpur array\n",
    "# obj:- indicate array to be removed or it's position\n"
   ]
  },
  {
   "cell_type": "code",
   "execution_count": 100,
   "id": "eca8dd40",
   "metadata": {},
   "outputs": [
    {
     "name": "stdout",
     "output_type": "stream",
     "text": [
      "[[12  2  3]\n",
      " [13 15 16]\n",
      " [ 7  8  9]]\n"
     ]
    }
   ],
   "source": [
    "# delete 3 row from the existing array _ins\n",
    "a_del = np.delete(a_ins,2,axis=0)\n",
    "print(a_del)"
   ]
  },
  {
   "cell_type": "markdown",
   "id": "5423aa74",
   "metadata": {},
   "source": [
    "# Matrix"
   ]
  },
  {
   "cell_type": "code",
   "execution_count": 22,
   "id": "702cb81e",
   "metadata": {},
   "outputs": [
    {
     "name": "stdout",
     "output_type": "stream",
     "text": [
      "[[ 1  2  3  4]\n",
      " [ 4  5  6  7]\n",
      " [ 7  8  9 10]]\n"
     ]
    }
   ],
   "source": [
    "# Create a matrix\n",
    "# matrix() - returns a matrix from an array type object or string of data\n",
    "# Syntax- numpy.matrix(data)\n",
    "\n",
    "import numpy as np\n",
    "a = np.matrix(\"1,2,3,4;4,5,6,7;7,8,9,10\")\n",
    "print(a)"
   ]
  },
  {
   "cell_type": "markdown",
   "id": "9e883e41",
   "metadata": {},
   "source": [
    "### Matrix property"
   ]
  },
  {
   "cell_type": "code",
   "execution_count": 23,
   "id": "7bc1feb8",
   "metadata": {},
   "outputs": [
    {
     "data": {
      "text/plain": [
       "(3, 4)"
      ]
     },
     "execution_count": 23,
     "metadata": {},
     "output_type": "execute_result"
    }
   ],
   "source": [
    "# shape() - returns no. of rows and column from matrix\n",
    "a.shape"
   ]
  },
  {
   "cell_type": "code",
   "execution_count": 27,
   "id": "7124dce4",
   "metadata": {},
   "outputs": [
    {
     "data": {
      "text/plain": [
       "3"
      ]
     },
     "execution_count": 27,
     "metadata": {},
     "output_type": "execute_result"
    }
   ],
   "source": [
    "# shape[0] - returns the no. of rows\n",
    "a.shape[0]"
   ]
  },
  {
   "cell_type": "code",
   "execution_count": 28,
   "id": "95d2f67e",
   "metadata": {},
   "outputs": [
    {
     "data": {
      "text/plain": [
       "4"
      ]
     },
     "execution_count": 28,
     "metadata": {},
     "output_type": "execute_result"
    }
   ],
   "source": [
    "# shape[1] - returns the no. of columns\n",
    "a.shape[1]"
   ]
  },
  {
   "cell_type": "code",
   "execution_count": 29,
   "id": "b64b46da",
   "metadata": {},
   "outputs": [
    {
     "data": {
      "text/plain": [
       "12"
      ]
     },
     "execution_count": 29,
     "metadata": {},
     "output_type": "execute_result"
    }
   ],
   "source": [
    "# size() - returns the number of elements in matrix\n",
    "a.size"
   ]
  },
  {
   "cell_type": "markdown",
   "id": "2c2de299",
   "metadata": {},
   "source": [
    "### Modifying matrix"
   ]
  },
  {
   "cell_type": "code",
   "execution_count": 30,
   "id": "03e833bb",
   "metadata": {},
   "outputs": [],
   "source": [
    "# using insert()\n",
    "# insert() - adds valuess at a given position and axis in a matrix\n",
    "# Syntax:- numpy.insert(matrix,obj,values,axis)\n",
    "# matrix- input matrix\n",
    "# obj- index position\n",
    "# values- matrix of values to be insert\n",
    "# axis- axis along which values should be insert"
   ]
  },
  {
   "cell_type": "code",
   "execution_count": 38,
   "id": "8f0dd25d",
   "metadata": {},
   "outputs": [
    {
     "name": "stdout",
     "output_type": "stream",
     "text": [
      "[[ 1  2  3  4]\n",
      " [ 4  5  6  7]\n",
      " [ 7  8  9 10]]\n"
     ]
    }
   ],
   "source": [
    "a = np.matrix(\"1,2,3,4;4,5,6,7;7,8,9,10\")\n",
    "print(a)"
   ]
  },
  {
   "cell_type": "code",
   "execution_count": 39,
   "id": "b0ae588b",
   "metadata": {},
   "outputs": [
    {
     "name": "stdout",
     "output_type": "stream",
     "text": [
      "[[2 3 4]]\n",
      "[[ 2  1  2  3  4]\n",
      " [ 3  4  5  6  7]\n",
      " [ 4  7  8  9 10]]\n"
     ]
    }
   ],
   "source": [
    "# adding the matrix 'col_new' as a new column to 'a'\n",
    "col_new = np.matrix(\"2,3,4\")\n",
    "print(col_new)\n",
    "a = np.insert(a,0,col_new,axis=1)\n",
    "print(a)"
   ]
  },
  {
   "cell_type": "code",
   "execution_count": 41,
   "id": "97b35d2f",
   "metadata": {},
   "outputs": [
    {
     "name": "stdout",
     "output_type": "stream",
     "text": [
      "[[4 5 6 7 9]]\n",
      "[[ 4  5  6  7  9]\n",
      " [ 2  1  2  3  4]\n",
      " [ 3  4  5  6  7]\n",
      " [ 4  7  8  9 10]]\n"
     ]
    }
   ],
   "source": [
    "# adding the matrix 'row_new' as a new row to 'a'\n",
    "row_new = np.matrix(\"4,5,6,7,9\")\n",
    "print(row_new)\n",
    "a = np.insert(a,0,row_new,axis=0)\n",
    "print(a)"
   ]
  },
  {
   "cell_type": "code",
   "execution_count": 43,
   "id": "e595197c",
   "metadata": {},
   "outputs": [
    {
     "name": "stdout",
     "output_type": "stream",
     "text": [
      "[[ 4  5  6  7  9]\n",
      " [ 2  1  2  3  4]\n",
      " [ 3  4  5  6  7]\n",
      " [ 4  7  8  9 10]]\n"
     ]
    }
   ],
   "source": [
    "# Modifying maxtrix using index\n",
    "# element of amatrix can be modified using index number\n",
    "print(a)"
   ]
  },
  {
   "cell_type": "code",
   "execution_count": 44,
   "id": "33053abb",
   "metadata": {},
   "outputs": [
    {
     "name": "stdout",
     "output_type": "stream",
     "text": [
      "[[ 4  5  6  7  9]\n",
      " [ 2 -3  2  3  4]\n",
      " [ 3  4  5  6  7]\n",
      " [ 4  7  8  9 10]]\n"
     ]
    }
   ],
   "source": [
    "# in above matrix the value 1 should be update to -3\n",
    "a[1,1]=-3\n",
    "print(a)"
   ]
  },
  {
   "cell_type": "code",
   "execution_count": 45,
   "id": "402d3709",
   "metadata": {},
   "outputs": [
    {
     "name": "stdout",
     "output_type": "stream",
     "text": [
      "6\n"
     ]
    }
   ],
   "source": [
    "# accessing element of a matrix using index\n",
    "print(a[2,3])"
   ]
  },
  {
   "cell_type": "code",
   "execution_count": 48,
   "id": "ee88bec6",
   "metadata": {},
   "outputs": [
    {
     "name": "stdout",
     "output_type": "stream",
     "text": [
      "[[ 2 -3  2  3  4]]\n"
     ]
    }
   ],
   "source": [
    "# extract elements from second row of matrix 'a'\n",
    "print(a[1,:])"
   ]
  },
  {
   "cell_type": "code",
   "execution_count": 51,
   "id": "38f5467f",
   "metadata": {},
   "outputs": [
    {
     "name": "stdout",
     "output_type": "stream",
     "text": [
      "[[6]\n",
      " [2]\n",
      " [5]\n",
      " [8]]\n"
     ]
    }
   ],
   "source": [
    "# extract elements from 3rd row of matrix 'a'\n",
    "print(a[:,2])"
   ]
  },
  {
   "cell_type": "code",
   "execution_count": 52,
   "id": "637a9ff4",
   "metadata": {},
   "outputs": [
    {
     "name": "stdout",
     "output_type": "stream",
     "text": [
      "2\n"
     ]
    }
   ],
   "source": [
    "# extract element with index(1,2) from 'a'\n",
    "print(a[1,2])"
   ]
  },
  {
   "cell_type": "markdown",
   "id": "c0da2a28",
   "metadata": {},
   "source": [
    "## Matrix operation"
   ]
  },
  {
   "cell_type": "code",
   "execution_count": 53,
   "id": "3f090060",
   "metadata": {},
   "outputs": [],
   "source": [
    "# matrix addition\n",
    "# numpy.add()- performs elementwise addition between matrices\n",
    "# Syntax:- numpy.add(matrix_1,matrix_2)"
   ]
  },
  {
   "cell_type": "code",
   "execution_count": 57,
   "id": "fd7d9a4e",
   "metadata": {},
   "outputs": [
    {
     "name": "stdout",
     "output_type": "stream",
     "text": [
      "[[ 0  1  2  3]\n",
      " [ 4  5  6  7]\n",
      " [ 8  9 10 11]\n",
      " [12 13 14 15]\n",
      " [16 17 18 19]]\n",
      "\n",
      "\n",
      "[[20 21 22 23]\n",
      " [24 25 26 27]\n",
      " [28 29 30 31]\n",
      " [32 33 34 35]\n",
      " [36 37 38 39]]\n"
     ]
    }
   ],
   "source": [
    "A = np.matrix(np.arange(0,20)).reshape(5,4)\n",
    "B = np.matrix(np.arange(20,40)).reshape(5,4)\n",
    "print(A)\n",
    "print('\\n')\n",
    "print(B)"
   ]
  },
  {
   "cell_type": "code",
   "execution_count": 58,
   "id": "5929f3b8",
   "metadata": {},
   "outputs": [
    {
     "data": {
      "text/plain": [
       "matrix([[20, 22, 24, 26],\n",
       "        [28, 30, 32, 34],\n",
       "        [36, 38, 40, 42],\n",
       "        [44, 46, 48, 50],\n",
       "        [52, 54, 56, 58]])"
      ]
     },
     "execution_count": 58,
     "metadata": {},
     "output_type": "execute_result"
    }
   ],
   "source": [
    "np.add(A,B)  # I adds elementwise"
   ]
  },
  {
   "cell_type": "code",
   "execution_count": 63,
   "id": "f45ae275",
   "metadata": {},
   "outputs": [
    {
     "data": {
      "text/plain": [
       "matrix([[-20, -20, -20, -20],\n",
       "        [-20, -20, -20, -20],\n",
       "        [-20, -20, -20, -20],\n",
       "        [-20, -20, -20, -20],\n",
       "        [-20, -20, -20, -20]])"
      ]
     },
     "execution_count": 63,
     "metadata": {},
     "output_type": "execute_result"
    }
   ],
   "source": [
    "# matrix substraction\n",
    "# numpy.subtract()- performs elementwise subtract between matrices\n",
    "# Syntax:- numpy.subtract(matrix_1,matrix_2)\n",
    "np.subtract(A,B)"
   ]
  },
  {
   "cell_type": "code",
   "execution_count": 65,
   "id": "7e5801dd",
   "metadata": {},
   "outputs": [
    {
     "ename": "ValueError",
     "evalue": "shapes (5,4) and (5,4) not aligned: 4 (dim 1) != 5 (dim 0)",
     "output_type": "error",
     "traceback": [
      "\u001b[1;31m---------------------------------------------------------------------------\u001b[0m",
      "\u001b[1;31mValueError\u001b[0m                                Traceback (most recent call last)",
      "\u001b[1;32m~\\AppData\\Local\\Temp\\ipykernel_9320\\3261117049.py\u001b[0m in \u001b[0;36m<module>\u001b[1;34m\u001b[0m\n\u001b[0;32m      2\u001b[0m \u001b[1;31m# numpy.dot()- performs elementwise multiply between matrices\u001b[0m\u001b[1;33m\u001b[0m\u001b[1;33m\u001b[0m\u001b[0m\n\u001b[0;32m      3\u001b[0m \u001b[1;31m# Syntax:- numpy.dot(matrix_1,matrix_2)\u001b[0m\u001b[1;33m\u001b[0m\u001b[1;33m\u001b[0m\u001b[0m\n\u001b[1;32m----> 4\u001b[1;33m \u001b[0mnp\u001b[0m\u001b[1;33m.\u001b[0m\u001b[0mdot\u001b[0m\u001b[1;33m(\u001b[0m\u001b[0mA\u001b[0m\u001b[1;33m,\u001b[0m\u001b[0mB\u001b[0m\u001b[1;33m)\u001b[0m\u001b[1;33m\u001b[0m\u001b[1;33m\u001b[0m\u001b[0m\n\u001b[0m",
      "\u001b[1;32m<__array_function__ internals>\u001b[0m in \u001b[0;36mdot\u001b[1;34m(*args, **kwargs)\u001b[0m\n",
      "\u001b[1;31mValueError\u001b[0m: shapes (5,4) and (5,4) not aligned: 4 (dim 1) != 5 (dim 0)"
     ]
    }
   ],
   "source": [
    "# matrix multiply\n",
    "# numpy.dot()- performs matrix multiplication between two matrices\n",
    "# Syntax:- numpy.dot(matrix_1,matrix_2)\n",
    "np.dot(A,B)\n",
    "# it gives error because for multiplication of matrices,column of first matix= row of second matrix"
   ]
  },
  {
   "cell_type": "code",
   "execution_count": 69,
   "id": "5ab0a6f2",
   "metadata": {},
   "outputs": [
    {
     "name": "stdout",
     "output_type": "stream",
     "text": [
      "[[20 24 28 32 36]\n",
      " [21 25 29 33 37]\n",
      " [22 26 30 34 38]\n",
      " [23 27 31 35 39]]\n"
     ]
    }
   ],
   "source": [
    "B = np.transpose(B)\n",
    "print(B)"
   ]
  },
  {
   "cell_type": "code",
   "execution_count": 70,
   "id": "584415d5",
   "metadata": {},
   "outputs": [
    {
     "data": {
      "text/plain": [
       "matrix([[ 134,  158,  182,  206,  230],\n",
       "        [ 478,  566,  654,  742,  830],\n",
       "        [ 822,  974, 1126, 1278, 1430],\n",
       "        [1166, 1382, 1598, 1814, 2030],\n",
       "        [1510, 1790, 2070, 2350, 2630]])"
      ]
     },
     "execution_count": 70,
     "metadata": {},
     "output_type": "execute_result"
    }
   ],
   "source": [
    "np.dot(A,B)"
   ]
  },
  {
   "cell_type": "markdown",
   "id": "a35e4ba5",
   "metadata": {},
   "source": [
    "NOTE:- we also use numpy.matmul() and @ can be also be used for matrix multipication"
   ]
  },
  {
   "cell_type": "code",
   "execution_count": 74,
   "id": "d4bf2ae0",
   "metadata": {},
   "outputs": [
    {
     "data": {
      "text/plain": [
       "matrix([[ 134,  158,  182,  206,  230],\n",
       "        [ 478,  566,  654,  742,  830],\n",
       "        [ 822,  974, 1126, 1278, 1430],\n",
       "        [1166, 1382, 1598, 1814, 2030],\n",
       "        [1510, 1790, 2070, 2350, 2630]])"
      ]
     },
     "execution_count": 74,
     "metadata": {},
     "output_type": "execute_result"
    }
   ],
   "source": [
    "A@B"
   ]
  },
  {
   "cell_type": "code",
   "execution_count": 73,
   "id": "906628d2",
   "metadata": {},
   "outputs": [
    {
     "data": {
      "text/plain": [
       "matrix([[ 134,  158,  182,  206,  230],\n",
       "        [ 478,  566,  654,  742,  830],\n",
       "        [ 822,  974, 1126, 1278, 1430],\n",
       "        [1166, 1382, 1598, 1814, 2030],\n",
       "        [1510, 1790, 2070, 2350, 2630]])"
      ]
     },
     "execution_count": 73,
     "metadata": {},
     "output_type": "execute_result"
    }
   ],
   "source": [
    "np.matmul(A,B) "
   ]
  },
  {
   "cell_type": "code",
   "execution_count": 75,
   "id": "870b62bf",
   "metadata": {},
   "outputs": [
    {
     "data": {
      "text/plain": [
       "matrix([[  0,  21,  44,  69],\n",
       "        [ 96, 125, 156, 189],\n",
       "        [224, 261, 300, 341],\n",
       "        [384, 429, 476, 525],\n",
       "        [576, 629, 684, 741]])"
      ]
     },
     "execution_count": 75,
     "metadata": {},
     "output_type": "execute_result"
    }
   ],
   "source": [
    "# WE WANT TO PERFORM ELEMENTWISE MULTIPLICATION\n",
    "# matrix elementwise multiplication\n",
    "# numpy.multiply()- performs elementwise multiply between matrices\n",
    "# Syntax:- numpy.multiply(matrix_1,matrix_2)\n",
    "np.multiply(A,np.transpose(B))"
   ]
  },
  {
   "cell_type": "code",
   "execution_count": 76,
   "id": "bfe35612",
   "metadata": {},
   "outputs": [
    {
     "data": {
      "text/plain": [
       "matrix([[0.        , 0.04761905, 0.09090909, 0.13043478],\n",
       "        [0.16666667, 0.2       , 0.23076923, 0.25925926],\n",
       "        [0.28571429, 0.31034483, 0.33333333, 0.35483871],\n",
       "        [0.375     , 0.39393939, 0.41176471, 0.42857143],\n",
       "        [0.44444444, 0.45945946, 0.47368421, 0.48717949]])"
      ]
     },
     "execution_count": 76,
     "metadata": {},
     "output_type": "execute_result"
    }
   ],
   "source": [
    "# matrix elementwise division\n",
    "# numpy.divide()- performs elementwise division between matrices\n",
    "# Syntax:- numpy.divide(matrix_1,matrix_2)\n",
    "np.divide(A,np.transpose(B))"
   ]
  },
  {
   "cell_type": "markdown",
   "id": "24f7f7b4",
   "metadata": {},
   "source": [
    "# Linear Algebra"
   ]
  },
  {
   "cell_type": "code",
   "execution_count": 77,
   "id": "29c759c7",
   "metadata": {},
   "outputs": [],
   "source": [
    "# DETERMINANT OF MATRIX"
   ]
  },
  {
   "cell_type": "code",
   "execution_count": 79,
   "id": "22342976",
   "metadata": {},
   "outputs": [
    {
     "name": "stdout",
     "output_type": "stream",
     "text": [
      "[[1 2]\n",
      " [3 4]]\n"
     ]
    }
   ],
   "source": [
    "# numpy.linalg.det() - returns determinants of matrix\n",
    "A1 = np.matrix('1,2;3,4')\n",
    "print(A1)"
   ]
  },
  {
   "cell_type": "code",
   "execution_count": 81,
   "id": "5aa8763a",
   "metadata": {},
   "outputs": [
    {
     "data": {
      "text/plain": [
       "-2.0000000000000004"
      ]
     },
     "execution_count": 81,
     "metadata": {},
     "output_type": "execute_result"
    }
   ],
   "source": [
    "np.linalg.det(A1)"
   ]
  },
  {
   "cell_type": "code",
   "execution_count": 82,
   "id": "a20f518b",
   "metadata": {},
   "outputs": [
    {
     "name": "stdout",
     "output_type": "stream",
     "text": [
      "[[ 4  5 16  7]\n",
      " [ 2 -3  2  3]\n",
      " [ 3  4  5  6]\n",
      " [ 4  7  8  9]]\n"
     ]
    }
   ],
   "source": [
    "x = np.matrix('4,5,16,7;2,-3,2,3;3,4,5,6;4,7,8,9')\n",
    "print(x)"
   ]
  },
  {
   "cell_type": "code",
   "execution_count": 84,
   "id": "2f064526",
   "metadata": {},
   "outputs": [
    {
     "name": "stdout",
     "output_type": "stream",
     "text": [
      "128.00000000000009\n"
     ]
    }
   ],
   "source": [
    "det_matix = np.linalg.det(x)\n",
    "print(det_matix)"
   ]
  },
  {
   "cell_type": "code",
   "execution_count": 85,
   "id": "e84cca0e",
   "metadata": {},
   "outputs": [],
   "source": [
    "# RANK OF MATRIX"
   ]
  },
  {
   "cell_type": "code",
   "execution_count": 86,
   "id": "3c1d063c",
   "metadata": {},
   "outputs": [
    {
     "name": "stdout",
     "output_type": "stream",
     "text": [
      "[[ 4  5 16  7]\n",
      " [ 2 -3  2  3]\n",
      " [ 3  4  5  6]\n",
      " [ 4  7  8  9]]\n",
      "4\n"
     ]
    }
   ],
   "source": [
    "# numpy.linalg.matrix_rank() - returns rank of matrix\n",
    "# Syntax:- numpy.linalg.matrix_rank(matrix)\n",
    "print(x)\n",
    "rank_matrix = np.linalg.matrix_rank(x)\n",
    "print(rank_matrix )"
   ]
  },
  {
   "cell_type": "code",
   "execution_count": 87,
   "id": "665aef2b",
   "metadata": {},
   "outputs": [],
   "source": [
    "# inverse of matrix ( A INVERSE = 1/determinants(A)* adj(A))"
   ]
  },
  {
   "cell_type": "code",
   "execution_count": 88,
   "id": "da1bb93f",
   "metadata": {},
   "outputs": [
    {
     "name": "stdout",
     "output_type": "stream",
     "text": [
      "[[3 1 2]\n",
      " [3 2 5]\n",
      " [6 7 8]]\n"
     ]
    }
   ],
   "source": [
    "# numpy.linalg.inv()- returns the multiplicative inverse of a matrix\n",
    "# Syntax:- numpy.linalg.inv(matrix)\n",
    "A = np.matrix(\"3,1,2;3,2,5;6,7,8\")\n",
    "print(A)"
   ]
  },
  {
   "cell_type": "code",
   "execution_count": 90,
   "id": "d1137f58",
   "metadata": {},
   "outputs": [
    {
     "name": "stdout",
     "output_type": "stream",
     "text": [
      "[[ 0.57575758 -0.18181818 -0.03030303]\n",
      " [-0.18181818 -0.36363636  0.27272727]\n",
      " [-0.27272727  0.45454545 -0.09090909]]\n"
     ]
    }
   ],
   "source": [
    "inv_matrix = np.linalg.inv(A)\n",
    "print(inv_matrix)"
   ]
  },
  {
   "cell_type": "code",
   "execution_count": 91,
   "id": "e4813f78",
   "metadata": {},
   "outputs": [
    {
     "name": "stdout",
     "output_type": "stream",
     "text": [
      "[[2 1 2]\n",
      " [1 0 1]\n",
      " [3 1 3]]\n"
     ]
    }
   ],
   "source": [
    "B = np.matrix(\"2,1,2;1,0,1;3,1,3\")\n",
    "print(B)"
   ]
  },
  {
   "cell_type": "code",
   "execution_count": 93,
   "id": "6bf68652",
   "metadata": {},
   "outputs": [
    {
     "data": {
      "text/plain": [
       "0.0"
      ]
     },
     "execution_count": 93,
     "metadata": {},
     "output_type": "execute_result"
    }
   ],
   "source": [
    "np.linalg.det(B)"
   ]
  },
  {
   "cell_type": "code",
   "execution_count": 92,
   "id": "79486c52",
   "metadata": {
    "scrolled": true
   },
   "outputs": [
    {
     "ename": "LinAlgError",
     "evalue": "Singular matrix",
     "output_type": "error",
     "traceback": [
      "\u001b[1;31m---------------------------------------------------------------------------\u001b[0m",
      "\u001b[1;31mLinAlgError\u001b[0m                               Traceback (most recent call last)",
      "\u001b[1;32m~\\AppData\\Local\\Temp\\ipykernel_9320\\4010996050.py\u001b[0m in \u001b[0;36m<module>\u001b[1;34m\u001b[0m\n\u001b[1;32m----> 1\u001b[1;33m \u001b[0minverse_matrix\u001b[0m \u001b[1;33m=\u001b[0m \u001b[0mnp\u001b[0m\u001b[1;33m.\u001b[0m\u001b[0mlinalg\u001b[0m\u001b[1;33m.\u001b[0m\u001b[0minv\u001b[0m\u001b[1;33m(\u001b[0m\u001b[0mB\u001b[0m\u001b[1;33m)\u001b[0m\u001b[1;33m\u001b[0m\u001b[1;33m\u001b[0m\u001b[0m\n\u001b[0m\u001b[0;32m      2\u001b[0m \u001b[0mprint\u001b[0m\u001b[1;33m(\u001b[0m\u001b[0mnp\u001b[0m\u001b[1;33m.\u001b[0m\u001b[0mlinalg\u001b[0m\u001b[1;33m.\u001b[0m\u001b[0minv\u001b[0m\u001b[1;33m(\u001b[0m\u001b[0mA\u001b[0m\u001b[1;33m)\u001b[0m\u001b[1;33m)\u001b[0m\u001b[1;33m\u001b[0m\u001b[1;33m\u001b[0m\u001b[0m\n",
      "\u001b[1;32m<__array_function__ internals>\u001b[0m in \u001b[0;36minv\u001b[1;34m(*args, **kwargs)\u001b[0m\n",
      "\u001b[1;32m~\\AppData\\Local\\Programs\\Python\\Python39\\lib\\site-packages\\numpy\\linalg\\linalg.py\u001b[0m in \u001b[0;36minv\u001b[1;34m(a)\u001b[0m\n\u001b[0;32m    543\u001b[0m     \u001b[0msignature\u001b[0m \u001b[1;33m=\u001b[0m \u001b[1;34m'D->D'\u001b[0m \u001b[1;32mif\u001b[0m \u001b[0misComplexType\u001b[0m\u001b[1;33m(\u001b[0m\u001b[0mt\u001b[0m\u001b[1;33m)\u001b[0m \u001b[1;32melse\u001b[0m \u001b[1;34m'd->d'\u001b[0m\u001b[1;33m\u001b[0m\u001b[1;33m\u001b[0m\u001b[0m\n\u001b[0;32m    544\u001b[0m     \u001b[0mextobj\u001b[0m \u001b[1;33m=\u001b[0m \u001b[0mget_linalg_error_extobj\u001b[0m\u001b[1;33m(\u001b[0m\u001b[0m_raise_linalgerror_singular\u001b[0m\u001b[1;33m)\u001b[0m\u001b[1;33m\u001b[0m\u001b[1;33m\u001b[0m\u001b[0m\n\u001b[1;32m--> 545\u001b[1;33m     \u001b[0mainv\u001b[0m \u001b[1;33m=\u001b[0m \u001b[0m_umath_linalg\u001b[0m\u001b[1;33m.\u001b[0m\u001b[0minv\u001b[0m\u001b[1;33m(\u001b[0m\u001b[0ma\u001b[0m\u001b[1;33m,\u001b[0m \u001b[0msignature\u001b[0m\u001b[1;33m=\u001b[0m\u001b[0msignature\u001b[0m\u001b[1;33m,\u001b[0m \u001b[0mextobj\u001b[0m\u001b[1;33m=\u001b[0m\u001b[0mextobj\u001b[0m\u001b[1;33m)\u001b[0m\u001b[1;33m\u001b[0m\u001b[1;33m\u001b[0m\u001b[0m\n\u001b[0m\u001b[0;32m    546\u001b[0m     \u001b[1;32mreturn\u001b[0m \u001b[0mwrap\u001b[0m\u001b[1;33m(\u001b[0m\u001b[0mainv\u001b[0m\u001b[1;33m.\u001b[0m\u001b[0mastype\u001b[0m\u001b[1;33m(\u001b[0m\u001b[0mresult_t\u001b[0m\u001b[1;33m,\u001b[0m \u001b[0mcopy\u001b[0m\u001b[1;33m=\u001b[0m\u001b[1;32mFalse\u001b[0m\u001b[1;33m)\u001b[0m\u001b[1;33m)\u001b[0m\u001b[1;33m\u001b[0m\u001b[1;33m\u001b[0m\u001b[0m\n\u001b[0;32m    547\u001b[0m \u001b[1;33m\u001b[0m\u001b[0m\n",
      "\u001b[1;32m~\\AppData\\Local\\Programs\\Python\\Python39\\lib\\site-packages\\numpy\\linalg\\linalg.py\u001b[0m in \u001b[0;36m_raise_linalgerror_singular\u001b[1;34m(err, flag)\u001b[0m\n\u001b[0;32m     86\u001b[0m \u001b[1;33m\u001b[0m\u001b[0m\n\u001b[0;32m     87\u001b[0m \u001b[1;32mdef\u001b[0m \u001b[0m_raise_linalgerror_singular\u001b[0m\u001b[1;33m(\u001b[0m\u001b[0merr\u001b[0m\u001b[1;33m,\u001b[0m \u001b[0mflag\u001b[0m\u001b[1;33m)\u001b[0m\u001b[1;33m:\u001b[0m\u001b[1;33m\u001b[0m\u001b[1;33m\u001b[0m\u001b[0m\n\u001b[1;32m---> 88\u001b[1;33m     \u001b[1;32mraise\u001b[0m \u001b[0mLinAlgError\u001b[0m\u001b[1;33m(\u001b[0m\u001b[1;34m\"Singular matrix\"\u001b[0m\u001b[1;33m)\u001b[0m\u001b[1;33m\u001b[0m\u001b[1;33m\u001b[0m\u001b[0m\n\u001b[0m\u001b[0;32m     89\u001b[0m \u001b[1;33m\u001b[0m\u001b[0m\n\u001b[0;32m     90\u001b[0m \u001b[1;32mdef\u001b[0m \u001b[0m_raise_linalgerror_nonposdef\u001b[0m\u001b[1;33m(\u001b[0m\u001b[0merr\u001b[0m\u001b[1;33m,\u001b[0m \u001b[0mflag\u001b[0m\u001b[1;33m)\u001b[0m\u001b[1;33m:\u001b[0m\u001b[1;33m\u001b[0m\u001b[1;33m\u001b[0m\u001b[0m\n",
      "\u001b[1;31mLinAlgError\u001b[0m: Singular matrix"
     ]
    }
   ],
   "source": [
    "inverse_matrix = np.linalg.inv(B)\n",
    "print(np.linalg.inv(A)) ## IT SHOW ERROR BECAUSE WE KNOW,inverse does not exist for a singular matrix"
   ]
  },
  {
   "cell_type": "markdown",
   "id": "5f5857c3",
   "metadata": {},
   "source": [
    "## System of Linear equation"
   ]
  },
  {
   "cell_type": "code",
   "execution_count": 94,
   "id": "167ed35f",
   "metadata": {},
   "outputs": [],
   "source": [
    "# consider three equation\n",
    "#        3x+y+2z=2\n",
    "#        3x+2y+5z=-1\n",
    "#        6x+7y+8z=3\n",
    "\n",
    "# we can write in the form of  Ax=b\n",
    "# x = inv(A)*b"
   ]
  },
  {
   "cell_type": "code",
   "execution_count": 95,
   "id": "0d38ebb1",
   "metadata": {},
   "outputs": [],
   "source": [
    "# numpy.linalg.solve() - returns the solution of Ax=b\n",
    "# Syntax:- numpy.linalg.solve(matrix_A,matrix_b)"
   ]
  },
  {
   "cell_type": "code",
   "execution_count": 96,
   "id": "23a6986d",
   "metadata": {},
   "outputs": [
    {
     "name": "stdout",
     "output_type": "stream",
     "text": [
      "[[3 1 2]\n",
      " [3 2 5]\n",
      " [6 7 8]]\n",
      "\n",
      "\n",
      "[[ 2]\n",
      " [-1]\n",
      " [ 3]]\n"
     ]
    }
   ],
   "source": [
    "A = np.matrix('3,1,2;3,2,5;6,7,8')\n",
    "b = np.matrix('2;-1;3') # we can also weite as b = np.matrix('2,-1,3').transpose()\n",
    "print(A)\n",
    "print('\\n')\n",
    "print(b)"
   ]
  },
  {
   "cell_type": "code",
   "execution_count": 102,
   "id": "94cbb296",
   "metadata": {},
   "outputs": [
    {
     "name": "stdout",
     "output_type": "stream",
     "text": [
      "[[ 1.24242424]\n",
      " [ 0.81818182]\n",
      " [-1.27272727]]\n"
     ]
    }
   ],
   "source": [
    "sol_linear = np.linalg.solve(A,b)\n",
    "print(sol_linear)"
   ]
  }
 ],
 "metadata": {
  "kernelspec": {
   "display_name": "Python 3 (ipykernel)",
   "language": "python",
   "name": "python3"
  },
  "language_info": {
   "codemirror_mode": {
    "name": "ipython",
    "version": 3
   },
   "file_extension": ".py",
   "mimetype": "text/x-python",
   "name": "python",
   "nbconvert_exporter": "python",
   "pygments_lexer": "ipython3",
   "version": "3.9.7"
  }
 },
 "nbformat": 4,
 "nbformat_minor": 5
}
